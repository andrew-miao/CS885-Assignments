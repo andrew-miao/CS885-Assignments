{
  "nbformat": 4,
  "nbformat_minor": 0,
  "metadata": {
    "colab": {
      "name": "cs885_dqn_tutorial.ipynb",
      "provenance": [],
      "collapsed_sections": [],
      "machine_shape": "hm"
    },
    "kernelspec": {
      "display_name": "Python 3",
      "language": "python",
      "name": "python3"
    },
    "pycharm": {
      "stem_cell": {
        "cell_type": "raw",
        "metadata": {
          "collapsed": false
        },
        "source": []
      }
    },
    "accelerator": "GPU"
  },
  "cells": [
    {
      "cell_type": "markdown",
      "metadata": {
        "id": "klGNgWREsvQv"
      },
      "source": [
        "##### Copyright 2018 The TF-Agents Authors.\n",
        "\n",
        "This tutorial was modified slightly for the purpose of CS885 by Pascal Poupart"
      ]
    },
    {
      "cell_type": "code",
      "metadata": {
        "id": "nQnmcm0oI1Q-"
      },
      "source": [
        "#@title Licensed under the Apache License, Version 2.0 (the \"License\");\n",
        "# you may not use this file except in compliance with the License.\n",
        "# You may obtain a copy of the License at\n",
        "#\n",
        "# https://www.apache.org/licenses/LICENSE-2.0\n",
        "#\n",
        "# Unless required by applicable law or agreed to in writing, software\n",
        "# distributed under the License is distributed on an \"AS IS\" BASIS,\n",
        "# WITHOUT WARRANTIES OR CONDITIONS OF ANY KIND, either express or implied.\n",
        "# See the License for the specific language governing permissions and\n",
        "# limitations under the License."
      ],
      "execution_count": 1,
      "outputs": []
    },
    {
      "cell_type": "markdown",
      "metadata": {
        "id": "pmDI-h7cI0tI"
      },
      "source": [
        "# Train a Deep Q Network with TF-Agents\n",
        "\n"
      ]
    },
    {
      "cell_type": "markdown",
      "metadata": {
        "id": "lsaQlK8fFQqH"
      },
      "source": [
        "## Introduction\n"
      ]
    },
    {
      "cell_type": "markdown",
      "metadata": {
        "id": "cKOCZlhUgXVK"
      },
      "source": [
        "This example shows how to train a [DQN (Deep Q Networks)](https://storage.googleapis.com/deepmind-media/dqn/DQNNaturePaper.pdf)  agent on the Cartpole environment using the TF-Agents library.\n",
        "\n",
        "![Cartpole environment](https://raw.githubusercontent.com/tensorflow/agents/master/docs/tutorials/images/cartpole.png)\n",
        "\n",
        "It will walk you through all the components in a Reinforcement Learning (RL) pipeline for training, evaluation and data collection.\n",
        "\n",
        "\n",
        "To run this code live, click the 'Run in Google Colab' link above.\n"
      ]
    },
    {
      "cell_type": "markdown",
      "metadata": {
        "id": "1u9QVVsShC9X"
      },
      "source": [
        "## Setup"
      ]
    },
    {
      "cell_type": "markdown",
      "metadata": {
        "id": "kNrNXKI7bINP"
      },
      "source": [
        "If you haven't installed the following dependencies, run:"
      ]
    },
    {
      "cell_type": "code",
      "metadata": {
        "id": "KEHR2Ui-lo8O",
        "colab": {
          "base_uri": "https://localhost:8080/"
        },
        "outputId": "9aa7e643-cbad-4063-b45f-43aaa0bb6b08"
      },
      "source": [
        "!sudo apt-get update\n",
        "!sudo apt-get install -y xvfb ffmpeg\n",
        "!pip install 'imageio==2.4.0'\n",
        "!pip install pyvirtualdisplay\n",
        "!pip install tf-agents"
      ],
      "execution_count": 2,
      "outputs": [
        {
          "output_type": "stream",
          "name": "stdout",
          "text": [
            "Hit:1 https://cloud.r-project.org/bin/linux/ubuntu bionic-cran40/ InRelease\n",
            "Ign:2 https://developer.download.nvidia.com/compute/cuda/repos/ubuntu1804/x86_64  InRelease\n",
            "Hit:3 http://security.ubuntu.com/ubuntu bionic-security InRelease\n",
            "Ign:4 https://developer.download.nvidia.com/compute/machine-learning/repos/ubuntu1804/x86_64  InRelease\n",
            "Hit:5 https://developer.download.nvidia.com/compute/cuda/repos/ubuntu1804/x86_64  Release\n",
            "Hit:6 https://developer.download.nvidia.com/compute/machine-learning/repos/ubuntu1804/x86_64  Release\n",
            "Hit:7 http://ppa.launchpad.net/c2d4u.team/c2d4u4.0+/ubuntu bionic InRelease\n",
            "Hit:10 http://archive.ubuntu.com/ubuntu bionic InRelease\n",
            "Get:11 http://archive.ubuntu.com/ubuntu bionic-updates InRelease [88.7 kB]\n",
            "Hit:12 http://ppa.launchpad.net/cran/libgit2/ubuntu bionic InRelease\n",
            "Hit:13 http://ppa.launchpad.net/deadsnakes/ppa/ubuntu bionic InRelease\n",
            "Get:14 http://archive.ubuntu.com/ubuntu bionic-backports InRelease [74.6 kB]\n",
            "Hit:15 http://ppa.launchpad.net/graphics-drivers/ppa/ubuntu bionic InRelease\n",
            "Fetched 163 kB in 2s (81.4 kB/s)\n",
            "Reading package lists... Done\n",
            "Reading package lists... Done\n",
            "Building dependency tree       \n",
            "Reading state information... Done\n",
            "ffmpeg is already the newest version (7:3.4.8-0ubuntu0.2).\n",
            "xvfb is already the newest version (2:1.19.6-1ubuntu4.9).\n",
            "0 upgraded, 0 newly installed, 0 to remove and 61 not upgraded.\n",
            "Requirement already satisfied: imageio==2.4.0 in /usr/local/lib/python3.7/dist-packages (2.4.0)\n",
            "Requirement already satisfied: pillow in /usr/local/lib/python3.7/dist-packages (from imageio==2.4.0) (7.1.2)\n",
            "Requirement already satisfied: numpy in /usr/local/lib/python3.7/dist-packages (from imageio==2.4.0) (1.19.5)\n",
            "Requirement already satisfied: pyvirtualdisplay in /usr/local/lib/python3.7/dist-packages (2.2)\n",
            "Requirement already satisfied: EasyProcess in /usr/local/lib/python3.7/dist-packages (from pyvirtualdisplay) (0.3)\n",
            "Requirement already satisfied: tf-agents in /usr/local/lib/python3.7/dist-packages (0.9.0)\n",
            "Requirement already satisfied: tensorflow-probability>=0.13.0 in /usr/local/lib/python3.7/dist-packages (from tf-agents) (0.13.0)\n",
            "Requirement already satisfied: typing-extensions>=3.7.4.3 in /usr/local/lib/python3.7/dist-packages (from tf-agents) (3.7.4.3)\n",
            "Requirement already satisfied: wrapt>=1.11.1 in /usr/local/lib/python3.7/dist-packages (from tf-agents) (1.12.1)\n",
            "Requirement already satisfied: cloudpickle>=1.3 in /usr/local/lib/python3.7/dist-packages (from tf-agents) (1.3.0)\n",
            "Requirement already satisfied: six>=1.10.0 in /usr/local/lib/python3.7/dist-packages (from tf-agents) (1.15.0)\n",
            "Requirement already satisfied: gin-config>=0.4.0 in /usr/local/lib/python3.7/dist-packages (from tf-agents) (0.4.0)\n",
            "Requirement already satisfied: gym>=0.17.0 in /usr/local/lib/python3.7/dist-packages (from tf-agents) (0.17.3)\n",
            "Requirement already satisfied: absl-py>=0.6.1 in /usr/local/lib/python3.7/dist-packages (from tf-agents) (0.12.0)\n",
            "Requirement already satisfied: protobuf>=3.11.3 in /usr/local/lib/python3.7/dist-packages (from tf-agents) (3.17.3)\n",
            "Requirement already satisfied: numpy>=1.13.3 in /usr/local/lib/python3.7/dist-packages (from tf-agents) (1.19.5)\n",
            "Requirement already satisfied: scipy in /usr/local/lib/python3.7/dist-packages (from gym>=0.17.0->tf-agents) (1.4.1)\n",
            "Requirement already satisfied: pyglet<=1.5.0,>=1.4.0 in /usr/local/lib/python3.7/dist-packages (from gym>=0.17.0->tf-agents) (1.5.0)\n",
            "Requirement already satisfied: future in /usr/local/lib/python3.7/dist-packages (from pyglet<=1.5.0,>=1.4.0->gym>=0.17.0->tf-agents) (0.16.0)\n",
            "Requirement already satisfied: dm-tree in /usr/local/lib/python3.7/dist-packages (from tensorflow-probability>=0.13.0->tf-agents) (0.1.6)\n",
            "Requirement already satisfied: decorator in /usr/local/lib/python3.7/dist-packages (from tensorflow-probability>=0.13.0->tf-agents) (4.4.2)\n",
            "Requirement already satisfied: gast>=0.3.2 in /usr/local/lib/python3.7/dist-packages (from tensorflow-probability>=0.13.0->tf-agents) (0.4.0)\n"
          ]
        }
      ]
    },
    {
      "cell_type": "code",
      "metadata": {
        "id": "sMitx5qSgJk1"
      },
      "source": [
        "from __future__ import absolute_import, division, print_function\n",
        "\n",
        "import base64\n",
        "import imageio\n",
        "import IPython\n",
        "import matplotlib\n",
        "import matplotlib.pyplot as plt\n",
        "import numpy as np\n",
        "import PIL.Image\n",
        "import pyvirtualdisplay\n",
        "\n",
        "import tensorflow as tf\n",
        "\n",
        "from tf_agents.agents.dqn import dqn_agent\n",
        "from tf_agents.drivers import dynamic_step_driver\n",
        "from tf_agents.environments import suite_gym\n",
        "from tf_agents.environments import tf_py_environment\n",
        "from tf_agents.eval import metric_utils\n",
        "from tf_agents.metrics import tf_metrics\n",
        "from tf_agents.networks import q_network\n",
        "from tf_agents.policies import random_tf_policy\n",
        "from tf_agents.replay_buffers import tf_uniform_replay_buffer\n",
        "from tf_agents.trajectories import trajectory\n",
        "from tf_agents.utils import common"
      ],
      "execution_count": 3,
      "outputs": []
    },
    {
      "cell_type": "code",
      "metadata": {
        "id": "J6HsdS5GbSjd"
      },
      "source": [
        "tf.compat.v1.enable_v2_behavior()\n",
        "\n",
        "# Set up a virtual display for rendering OpenAI gym environments.\n",
        "display = pyvirtualdisplay.Display(visible=0, size=(1400, 900)).start()"
      ],
      "execution_count": 4,
      "outputs": []
    },
    {
      "cell_type": "code",
      "metadata": {
        "id": "NspmzG4nP3b9",
        "colab": {
          "base_uri": "https://localhost:8080/",
          "height": 35
        },
        "outputId": "cadc7efa-4ba2-4f78-9d0e-3c6a94bc2861"
      },
      "source": [
        "tf.version.VERSION"
      ],
      "execution_count": 5,
      "outputs": [
        {
          "output_type": "execute_result",
          "data": {
            "application/vnd.google.colaboratory.intrinsic+json": {
              "type": "string"
            },
            "text/plain": [
              "'2.6.0'"
            ]
          },
          "metadata": {},
          "execution_count": 5
        }
      ]
    },
    {
      "cell_type": "markdown",
      "metadata": {
        "id": "LmC0NDhdLIKY"
      },
      "source": [
        "## Hyperparameters"
      ]
    },
    {
      "cell_type": "code",
      "metadata": {
        "id": "HC1kNrOsLSIZ"
      },
      "source": [
        "num_iterations = 20000 # @param {type:\"integer\"}\n",
        "\n",
        "initial_collect_steps = 1000  # @param {type:\"integer\"} \n",
        "collect_steps_per_iteration = 1  # @param {type:\"integer\"}\n",
        "replay_buffer_max_length = 100000  # @param {type:\"integer\"}\n",
        "\n",
        "# amount of data sampled from the replay buffer to compute the gradient\n",
        "batch_size = 30  # @param {type:\"integer\"}\n",
        "\n",
        "learning_rate = 1e-3  # @param {type:\"number\"}\n",
        "log_interval = 200  # @param {type:\"integer\"}\n",
        "\n",
        "num_eval_episodes = 10  # @param {type:\"integer\"}\n",
        "eval_interval = 1000  # @param {type:\"integer\"}\n",
        "\n",
        "# target network is updated every \"target_update_period\" iterations\n",
        "target_update_period = 10 # @param {type:\"integer\"}"
      ],
      "execution_count": 6,
      "outputs": []
    },
    {
      "cell_type": "markdown",
      "metadata": {
        "id": "VMsJC3DEgI0x"
      },
      "source": [
        "## Environment\n",
        "\n",
        "In Reinforcement Learning (RL), an environment represents the task or problem to be solved. Standard environments can be created in TF-Agents using `tf_agents.environments` suites. TF-Agents has suites for loading environments from sources such as the OpenAI Gym, Atari, and DM Control.\n",
        "\n",
        "Load the CartPole environment from the OpenAI Gym suite. "
      ]
    },
    {
      "cell_type": "code",
      "metadata": {
        "id": "pYEz-S9gEv2-"
      },
      "source": [
        "env_name = 'CartPole-v0'\n",
        "env = suite_gym.load(env_name)"
      ],
      "execution_count": 7,
      "outputs": []
    },
    {
      "cell_type": "markdown",
      "metadata": {
        "id": "IIHYVBkuvPNw"
      },
      "source": [
        "You can render this environment to see how it looks. A free-swinging pole is attached to a cart.  The goal is to move the cart right or left in order to keep the pole pointing up."
      ]
    },
    {
      "cell_type": "code",
      "metadata": {
        "id": "RlO7WIQHu_7D",
        "colab": {
          "base_uri": "https://localhost:8080/",
          "height": 416
        },
        "outputId": "a34ee8bf-d1a1-4336-95d1-9baa21395e1e"
      },
      "source": [
        "# @test {\"skip\": true}\n",
        "env.reset()\n",
        "PIL.Image.fromarray(env.render())"
      ],
      "execution_count": 8,
      "outputs": [
        {
          "output_type": "execute_result",
          "data": {
            "image/png": "[encoded data removed]",
            "text/plain": [
              "<PIL.Image.Image image mode=RGB size=600x400 at 0x7F50AEBF90D0>"
            ]
          },
          "metadata": {},
          "execution_count": 8
        }
      ]
    },
    {
      "cell_type": "markdown",
      "metadata": {
        "id": "B9_lskPOey18"
      },
      "source": [
        "The `environment.step` method takes an `action` in the environment and returns a `TimeStep` tuple containing the next observation of the environment and the reward for the action.\n",
        "\n",
        "The `time_step_spec()` method returns the specification for the `TimeStep` tuple. Its `observation` attribute shows the shape of observations, the data types, and the ranges of allowed values. The `reward` attribute shows the same details for the reward.\n"
      ]
    },
    {
      "cell_type": "code",
      "metadata": {
        "id": "exDv57iHfwQV",
        "colab": {
          "base_uri": "https://localhost:8080/"
        },
        "outputId": "2b8714ce-0809-4db9-a3dc-469bf4cef4ec"
      },
      "source": [
        "print('Observation Spec:')\n",
        "print(env.time_step_spec().observation)"
      ],
      "execution_count": 9,
      "outputs": [
        {
          "output_type": "stream",
          "name": "stdout",
          "text": [
            "Observation Spec:\n",
            "BoundedArraySpec(shape=(4,), dtype=dtype('float32'), name='observation', minimum=[-4.8000002e+00 -3.4028235e+38 -4.1887903e-01 -3.4028235e+38], maximum=[4.8000002e+00 3.4028235e+38 4.1887903e-01 3.4028235e+38])\n"
          ]
        }
      ]
    },
    {
      "cell_type": "code",
      "metadata": {
        "id": "UxiSyCbBUQPi",
        "colab": {
          "base_uri": "https://localhost:8080/"
        },
        "outputId": "76c065c0-3e57-4eec-c892-283e22042c9a"
      },
      "source": [
        "print('Reward Spec:')\n",
        "print(env.time_step_spec().reward)"
      ],
      "execution_count": 10,
      "outputs": [
        {
          "output_type": "stream",
          "name": "stdout",
          "text": [
            "Reward Spec:\n",
            "ArraySpec(shape=(), dtype=dtype('float32'), name='reward')\n"
          ]
        }
      ]
    },
    {
      "cell_type": "markdown",
      "metadata": {
        "id": "b_lHcIcqUaqB"
      },
      "source": [
        "The `action_spec()` method returns the shape, data types, and allowed values of valid actions."
      ]
    },
    {
      "cell_type": "code",
      "metadata": {
        "id": "bttJ4uxZUQBr",
        "colab": {
          "base_uri": "https://localhost:8080/"
        },
        "outputId": "ee90075a-530b-4070-8cc6-1d83dd49663a"
      },
      "source": [
        "print('Action Spec:')\n",
        "print(env.action_spec())"
      ],
      "execution_count": 11,
      "outputs": [
        {
          "output_type": "stream",
          "name": "stdout",
          "text": [
            "Action Spec:\n",
            "BoundedArraySpec(shape=(), dtype=dtype('int64'), name='action', minimum=0, maximum=1)\n"
          ]
        }
      ]
    },
    {
      "cell_type": "markdown",
      "metadata": {
        "id": "eJCgJnx3g0yY"
      },
      "source": [
        "In the Cartpole environment:\n",
        "\n",
        "-   `observation` is an array of 4 floats: \n",
        "    -   the position and velocity of the cart\n",
        "    -   the angular position and velocity of the pole \n",
        "-   `reward` is a scalar float value\n",
        "-   `action` is a scalar integer with only two possible values:\n",
        "    -   `0` — \"move left\"\n",
        "    -   `1` — \"move right\"\n"
      ]
    },
    {
      "cell_type": "code",
      "metadata": {
        "id": "V2UGR5t_iZX-",
        "colab": {
          "base_uri": "https://localhost:8080/"
        },
        "outputId": "cbfc9f01-3f0f-4f8a-b7a0-5ca31aeb339b"
      },
      "source": [
        "time_step = env.reset()\n",
        "print('Time step:')\n",
        "print(time_step)\n",
        "\n",
        "action = np.array(1, dtype=np.int32)\n",
        "\n",
        "next_time_step = env.step(action)\n",
        "print('Next time step:')\n",
        "print(next_time_step)"
      ],
      "execution_count": 12,
      "outputs": [
        {
          "output_type": "stream",
          "name": "stdout",
          "text": [
            "Time step:\n",
            "TimeStep(\n",
            "{'discount': array(1., dtype=float32),\n",
            " 'observation': array([-0.03999566, -0.01184607,  0.00711072, -0.02565701], dtype=float32),\n",
            " 'reward': array(0., dtype=float32),\n",
            " 'step_type': array(0, dtype=int32)})\n",
            "Next time step:\n",
            "TimeStep(\n",
            "{'discount': array(1., dtype=float32),\n",
            " 'observation': array([-0.04023258,  0.1831732 ,  0.00659758, -0.31608796], dtype=float32),\n",
            " 'reward': array(1., dtype=float32),\n",
            " 'step_type': array(1, dtype=int32)})\n"
          ]
        }
      ]
    },
    {
      "cell_type": "markdown",
      "metadata": {
        "id": "4JSc9GviWUBK"
      },
      "source": [
        "Usually two environments are instantiated: one for training and one for evaluation. "
      ]
    },
    {
      "cell_type": "code",
      "metadata": {
        "id": "N7brXNIGWXjC"
      },
      "source": [
        "train_py_env = suite_gym.load(env_name)\n",
        "eval_py_env = suite_gym.load(env_name)"
      ],
      "execution_count": 13,
      "outputs": []
    },
    {
      "cell_type": "markdown",
      "metadata": {
        "id": "zuUqXAVmecTU"
      },
      "source": [
        "The Cartpole environment, like most environments, is written in pure Python. This is converted to TensorFlow using the `TFPyEnvironment` wrapper.\n",
        "\n",
        "The original environment's API uses Numpy arrays. The `TFPyEnvironment` converts these to `Tensors` to make it compatible with Tensorflow agents and policies.\n"
      ]
    },
    {
      "cell_type": "code",
      "metadata": {
        "id": "Xp-Y4mD6eDhF"
      },
      "source": [
        "train_env = tf_py_environment.TFPyEnvironment(train_py_env)\n",
        "eval_env = tf_py_environment.TFPyEnvironment(eval_py_env)"
      ],
      "execution_count": 14,
      "outputs": []
    },
    {
      "cell_type": "markdown",
      "metadata": {
        "id": "E9lW_OZYFR8A"
      },
      "source": [
        "## Agent\n",
        "\n",
        "The algorithm used to solve an RL problem is represented by an `Agent`. TF-Agents provides standard implementations of a variety of `Agents`, including:\n",
        "\n",
        "-   [DQN](https://storage.googleapis.com/deepmind-media/dqn/DQNNaturePaper.pdf) (used in this tutorial)\n",
        "-   [REINFORCE](http://www-anw.cs.umass.edu/~barto/courses/cs687/williams92simple.pdf)\n",
        "-   [DDPG](https://arxiv.org/pdf/1509.02971.pdf)\n",
        "-   [TD3](https://arxiv.org/pdf/1802.09477.pdf)\n",
        "-   [PPO](https://arxiv.org/abs/1707.06347)\n",
        "-   [SAC](https://arxiv.org/abs/1801.01290).\n",
        "\n",
        "The DQN agent can be used in any environment which has a discrete action space.\n",
        "\n",
        "At the heart of a DQN Agent is a `QNetwork`, a neural network model that can learn to predict `QValues` (expected returns) for all actions, given an observation from the environment.\n",
        "\n",
        "Use `tf_agents.networks.q_network` to create a `QNetwork`, passing in the `observation_spec`, `action_spec`, and a tuple describing the number and size of the model's hidden layers.\n"
      ]
    },
    {
      "cell_type": "code",
      "metadata": {
        "id": "TgkdEPg_muzV"
      },
      "source": [
        "fc_layer_params = (100,)\n",
        "\n",
        "q_net = q_network.QNetwork(\n",
        "    train_env.observation_spec(),\n",
        "    train_env.action_spec(),\n",
        "    fc_layer_params=fc_layer_params)"
      ],
      "execution_count": 15,
      "outputs": []
    },
    {
      "cell_type": "markdown",
      "metadata": {
        "id": "z62u55hSmviJ"
      },
      "source": [
        "Now use `tf_agents.agents.dqn.dqn_agent` to instantiate a `DqnAgent`. In addition to the `time_step_spec`, `action_spec` and the QNetwork, the agent constructor also requires an optimizer (in this case, `AdamOptimizer`), a loss function, and an integer step counter."
      ]
    },
    {
      "cell_type": "code",
      "metadata": {
        "id": "jbY4yrjTEyc9"
      },
      "source": [
        "optimizer = tf.compat.v1.train.AdamOptimizer(learning_rate=learning_rate)\n",
        "\n",
        "train_step_counter = tf.Variable(0)\n",
        "\n",
        "agent = dqn_agent.DqnAgent(\n",
        "    train_env.time_step_spec(),\n",
        "    train_env.action_spec(),\n",
        "    q_network=q_net,\n",
        "    optimizer=optimizer,\n",
        "    td_errors_loss_fn=common.element_wise_squared_loss,\n",
        "    train_step_counter=train_step_counter,\n",
        "    target_update_period=target_update_period)\n",
        "\n",
        "agent.initialize()"
      ],
      "execution_count": 16,
      "outputs": []
    },
    {
      "cell_type": "code",
      "metadata": {
        "colab": {
          "base_uri": "https://localhost:8080/"
        },
        "id": "P5edb_mM1CaX",
        "outputId": "e2ee1514-8e75-43b8-94b8-14ea46a58837"
      },
      "source": [
        "agent.training_data_spec"
      ],
      "execution_count": 17,
      "outputs": [
        {
          "output_type": "execute_result",
          "data": {
            "text/plain": [
              "Trajectory(\n",
              "{'action': BoundedTensorSpec(shape=(), dtype=tf.int64, name='action', minimum=array(0), maximum=array(1)),\n",
              " 'discount': BoundedTensorSpec(shape=(), dtype=tf.float32, name='discount', minimum=array(0., dtype=float32), maximum=array(1., dtype=float32)),\n",
              " 'next_step_type': TensorSpec(shape=(), dtype=tf.int32, name='step_type'),\n",
              " 'observation': BoundedTensorSpec(shape=(4,), dtype=tf.float32, name='observation', minimum=array([-4.8000002e+00, -3.4028235e+38, -4.1887903e-01, -3.4028235e+38],\n",
              "      dtype=float32), maximum=array([4.8000002e+00, 3.4028235e+38, 4.1887903e-01, 3.4028235e+38],\n",
              "      dtype=float32)),\n",
              " 'policy_info': (),\n",
              " 'reward': TensorSpec(shape=(), dtype=tf.float32, name='reward'),\n",
              " 'step_type': TensorSpec(shape=(), dtype=tf.int32, name='step_type')})"
            ]
          },
          "metadata": {},
          "execution_count": 17
        }
      ]
    },
    {
      "cell_type": "markdown",
      "metadata": {
        "id": "I0KLrEPwkn5x"
      },
      "source": [
        "## Policies\n",
        "\n",
        "A policy defines the way an agent acts in an environment. Typically, the goal of reinforcement learning is to train the underlying model until the policy produces the desired outcome.\n",
        "\n",
        "In this tutorial:\n",
        "\n",
        "-   The desired outcome is keeping the pole balanced upright over the cart.\n",
        "-   The policy returns an action (left or right) for each `time_step` observation.\n",
        "\n",
        "Agents contain two policies: \n",
        "\n",
        "-   `agent.policy` — The main policy that is used for evaluation and deployment.\n",
        "-   `agent.collect_policy` — A second policy that is used for data collection.\n"
      ]
    },
    {
      "cell_type": "code",
      "metadata": {
        "id": "BwY7StuMkuV4"
      },
      "source": [
        "eval_policy = agent.policy\n",
        "collect_policy = agent.collect_policy"
      ],
      "execution_count": 18,
      "outputs": []
    },
    {
      "cell_type": "markdown",
      "metadata": {
        "id": "2Qs1Fl3dV0ae"
      },
      "source": [
        "Policies can be created independently of agents. For example, use `tf_agents.policies.random_tf_policy` to create a policy which will randomly select an action for each `time_step`."
      ]
    },
    {
      "cell_type": "code",
      "metadata": {
        "id": "HE37-UCIrE69"
      },
      "source": [
        "random_policy = random_tf_policy.RandomTFPolicy(train_env.time_step_spec(),\n",
        "                                                train_env.action_spec())"
      ],
      "execution_count": 19,
      "outputs": []
    },
    {
      "cell_type": "markdown",
      "metadata": {
        "id": "dOlnlRRsUbxP"
      },
      "source": [
        "To get an action from a policy, call the `policy.action(time_step)` method. The `time_step` contains the observation from the environment. This method returns a `PolicyStep`, which is a named tuple with three components:\n",
        "\n",
        "-   `action` — the action to be taken (in this case, `0` or `1`)\n",
        "-   `state` — used for stateful (that is, RNN-based) policies\n",
        "-   `info` — auxiliary data, such as log probabilities of actions"
      ]
    },
    {
      "cell_type": "code",
      "metadata": {
        "id": "5gCcpXswVAxk"
      },
      "source": [
        "example_environment = tf_py_environment.TFPyEnvironment(\n",
        "    suite_gym.load('CartPole-v0'))"
      ],
      "execution_count": 20,
      "outputs": []
    },
    {
      "cell_type": "code",
      "metadata": {
        "id": "D4DHZtq3Ndis"
      },
      "source": [
        "time_step = example_environment.reset()"
      ],
      "execution_count": 21,
      "outputs": []
    },
    {
      "cell_type": "code",
      "metadata": {
        "id": "PRFqAUzpNaAW",
        "colab": {
          "base_uri": "https://localhost:8080/"
        },
        "outputId": "47487ecd-4e3a-4a04-dff8-0ae61bf0fa86"
      },
      "source": [
        "random_policy.action(time_step)"
      ],
      "execution_count": 22,
      "outputs": [
        {
          "output_type": "execute_result",
          "data": {
            "text/plain": [
              "PolicyStep(action=<tf.Tensor: shape=(1,), dtype=int64, numpy=array([0])>, state=(), info=())"
            ]
          },
          "metadata": {},
          "execution_count": 22
        }
      ]
    },
    {
      "cell_type": "markdown",
      "metadata": {
        "id": "94rCXQtbUbXv"
      },
      "source": [
        "## Metrics and Evaluation\n",
        "\n",
        "The most common metric used to evaluate a policy is the average return. The return is the sum of rewards obtained while running a policy in an environment for an episode. Several episodes are run, creating an average return.\n",
        "\n",
        "The following function computes the average return of a policy, given the policy, environment, and a number of episodes.\n"
      ]
    },
    {
      "cell_type": "code",
      "metadata": {
        "id": "bitzHo5_UbXy"
      },
      "source": [
        "#@test {\"skip\": true}\n",
        "def compute_avg_return(environment, policy, num_episodes=10):\n",
        "\n",
        "  total_return = 0.0\n",
        "  for _ in range(num_episodes):\n",
        "\n",
        "    time_step = environment.reset()\n",
        "    episode_return = 0.0\n",
        "\n",
        "    while not time_step.is_last():\n",
        "      action_step = policy.action(time_step)\n",
        "      time_step = environment.step(action_step.action)\n",
        "      episode_return += time_step.reward\n",
        "    total_return += episode_return\n",
        "\n",
        "  avg_return = total_return / num_episodes\n",
        "  return avg_return.numpy()[0]\n",
        "\n",
        "\n",
        "# See also the metrics module for standard implementations of different metrics.\n",
        "# https://github.com/tensorflow/agents/tree/master/tf_agents/metrics"
      ],
      "execution_count": 23,
      "outputs": []
    },
    {
      "cell_type": "markdown",
      "metadata": {
        "id": "_snCVvq5Z8lJ"
      },
      "source": [
        "Running this computation on the `random_policy` shows a baseline performance in the environment."
      ]
    },
    {
      "cell_type": "code",
      "metadata": {
        "id": "9bgU6Q6BZ8Bp",
        "colab": {
          "base_uri": "https://localhost:8080/"
        },
        "outputId": "538ac532-f52e-47e9-a794-ed095c6ed17e"
      },
      "source": [
        "compute_avg_return(eval_env, random_policy, num_eval_episodes)"
      ],
      "execution_count": 24,
      "outputs": [
        {
          "output_type": "execute_result",
          "data": {
            "text/plain": [
              "23.7"
            ]
          },
          "metadata": {},
          "execution_count": 24
        }
      ]
    },
    {
      "cell_type": "markdown",
      "metadata": {
        "id": "NLva6g2jdWgr"
      },
      "source": [
        "## Replay Buffer\n",
        "\n",
        "The replay buffer keeps track of data collected from the environment. This tutorial uses `tf_agents.replay_buffers.tf_uniform_replay_buffer.TFUniformReplayBuffer`, as it is the most common. \n",
        "\n",
        "The constructor requires the specs for the data it will be collecting. This is available from the agent using the `collect_data_spec` method. The batch size and maximum buffer length are also required.\n"
      ]
    },
    {
      "cell_type": "code",
      "metadata": {
        "id": "vX2zGUWJGWAl"
      },
      "source": [
        "replay_buffer = tf_uniform_replay_buffer.TFUniformReplayBuffer(\n",
        "    data_spec=agent.collect_data_spec,\n",
        "    batch_size=train_env.batch_size,\n",
        "    max_length=replay_buffer_max_length)"
      ],
      "execution_count": 25,
      "outputs": []
    },
    {
      "cell_type": "markdown",
      "metadata": {
        "id": "ZGNTDJpZs4NN"
      },
      "source": [
        "For most agents, `collect_data_spec` is a named tuple called `Trajectory`, containing the specs for observations, actions, rewards, and other items."
      ]
    },
    {
      "cell_type": "code",
      "metadata": {
        "id": "_IZ-3HcqgE1z",
        "colab": {
          "base_uri": "https://localhost:8080/"
        },
        "outputId": "15041ff0-8f16-4a50-c353-31d00b438093"
      },
      "source": [
        "agent.collect_data_spec"
      ],
      "execution_count": 26,
      "outputs": [
        {
          "output_type": "execute_result",
          "data": {
            "text/plain": [
              "Trajectory(\n",
              "{'action': BoundedTensorSpec(shape=(), dtype=tf.int64, name='action', minimum=array(0), maximum=array(1)),\n",
              " 'discount': BoundedTensorSpec(shape=(), dtype=tf.float32, name='discount', minimum=array(0., dtype=float32), maximum=array(1., dtype=float32)),\n",
              " 'next_step_type': TensorSpec(shape=(), dtype=tf.int32, name='step_type'),\n",
              " 'observation': BoundedTensorSpec(shape=(4,), dtype=tf.float32, name='observation', minimum=array([-4.8000002e+00, -3.4028235e+38, -4.1887903e-01, -3.4028235e+38],\n",
              "      dtype=float32), maximum=array([4.8000002e+00, 3.4028235e+38, 4.1887903e-01, 3.4028235e+38],\n",
              "      dtype=float32)),\n",
              " 'policy_info': (),\n",
              " 'reward': TensorSpec(shape=(), dtype=tf.float32, name='reward'),\n",
              " 'step_type': TensorSpec(shape=(), dtype=tf.int32, name='step_type')})"
            ]
          },
          "metadata": {},
          "execution_count": 26
        }
      ]
    },
    {
      "cell_type": "code",
      "metadata": {
        "id": "sy6g1tGcfRlw",
        "colab": {
          "base_uri": "https://localhost:8080/"
        },
        "outputId": "17d3b37d-e123-4791-da52-9f7dbaa5eccf"
      },
      "source": [
        "agent.collect_data_spec._fields"
      ],
      "execution_count": 27,
      "outputs": [
        {
          "output_type": "execute_result",
          "data": {
            "text/plain": [
              "('step_type',\n",
              " 'observation',\n",
              " 'action',\n",
              " 'policy_info',\n",
              " 'next_step_type',\n",
              " 'reward',\n",
              " 'discount')"
            ]
          },
          "metadata": {},
          "execution_count": 27
        }
      ]
    },
    {
      "cell_type": "markdown",
      "metadata": {
        "id": "rVD5nQ9ZGo8_"
      },
      "source": [
        "## Data Collection\n",
        "\n",
        "Now execute the random policy in the environment for a few steps, recording the data in the replay buffer."
      ]
    },
    {
      "cell_type": "code",
      "metadata": {
        "id": "wr1KSAEGG4h9"
      },
      "source": [
        "#@test {\"skip\": true}\n",
        "def collect_step(environment, policy, buffer):\n",
        "  time_step = environment.current_time_step()\n",
        "  action_step = policy.action(time_step)\n",
        "  next_time_step = environment.step(action_step.action)\n",
        "  traj = trajectory.from_transition(time_step, action_step, next_time_step)\n",
        "  # Add trajectory to the replay buffer\n",
        "  buffer.add_batch(traj)\n",
        "\n",
        "def collect_data(env, policy, buffer, steps):\n",
        "  for _ in range(steps):\n",
        "    collect_step(env, policy, buffer)\n",
        "\n",
        "collect_data(train_env, random_policy, replay_buffer, steps=100)\n",
        "\n",
        "# This loop is so common in RL, that we provide standard implementations. \n",
        "# For more details see the drivers module.\n",
        "# https://github.com/tensorflow/agents/blob/master/tf_agents/docs/python/tf_agents/drivers.md"
      ],
      "execution_count": 28,
      "outputs": []
    },
    {
      "cell_type": "markdown",
      "metadata": {
        "id": "84z5pQJdoKxo"
      },
      "source": [
        "The replay buffer is now a collection of Trajectories."
      ]
    },
    {
      "cell_type": "code",
      "metadata": {
        "id": "4wZnLu2ViO4E"
      },
      "source": [
        "# For the curious:\n",
        "# Uncomment to peel one of these off and inspect it.\n",
        "# iter(replay_buffer.as_dataset()).next()"
      ],
      "execution_count": 29,
      "outputs": []
    },
    {
      "cell_type": "markdown",
      "metadata": {
        "id": "TujU-PMUsKjS"
      },
      "source": [
        "The agent needs access to the replay buffer. This is provided by creating an iterable `tf.data.Dataset` pipeline which will feed data to the agent.\n",
        "\n",
        "Each row of the replay buffer only stores a single observation step. But since the DQN Agent needs both the current and next observation to compute the loss, the dataset pipeline will sample two adjacent rows for each item in the batch (`num_steps=2`).\n",
        "\n",
        "This dataset is also optimized by running parallel calls and prefetching data."
      ]
    },
    {
      "cell_type": "code",
      "metadata": {
        "id": "ba7bilizt_qW",
        "colab": {
          "base_uri": "https://localhost:8080/"
        },
        "outputId": "089796f9-f1bf-40f9-f835-a575ed2c1894"
      },
      "source": [
        "# Dataset generates trajectories with shape [Bx2x...]\n",
        "dataset = replay_buffer.as_dataset(\n",
        "    num_parallel_calls=3, \n",
        "    sample_batch_size=batch_size, \n",
        "    num_steps=2).prefetch(3)\n",
        "\n",
        "\n",
        "dataset"
      ],
      "execution_count": 30,
      "outputs": [
        {
          "output_type": "stream",
          "name": "stdout",
          "text": [
            "WARNING:tensorflow:From /usr/local/lib/python3.7/dist-packages/tensorflow/python/data/experimental/ops/counter.py:66: scan (from tensorflow.python.data.experimental.ops.scan_ops) is deprecated and will be removed in a future version.\n",
            "Instructions for updating:\n",
            "Use `tf.data.Dataset.scan(...) instead\n",
            "WARNING:tensorflow:From /usr/local/lib/python3.7/dist-packages/tensorflow/python/autograph/impl/api.py:382: ReplayBuffer.get_next (from tf_agents.replay_buffers.replay_buffer) is deprecated and will be removed in a future version.\n",
            "Instructions for updating:\n",
            "Use `as_dataset(..., single_deterministic_pass=False) instead.\n"
          ]
        },
        {
          "output_type": "execute_result",
          "data": {
            "text/plain": [
              "<PrefetchDataset shapes: (Trajectory(\n",
              "{action: (30, 2),\n",
              " discount: (30, 2),\n",
              " next_step_type: (30, 2),\n",
              " observation: (30, 2, 4),\n",
              " policy_info: (),\n",
              " reward: (30, 2),\n",
              " step_type: (30, 2)}), BufferInfo(ids=(30, 2), probabilities=(30,))), types: (Trajectory(\n",
              "{action: tf.int64,\n",
              " discount: tf.float32,\n",
              " next_step_type: tf.int32,\n",
              " observation: tf.float32,\n",
              " policy_info: (),\n",
              " reward: tf.float32,\n",
              " step_type: tf.int32}), BufferInfo(ids=tf.int64, probabilities=tf.float32))>"
            ]
          },
          "metadata": {},
          "execution_count": 30
        }
      ]
    },
    {
      "cell_type": "code",
      "metadata": {
        "id": "K13AST-2ppOq",
        "colab": {
          "base_uri": "https://localhost:8080/"
        },
        "outputId": "8f5183c4-62f7-4024-8202-1962a82336a6"
      },
      "source": [
        "iterator = iter(dataset)\n",
        "\n",
        "print(iterator)\n"
      ],
      "execution_count": 31,
      "outputs": [
        {
          "output_type": "stream",
          "name": "stdout",
          "text": [
            "<tensorflow.python.data.ops.iterator_ops.OwnedIterator object at 0x7f5090404590>\n"
          ]
        }
      ]
    },
    {
      "cell_type": "code",
      "metadata": {
        "id": "Th5w5Sff0b16"
      },
      "source": [
        "# For the curious:\n",
        "# Uncomment to see what the dataset iterator is feeding to the agent.\n",
        "# Compare this representation of replay data \n",
        "# to the collection of individual trajectories shown earlier.\n",
        "\n",
        "# iterator.next()"
      ],
      "execution_count": 32,
      "outputs": []
    },
    {
      "cell_type": "markdown",
      "metadata": {
        "id": "hBc9lj9VWWtZ"
      },
      "source": [
        "## Training the agent\n",
        "\n",
        "Two things must happen during the training loop:\n",
        "\n",
        "-   collect data from the environment\n",
        "-   use that data to train the agent's neural network(s)\n",
        "\n",
        "This example also periodicially evaluates the policy and prints the current score.\n",
        "\n",
        "The following will take ~5 minutes to run."
      ]
    },
    {
      "cell_type": "code",
      "metadata": {
        "id": "StQDhqzit0bW"
      },
      "source": [
        "import time\n",
        "import math\n",
        "\n",
        "def timeSince(start):\n",
        "    end = time.time()\n",
        "    s = end - start\n",
        "    m = math.floor(s / 60)\n",
        "    s -= m * 60\n",
        "    return m, s"
      ],
      "execution_count": 33,
      "outputs": []
    },
    {
      "cell_type": "code",
      "metadata": {
        "id": "S9-wG02TfKXt"
      },
      "source": [
        "def train_agent(agent, iterator, replay_buffer, \n",
        "                train_env, eval_env, num_eval_episodes=10,\n",
        "                num_iterations=20000, collect_steps_per_iteration=1):\n",
        "    # (Optional) Optimize by wrapping some of the code in a graph using TF function.\n",
        "    agent.train = common.function(agent.train)\n",
        "\n",
        "    # Reset the train step\n",
        "    agent.train_step_counter.assign(0)\n",
        "\n",
        "    # Evaluate the agent's policy once before training.\n",
        "    avg_return = compute_avg_return(eval_env, agent.policy, num_eval_episodes)\n",
        "    returns = [avg_return]\n",
        "    start = time.time()\n",
        "    for _ in range(num_iterations):\n",
        "        \n",
        "\n",
        "        # Collect a few steps using collect_policy and save to the replay buffer.\n",
        "        for _ in range(collect_steps_per_iteration):\n",
        "            collect_step(train_env, agent.collect_policy, replay_buffer)\n",
        "\n",
        "        # Sample a batch of data from the buffer and update the agent's network.\n",
        "        experience, unused_info = next(iterator)\n",
        "        train_loss = agent.train(experience).loss\n",
        "\n",
        "        step = agent.train_step_counter.numpy()\n",
        "        if step % eval_interval == 0:\n",
        "            avg_return = compute_avg_return(eval_env, agent.policy, num_eval_episodes)\n",
        "            returns.append(avg_return)\n",
        "            m, s = timeSince(start)\n",
        "            print('Step: %d, Spend %dm, %ds, Average Returns: %.1f' % (step, m, s, avg_return))\n",
        "    return returns"
      ],
      "execution_count": 34,
      "outputs": []
    },
    {
      "cell_type": "code",
      "metadata": {
        "id": "t6E44FHULU3b"
      },
      "source": [
        "# Change Target Update Period (TUP)\n",
        "def changeTUP(num_experiments=5):\n",
        "    tup_list = [1, 10, 30, 100]\n",
        "    tup_returns = [None] * len(tup_list)\n",
        "    optimizer = tf.compat.v1.train.AdamOptimizer(learning_rate=learning_rate)\n",
        "    for i, tup in enumerate(tup_list):\n",
        "        tup_returns[i] = [None] * num_experiments\n",
        "        for j in range(num_experiments):\n",
        "            print('Target update period = %d' % (tup))\n",
        "            print('------%d-th experiment-----' % (j + 1))\n",
        "            train_step_counter = tf.Variable(0)\n",
        "            train_py_env = suite_gym.load(env_name)\n",
        "            eval_py_env = suite_gym.load(env_name)\n",
        "            fc_layer_params = (100,)\n",
        "            train_env = tf_py_environment.TFPyEnvironment(train_py_env)\n",
        "            eval_env = tf_py_environment.TFPyEnvironment(eval_py_env)\n",
        "            q_net = q_network.QNetwork(\n",
        "                train_env.observation_spec(),\n",
        "                train_env.action_spec(),\n",
        "                fc_layer_params=fc_layer_params)\n",
        "            agent = dqn_agent.DqnAgent(\n",
        "                    train_env.time_step_spec(),\n",
        "                    train_env.action_spec(),\n",
        "                    q_network=q_net,\n",
        "                    optimizer=optimizer,\n",
        "                    td_errors_loss_fn=common.element_wise_squared_loss,\n",
        "                    train_step_counter=train_step_counter,\n",
        "                    target_update_period=tup)\n",
        "\n",
        "            agent.initialize()\n",
        "            replay_buffer = tf_uniform_replay_buffer.TFUniformReplayBuffer(\n",
        "                            data_spec=agent.collect_data_spec,\n",
        "                            batch_size=train_env.batch_size,\n",
        "                            max_length=replay_buffer_max_length)\n",
        "            collect_data(train_env, random_policy, replay_buffer, steps=100)\n",
        "            dataset = replay_buffer.as_dataset(\n",
        "                        num_parallel_calls=3, \n",
        "                        sample_batch_size=batch_size, \n",
        "                        num_steps=2).prefetch(3)\n",
        "            iterator = iter(dataset)\n",
        "            tup_returns[i][j] = train_agent(agent, iterator, replay_buffer, train_env=train_env, eval_env=eval_env)\n",
        "    return tup_returns"
      ],
      "execution_count": 35,
      "outputs": []
    },
    {
      "cell_type": "code",
      "metadata": {
        "id": "ppI_eA6PiiNX"
      },
      "source": [
        "# Change batch size\n",
        "def changeBatchSize(num_experiments=5):\n",
        "    batch_size_list = [1, 30, 50, 200]\n",
        "    batch_size_returns = [None] * len(batch_size_list)\n",
        "    optimizer = tf.compat.v1.train.AdamOptimizer(learning_rate=learning_rate)\n",
        "    for i, batch_size in enumerate(batch_size_list):\n",
        "        batch_size_returns[i] = [None] * num_experiments\n",
        "        for j in range(num_experiments):\n",
        "            print('Batch size = %d' % (batch_size))\n",
        "            print('------%d-th experiment-----' % (j + 1))\n",
        "            train_step_counter = tf.Variable(0)\n",
        "            train_py_env = suite_gym.load(env_name)\n",
        "            eval_py_env = suite_gym.load(env_name)\n",
        "            fc_layer_params = (100,)\n",
        "            train_env = tf_py_environment.TFPyEnvironment(train_py_env)\n",
        "            eval_env = tf_py_environment.TFPyEnvironment(eval_py_env)\n",
        "            q_net = q_network.QNetwork(\n",
        "                train_env.observation_spec(),\n",
        "                train_env.action_spec(),\n",
        "                fc_layer_params=fc_layer_params)\n",
        "\n",
        "            agent = dqn_agent.DqnAgent(\n",
        "                    train_env.time_step_spec(),\n",
        "                    train_env.action_spec(),\n",
        "                    q_network=q_net,\n",
        "                    optimizer=optimizer,\n",
        "                    td_errors_loss_fn=common.element_wise_squared_loss,\n",
        "                    train_step_counter=train_step_counter,\n",
        "                    target_update_period=target_update_period)\n",
        "            \n",
        "            agent.initialize()\n",
        "            replay_buffer = tf_uniform_replay_buffer.TFUniformReplayBuffer(\n",
        "                            data_spec=agent.collect_data_spec,\n",
        "                            batch_size=train_env.batch_size,\n",
        "                            max_length=replay_buffer_max_length)\n",
        "            collect_data(train_env, random_policy, replay_buffer, steps=100)\n",
        "            dataset = replay_buffer.as_dataset(num_parallel_calls=3, \n",
        "                      sample_batch_size=batch_size, \n",
        "                      num_steps=2).prefetch(3)\n",
        "            iterator = iter(dataset)\n",
        "            batch_size_returns[i][j] = train_agent(agent, iterator, replay_buffer, train_env=train_env, eval_env=eval_env)\n",
        "    return batch_size_returns"
      ],
      "execution_count": 36,
      "outputs": []
    },
    {
      "cell_type": "code",
      "metadata": {
        "id": "Bj53alWImwMx"
      },
      "source": [
        ""
      ],
      "execution_count": 36,
      "outputs": []
    },
    {
      "cell_type": "code",
      "metadata": {
        "colab": {
          "base_uri": "https://localhost:8080/"
        },
        "id": "PL4QlWpev9HR",
        "outputId": "a4621975-3851-4858-b2b7-21629703812a"
      },
      "source": [
        "tup_returns = changeTUP()"
      ],
      "execution_count": 37,
      "outputs": [
        {
          "output_type": "stream",
          "name": "stdout",
          "text": [
            "Target update period = 1\n",
            "------1-th experiment-----\n",
            "WARNING:tensorflow:From /usr/local/lib/python3.7/dist-packages/tensorflow/python/util/dispatch.py:206: calling foldr_v2 (from tensorflow.python.ops.functional_ops) with back_prop=False is deprecated and will be removed in a future version.\n",
            "Instructions for updating:\n",
            "back_prop=False is deprecated. Consider using tf.stop_gradient instead.\n",
            "Instead of:\n",
            "results = tf.foldr(fn, elems, back_prop=False)\n",
            "Use:\n",
            "results = tf.nest.map_structure(tf.stop_gradient, tf.foldr(fn, elems))\n",
            "Step: 1000, Spend 0m, 12s, Average Returns: 9.7\n",
            "Step: 2000, Spend 0m, 24s, Average Returns: 17.6\n",
            "Step: 3000, Spend 0m, 37s, Average Returns: 40.4\n",
            "Step: 4000, Spend 0m, 50s, Average Returns: 35.2\n",
            "Step: 5000, Spend 1m, 7s, Average Returns: 99.1\n",
            "Step: 6000, Spend 1m, 21s, Average Returns: 57.9\n",
            "Step: 7000, Spend 1m, 36s, Average Returns: 91.0\n",
            "Step: 8000, Spend 1m, 51s, Average Returns: 81.6\n",
            "Step: 9000, Spend 2m, 7s, Average Returns: 97.7\n",
            "Step: 10000, Spend 2m, 24s, Average Returns: 114.5\n",
            "Step: 11000, Spend 2m, 41s, Average Returns: 123.3\n",
            "Step: 12000, Spend 2m, 57s, Average Returns: 98.0\n",
            "Step: 13000, Spend 3m, 13s, Average Returns: 101.8\n",
            "Step: 14000, Spend 3m, 30s, Average Returns: 118.1\n",
            "Step: 15000, Spend 3m, 49s, Average Returns: 150.4\n",
            "Step: 16000, Spend 4m, 6s, Average Returns: 106.2\n",
            "Step: 17000, Spend 4m, 25s, Average Returns: 155.6\n",
            "Step: 18000, Spend 4m, 44s, Average Returns: 161.4\n",
            "Step: 19000, Spend 5m, 3s, Average Returns: 148.9\n",
            "Step: 20000, Spend 5m, 21s, Average Returns: 150.5\n",
            "Target update period = 1\n",
            "------2-th experiment-----\n",
            "Step: 1000, Spend 0m, 12s, Average Returns: 14.9\n",
            "Step: 2000, Spend 0m, 25s, Average Returns: 18.7\n",
            "Step: 3000, Spend 0m, 38s, Average Returns: 31.4\n",
            "Step: 4000, Spend 0m, 51s, Average Returns: 33.6\n",
            "Step: 5000, Spend 1m, 4s, Average Returns: 42.0\n",
            "Step: 6000, Spend 1m, 18s, Average Returns: 47.3\n",
            "Step: 7000, Spend 1m, 36s, Average Returns: 142.8\n",
            "Step: 8000, Spend 1m, 52s, Average Returns: 99.1\n",
            "Step: 9000, Spend 2m, 9s, Average Returns: 110.3\n",
            "Step: 10000, Spend 2m, 29s, Average Returns: 187.0\n",
            "Step: 11000, Spend 2m, 49s, Average Returns: 191.0\n",
            "Step: 12000, Spend 3m, 10s, Average Returns: 192.2\n",
            "Step: 13000, Spend 3m, 30s, Average Returns: 194.3\n",
            "Step: 14000, Spend 3m, 51s, Average Returns: 200.0\n",
            "Step: 15000, Spend 4m, 11s, Average Returns: 200.0\n",
            "Step: 16000, Spend 4m, 32s, Average Returns: 200.0\n",
            "Step: 17000, Spend 4m, 53s, Average Returns: 200.0\n",
            "Step: 18000, Spend 5m, 13s, Average Returns: 200.0\n",
            "Step: 19000, Spend 5m, 34s, Average Returns: 200.0\n",
            "Step: 20000, Spend 5m, 55s, Average Returns: 200.0\n",
            "Target update period = 1\n",
            "------3-th experiment-----\n",
            "Step: 1000, Spend 0m, 12s, Average Returns: 19.5\n",
            "Step: 2000, Spend 0m, 26s, Average Returns: 49.0\n",
            "Step: 3000, Spend 0m, 40s, Average Returns: 54.3\n",
            "Step: 4000, Spend 0m, 54s, Average Returns: 63.0\n",
            "Step: 5000, Spend 1m, 12s, Average Returns: 153.5\n",
            "Step: 6000, Spend 1m, 32s, Average Returns: 171.5\n",
            "Step: 7000, Spend 1m, 52s, Average Returns: 189.5\n",
            "Step: 8000, Spend 2m, 12s, Average Returns: 191.7\n",
            "Step: 9000, Spend 2m, 32s, Average Returns: 192.0\n",
            "Step: 10000, Spend 2m, 53s, Average Returns: 200.0\n",
            "Step: 11000, Spend 3m, 13s, Average Returns: 191.5\n",
            "Step: 12000, Spend 3m, 34s, Average Returns: 200.0\n",
            "Step: 13000, Spend 3m, 55s, Average Returns: 200.0\n",
            "Step: 14000, Spend 4m, 15s, Average Returns: 200.0\n",
            "Step: 15000, Spend 4m, 36s, Average Returns: 200.0\n",
            "Step: 16000, Spend 4m, 57s, Average Returns: 200.0\n",
            "Step: 17000, Spend 5m, 17s, Average Returns: 200.0\n",
            "Step: 18000, Spend 5m, 38s, Average Returns: 200.0\n",
            "Step: 19000, Spend 5m, 59s, Average Returns: 200.0\n",
            "Step: 20000, Spend 6m, 19s, Average Returns: 200.0\n",
            "Target update period = 1\n",
            "------4-th experiment-----\n",
            "Step: 1000, Spend 0m, 13s, Average Returns: 45.3\n",
            "Step: 2000, Spend 0m, 26s, Average Returns: 18.3\n",
            "Step: 3000, Spend 0m, 39s, Average Returns: 32.8\n",
            "Step: 4000, Spend 0m, 52s, Average Returns: 43.3\n",
            "Step: 5000, Spend 1m, 6s, Average Returns: 57.3\n",
            "Step: 6000, Spend 1m, 20s, Average Returns: 67.3\n",
            "Step: 7000, Spend 1m, 35s, Average Returns: 68.4\n",
            "Step: 8000, Spend 1m, 51s, Average Returns: 88.3\n",
            "Step: 9000, Spend 2m, 10s, Average Returns: 162.2\n",
            "Step: 10000, Spend 2m, 30s, Average Returns: 174.6\n",
            "Step: 11000, Spend 2m, 51s, Average Returns: 193.9\n",
            "Step: 12000, Spend 3m, 9s, Average Returns: 163.4\n",
            "Step: 13000, Spend 3m, 30s, Average Returns: 200.0\n",
            "Step: 14000, Spend 3m, 50s, Average Returns: 197.2\n",
            "Step: 15000, Spend 4m, 11s, Average Returns: 198.7\n",
            "Step: 16000, Spend 4m, 31s, Average Returns: 200.0\n",
            "Step: 17000, Spend 4m, 52s, Average Returns: 200.0\n",
            "Step: 18000, Spend 5m, 12s, Average Returns: 200.0\n",
            "Step: 19000, Spend 5m, 33s, Average Returns: 200.0\n",
            "Step: 20000, Spend 5m, 54s, Average Returns: 200.0\n",
            "Target update period = 1\n",
            "------5-th experiment-----\n",
            "Step: 1000, Spend 0m, 12s, Average Returns: 14.6\n",
            "Step: 2000, Spend 0m, 24s, Average Returns: 15.4\n",
            "Step: 3000, Spend 0m, 36s, Average Returns: 17.0\n",
            "Step: 4000, Spend 0m, 48s, Average Returns: 24.2\n",
            "Step: 5000, Spend 1m, 1s, Average Returns: 38.9\n",
            "Step: 6000, Spend 1m, 17s, Average Returns: 90.6\n",
            "Step: 7000, Spend 1m, 35s, Average Returns: 129.3\n",
            "Step: 8000, Spend 1m, 51s, Average Returns: 107.1\n",
            "Step: 9000, Spend 2m, 9s, Average Returns: 140.0\n",
            "Step: 10000, Spend 2m, 28s, Average Returns: 167.8\n",
            "Step: 11000, Spend 2m, 45s, Average Returns: 144.8\n",
            "Step: 12000, Spend 3m, 5s, Average Returns: 186.7\n",
            "Step: 13000, Spend 3m, 25s, Average Returns: 185.9\n",
            "Step: 14000, Spend 3m, 46s, Average Returns: 197.6\n",
            "Step: 15000, Spend 4m, 6s, Average Returns: 200.0\n",
            "Step: 16000, Spend 4m, 27s, Average Returns: 198.8\n",
            "Step: 17000, Spend 4m, 47s, Average Returns: 200.0\n",
            "Step: 18000, Spend 5m, 8s, Average Returns: 198.8\n",
            "Step: 19000, Spend 5m, 28s, Average Returns: 200.0\n",
            "Step: 20000, Spend 5m, 49s, Average Returns: 200.0\n",
            "Target update period = 10\n",
            "------1-th experiment-----\n",
            "Step: 1000, Spend 0m, 12s, Average Returns: 11.9\n",
            "Step: 2000, Spend 0m, 26s, Average Returns: 52.0\n",
            "Step: 3000, Spend 0m, 38s, Average Returns: 21.5\n",
            "Step: 4000, Spend 0m, 52s, Average Returns: 38.9\n",
            "Step: 5000, Spend 1m, 6s, Average Returns: 66.1\n",
            "Step: 6000, Spend 1m, 24s, Average Returns: 137.5\n",
            "Step: 7000, Spend 1m, 42s, Average Returns: 143.7\n",
            "Step: 8000, Spend 2m, 2s, Average Returns: 175.0\n",
            "Step: 9000, Spend 2m, 21s, Average Returns: 162.0\n",
            "Step: 10000, Spend 2m, 41s, Average Returns: 191.3\n",
            "Step: 11000, Spend 3m, 1s, Average Returns: 193.6\n",
            "Step: 12000, Spend 3m, 21s, Average Returns: 182.9\n",
            "Step: 13000, Spend 3m, 42s, Average Returns: 198.2\n",
            "Step: 14000, Spend 4m, 3s, Average Returns: 200.0\n",
            "Step: 15000, Spend 4m, 24s, Average Returns: 200.0\n",
            "Step: 16000, Spend 4m, 44s, Average Returns: 200.0\n",
            "Step: 17000, Spend 5m, 5s, Average Returns: 200.0\n",
            "Step: 18000, Spend 5m, 26s, Average Returns: 200.0\n",
            "Step: 19000, Spend 5m, 47s, Average Returns: 200.0\n",
            "Step: 20000, Spend 6m, 7s, Average Returns: 200.0\n",
            "Target update period = 10\n",
            "------2-th experiment-----\n",
            "Step: 1000, Spend 0m, 12s, Average Returns: 20.3\n",
            "Step: 2000, Spend 0m, 25s, Average Returns: 37.7\n",
            "Step: 3000, Spend 0m, 39s, Average Returns: 50.2\n",
            "Step: 4000, Spend 0m, 57s, Average Returns: 141.4\n",
            "Step: 5000, Spend 1m, 17s, Average Returns: 178.0\n",
            "Step: 6000, Spend 1m, 37s, Average Returns: 188.2\n",
            "Step: 7000, Spend 1m, 58s, Average Returns: 200.0\n",
            "Step: 8000, Spend 2m, 18s, Average Returns: 200.0\n",
            "Step: 9000, Spend 2m, 39s, Average Returns: 196.4\n",
            "Step: 10000, Spend 3m, 0s, Average Returns: 200.0\n",
            "Step: 11000, Spend 3m, 20s, Average Returns: 200.0\n",
            "Step: 12000, Spend 3m, 41s, Average Returns: 200.0\n",
            "Step: 13000, Spend 4m, 1s, Average Returns: 181.5\n",
            "Step: 14000, Spend 4m, 22s, Average Returns: 200.0\n",
            "Step: 15000, Spend 4m, 43s, Average Returns: 200.0\n",
            "Step: 16000, Spend 5m, 4s, Average Returns: 200.0\n",
            "Step: 17000, Spend 5m, 24s, Average Returns: 200.0\n",
            "Step: 18000, Spend 5m, 45s, Average Returns: 196.2\n",
            "Step: 19000, Spend 6m, 5s, Average Returns: 200.0\n",
            "Step: 20000, Spend 6m, 26s, Average Returns: 200.0\n",
            "Target update period = 10\n",
            "------3-th experiment-----\n",
            "Step: 1000, Spend 0m, 12s, Average Returns: 9.9\n",
            "Step: 2000, Spend 0m, 25s, Average Returns: 31.1\n",
            "Step: 3000, Spend 0m, 40s, Average Returns: 78.9\n",
            "Step: 4000, Spend 0m, 56s, Average Returns: 93.8\n",
            "Step: 5000, Spend 1m, 16s, Average Returns: 182.4\n",
            "Step: 6000, Spend 1m, 35s, Average Returns: 158.9\n",
            "Step: 7000, Spend 1m, 53s, Average Returns: 146.8\n",
            "Step: 8000, Spend 2m, 13s, Average Returns: 183.1\n",
            "Step: 9000, Spend 2m, 34s, Average Returns: 199.3\n",
            "Step: 10000, Spend 2m, 55s, Average Returns: 200.0\n",
            "Step: 11000, Spend 3m, 16s, Average Returns: 200.0\n",
            "Step: 12000, Spend 3m, 36s, Average Returns: 200.0\n",
            "Step: 13000, Spend 3m, 57s, Average Returns: 200.0\n",
            "Step: 14000, Spend 4m, 18s, Average Returns: 200.0\n",
            "Step: 15000, Spend 4m, 39s, Average Returns: 200.0\n",
            "Step: 16000, Spend 5m, 0s, Average Returns: 200.0\n",
            "Step: 17000, Spend 5m, 20s, Average Returns: 200.0\n",
            "Step: 18000, Spend 5m, 41s, Average Returns: 200.0\n",
            "Step: 19000, Spend 6m, 2s, Average Returns: 200.0\n",
            "Step: 20000, Spend 6m, 23s, Average Returns: 200.0\n",
            "Target update period = 10\n",
            "------4-th experiment-----\n",
            "Step: 1000, Spend 0m, 12s, Average Returns: 15.4\n",
            "Step: 2000, Spend 0m, 25s, Average Returns: 30.9\n",
            "Step: 3000, Spend 0m, 40s, Average Returns: 77.2\n",
            "Step: 4000, Spend 0m, 56s, Average Returns: 109.9\n",
            "Step: 5000, Spend 1m, 11s, Average Returns: 73.2\n",
            "Step: 6000, Spend 1m, 28s, Average Returns: 116.1\n",
            "Step: 7000, Spend 1m, 47s, Average Returns: 144.9\n",
            "Step: 8000, Spend 2m, 6s, Average Returns: 169.9\n",
            "Step: 9000, Spend 2m, 27s, Average Returns: 195.5\n",
            "Step: 10000, Spend 2m, 45s, Average Returns: 155.1\n",
            "Step: 11000, Spend 3m, 5s, Average Returns: 172.3\n",
            "Step: 12000, Spend 3m, 25s, Average Returns: 183.1\n",
            "Step: 13000, Spend 3m, 45s, Average Returns: 182.0\n",
            "Step: 14000, Spend 4m, 5s, Average Returns: 190.0\n",
            "Step: 15000, Spend 4m, 26s, Average Returns: 199.1\n",
            "Step: 16000, Spend 4m, 47s, Average Returns: 198.9\n",
            "Step: 17000, Spend 5m, 6s, Average Returns: 169.1\n",
            "Step: 18000, Spend 5m, 26s, Average Returns: 185.1\n",
            "Step: 19000, Spend 5m, 46s, Average Returns: 192.2\n",
            "Step: 20000, Spend 6m, 6s, Average Returns: 178.7\n",
            "Target update period = 10\n",
            "------5-th experiment-----\n",
            "Step: 1000, Spend 0m, 12s, Average Returns: 15.2\n",
            "Step: 2000, Spend 0m, 25s, Average Returns: 18.8\n",
            "Step: 3000, Spend 0m, 39s, Average Returns: 57.9\n",
            "Step: 4000, Spend 0m, 57s, Average Returns: 143.5\n",
            "Step: 5000, Spend 1m, 16s, Average Returns: 153.1\n",
            "Step: 6000, Spend 1m, 36s, Average Returns: 179.7\n",
            "Step: 7000, Spend 1m, 54s, Average Returns: 148.0\n",
            "Step: 8000, Spend 2m, 14s, Average Returns: 174.9\n",
            "Step: 9000, Spend 2m, 34s, Average Returns: 194.9\n",
            "Step: 10000, Spend 2m, 55s, Average Returns: 197.0\n",
            "Step: 11000, Spend 3m, 16s, Average Returns: 200.0\n",
            "Step: 12000, Spend 3m, 37s, Average Returns: 196.5\n",
            "Step: 13000, Spend 3m, 57s, Average Returns: 198.6\n",
            "Step: 14000, Spend 4m, 18s, Average Returns: 193.4\n",
            "Step: 15000, Spend 4m, 38s, Average Returns: 200.0\n",
            "Step: 16000, Spend 4m, 59s, Average Returns: 200.0\n",
            "Step: 17000, Spend 5m, 20s, Average Returns: 199.3\n",
            "Step: 18000, Spend 5m, 41s, Average Returns: 200.0\n",
            "Step: 19000, Spend 6m, 2s, Average Returns: 197.8\n",
            "Step: 20000, Spend 6m, 23s, Average Returns: 198.5\n",
            "Target update period = 30\n",
            "------1-th experiment-----\n",
            "Step: 1000, Spend 0m, 13s, Average Returns: 37.2\n",
            "Step: 2000, Spend 0m, 27s, Average Returns: 53.4\n",
            "Step: 3000, Spend 0m, 44s, Average Returns: 120.9\n",
            "Step: 4000, Spend 1m, 1s, Average Returns: 117.7\n",
            "Step: 5000, Spend 1m, 18s, Average Returns: 112.4\n",
            "Step: 6000, Spend 1m, 37s, Average Returns: 156.8\n",
            "Step: 7000, Spend 1m, 57s, Average Returns: 194.2\n",
            "Step: 8000, Spend 2m, 18s, Average Returns: 194.9\n",
            "Step: 9000, Spend 2m, 39s, Average Returns: 200.0\n",
            "Step: 10000, Spend 3m, 0s, Average Returns: 200.0\n",
            "Step: 11000, Spend 3m, 20s, Average Returns: 200.0\n",
            "Step: 12000, Spend 3m, 41s, Average Returns: 200.0\n",
            "Step: 13000, Spend 4m, 2s, Average Returns: 200.0\n",
            "Step: 14000, Spend 4m, 23s, Average Returns: 200.0\n",
            "Step: 15000, Spend 4m, 44s, Average Returns: 200.0\n",
            "Step: 16000, Spend 5m, 5s, Average Returns: 200.0\n",
            "Step: 17000, Spend 5m, 26s, Average Returns: 200.0\n",
            "Step: 18000, Spend 5m, 46s, Average Returns: 200.0\n",
            "Step: 19000, Spend 6m, 7s, Average Returns: 200.0\n",
            "Step: 20000, Spend 6m, 28s, Average Returns: 200.0\n",
            "Target update period = 30\n",
            "------2-th experiment-----\n",
            "Step: 1000, Spend 0m, 14s, Average Returns: 44.6\n",
            "Step: 2000, Spend 0m, 29s, Average Returns: 88.7\n",
            "Step: 3000, Spend 0m, 45s, Average Returns: 92.9\n",
            "Step: 4000, Spend 1m, 5s, Average Returns: 179.8\n",
            "Step: 5000, Spend 1m, 24s, Average Returns: 146.9\n",
            "Step: 6000, Spend 1m, 44s, Average Returns: 189.5\n",
            "Step: 7000, Spend 2m, 4s, Average Returns: 186.4\n",
            "Step: 8000, Spend 2m, 23s, Average Returns: 165.4\n",
            "Step: 9000, Spend 2m, 44s, Average Returns: 200.0\n",
            "Step: 10000, Spend 3m, 4s, Average Returns: 181.4\n",
            "Step: 11000, Spend 3m, 25s, Average Returns: 200.0\n",
            "Step: 12000, Spend 3m, 46s, Average Returns: 200.0\n",
            "Step: 13000, Spend 4m, 7s, Average Returns: 200.0\n",
            "Step: 14000, Spend 4m, 28s, Average Returns: 200.0\n",
            "Step: 15000, Spend 4m, 49s, Average Returns: 200.0\n",
            "Step: 16000, Spend 5m, 9s, Average Returns: 185.1\n",
            "Step: 17000, Spend 5m, 30s, Average Returns: 200.0\n",
            "Step: 18000, Spend 5m, 51s, Average Returns: 200.0\n",
            "Step: 19000, Spend 6m, 12s, Average Returns: 200.0\n",
            "Step: 20000, Spend 6m, 33s, Average Returns: 200.0\n",
            "Target update period = 30\n",
            "------3-th experiment-----\n",
            "Step: 1000, Spend 0m, 13s, Average Returns: 36.0\n",
            "Step: 2000, Spend 0m, 29s, Average Returns: 96.2\n",
            "Step: 3000, Spend 0m, 44s, Average Returns: 76.0\n",
            "Step: 4000, Spend 1m, 5s, Average Returns: 183.7\n",
            "Step: 5000, Spend 1m, 26s, Average Returns: 199.6\n",
            "Step: 6000, Spend 1m, 47s, Average Returns: 198.3\n",
            "Step: 7000, Spend 2m, 8s, Average Returns: 200.0\n",
            "Step: 8000, Spend 2m, 28s, Average Returns: 200.0\n",
            "Step: 9000, Spend 2m, 49s, Average Returns: 200.0\n",
            "Step: 10000, Spend 3m, 10s, Average Returns: 200.0\n",
            "Step: 11000, Spend 3m, 31s, Average Returns: 200.0\n",
            "Step: 12000, Spend 3m, 52s, Average Returns: 200.0\n",
            "Step: 13000, Spend 4m, 13s, Average Returns: 200.0\n",
            "Step: 14000, Spend 4m, 34s, Average Returns: 200.0\n",
            "Step: 15000, Spend 4m, 55s, Average Returns: 200.0\n",
            "Step: 16000, Spend 5m, 16s, Average Returns: 200.0\n",
            "Step: 17000, Spend 5m, 37s, Average Returns: 200.0\n",
            "Step: 18000, Spend 5m, 57s, Average Returns: 200.0\n",
            "Step: 19000, Spend 6m, 19s, Average Returns: 200.0\n",
            "Step: 20000, Spend 6m, 40s, Average Returns: 200.0\n",
            "Target update period = 30\n",
            "------4-th experiment-----\n",
            "Step: 1000, Spend 0m, 15s, Average Returns: 81.5\n",
            "Step: 2000, Spend 0m, 29s, Average Returns: 47.8\n",
            "Step: 3000, Spend 0m, 45s, Average Returns: 97.4\n",
            "Step: 4000, Spend 1m, 1s, Average Returns: 94.0\n",
            "Step: 5000, Spend 1m, 19s, Average Returns: 130.2\n",
            "Step: 6000, Spend 1m, 37s, Average Returns: 133.4\n",
            "Step: 7000, Spend 1m, 56s, Average Returns: 159.6\n",
            "Step: 8000, Spend 2m, 16s, Average Returns: 173.9\n",
            "Step: 9000, Spend 2m, 35s, Average Returns: 184.1\n",
            "Step: 10000, Spend 2m, 54s, Average Returns: 150.5\n",
            "Step: 11000, Spend 3m, 15s, Average Returns: 196.7\n",
            "Step: 12000, Spend 3m, 34s, Average Returns: 179.2\n",
            "Step: 13000, Spend 3m, 54s, Average Returns: 180.0\n",
            "Step: 14000, Spend 4m, 14s, Average Returns: 175.6\n",
            "Step: 15000, Spend 4m, 33s, Average Returns: 169.9\n",
            "Step: 16000, Spend 4m, 53s, Average Returns: 176.7\n",
            "Step: 17000, Spend 5m, 14s, Average Returns: 189.1\n",
            "Step: 18000, Spend 5m, 34s, Average Returns: 189.7\n",
            "Step: 19000, Spend 5m, 55s, Average Returns: 191.6\n",
            "Step: 20000, Spend 6m, 15s, Average Returns: 190.9\n",
            "Target update period = 30\n",
            "------5-th experiment-----\n",
            "Step: 1000, Spend 0m, 13s, Average Returns: 31.5\n",
            "Step: 2000, Spend 0m, 27s, Average Returns: 43.1\n",
            "Step: 3000, Spend 0m, 40s, Average Returns: 37.8\n",
            "Step: 4000, Spend 1m, 0s, Average Returns: 176.4\n",
            "Step: 5000, Spend 1m, 17s, Average Returns: 98.8\n",
            "Step: 6000, Spend 1m, 35s, Average Returns: 143.6\n",
            "Step: 7000, Spend 1m, 55s, Average Returns: 200.0\n",
            "Step: 8000, Spend 2m, 16s, Average Returns: 200.0\n",
            "Step: 9000, Spend 2m, 38s, Average Returns: 200.0\n",
            "Step: 10000, Spend 2m, 58s, Average Returns: 200.0\n",
            "Step: 11000, Spend 3m, 19s, Average Returns: 200.0\n",
            "Step: 12000, Spend 3m, 41s, Average Returns: 200.0\n",
            "Step: 13000, Spend 4m, 2s, Average Returns: 200.0\n",
            "Step: 14000, Spend 4m, 23s, Average Returns: 200.0\n",
            "Step: 15000, Spend 4m, 44s, Average Returns: 200.0\n",
            "Step: 16000, Spend 5m, 5s, Average Returns: 200.0\n",
            "Step: 17000, Spend 5m, 26s, Average Returns: 200.0\n",
            "Step: 18000, Spend 5m, 47s, Average Returns: 200.0\n",
            "Step: 19000, Spend 6m, 8s, Average Returns: 200.0\n",
            "Step: 20000, Spend 6m, 29s, Average Returns: 200.0\n",
            "Target update period = 100\n",
            "------1-th experiment-----\n",
            "Step: 1000, Spend 0m, 13s, Average Returns: 27.3\n",
            "Step: 2000, Spend 0m, 31s, Average Returns: 128.6\n",
            "Step: 3000, Spend 0m, 51s, Average Returns: 180.0\n",
            "Step: 4000, Spend 1m, 11s, Average Returns: 173.1\n",
            "Step: 5000, Spend 1m, 31s, Average Returns: 190.3\n",
            "Step: 6000, Spend 1m, 53s, Average Returns: 199.3\n",
            "Step: 7000, Spend 2m, 13s, Average Returns: 195.5\n",
            "Step: 8000, Spend 2m, 34s, Average Returns: 198.3\n",
            "Step: 9000, Spend 2m, 56s, Average Returns: 199.5\n",
            "Step: 10000, Spend 3m, 17s, Average Returns: 199.4\n",
            "Step: 11000, Spend 3m, 38s, Average Returns: 199.8\n",
            "Step: 12000, Spend 3m, 59s, Average Returns: 199.4\n",
            "Step: 13000, Spend 4m, 20s, Average Returns: 196.3\n",
            "Step: 14000, Spend 4m, 40s, Average Returns: 199.1\n",
            "Step: 15000, Spend 5m, 1s, Average Returns: 200.0\n",
            "Step: 16000, Spend 5m, 22s, Average Returns: 199.8\n",
            "Step: 17000, Spend 5m, 43s, Average Returns: 200.0\n",
            "Step: 18000, Spend 6m, 4s, Average Returns: 198.5\n",
            "Step: 19000, Spend 6m, 25s, Average Returns: 200.0\n",
            "Step: 20000, Spend 6m, 46s, Average Returns: 197.4\n",
            "Target update period = 100\n",
            "------2-th experiment-----\n",
            "Step: 1000, Spend 0m, 14s, Average Returns: 43.9\n",
            "Step: 2000, Spend 0m, 31s, Average Returns: 115.0\n",
            "Step: 3000, Spend 0m, 51s, Average Returns: 183.4\n",
            "Step: 4000, Spend 1m, 12s, Average Returns: 200.0\n",
            "Step: 5000, Spend 1m, 33s, Average Returns: 197.6\n",
            "Step: 6000, Spend 1m, 54s, Average Returns: 200.0\n",
            "Step: 7000, Spend 2m, 15s, Average Returns: 200.0\n",
            "Step: 8000, Spend 2m, 36s, Average Returns: 200.0\n",
            "Step: 9000, Spend 2m, 57s, Average Returns: 200.0\n",
            "Step: 10000, Spend 3m, 18s, Average Returns: 200.0\n",
            "Step: 11000, Spend 3m, 40s, Average Returns: 200.0\n",
            "Step: 12000, Spend 4m, 1s, Average Returns: 200.0\n",
            "Step: 13000, Spend 4m, 22s, Average Returns: 200.0\n",
            "Step: 14000, Spend 4m, 43s, Average Returns: 200.0\n",
            "Step: 15000, Spend 5m, 4s, Average Returns: 200.0\n",
            "Step: 16000, Spend 5m, 25s, Average Returns: 200.0\n",
            "Step: 17000, Spend 5m, 46s, Average Returns: 200.0\n",
            "Step: 18000, Spend 6m, 7s, Average Returns: 199.4\n",
            "Step: 19000, Spend 6m, 28s, Average Returns: 200.0\n",
            "Step: 20000, Spend 6m, 49s, Average Returns: 200.0\n",
            "Target update period = 100\n",
            "------3-th experiment-----\n",
            "Step: 1000, Spend 0m, 21s, Average Returns: 200.0\n",
            "Step: 2000, Spend 0m, 36s, Average Returns: 72.1\n",
            "Step: 3000, Spend 0m, 53s, Average Returns: 112.4\n",
            "Step: 4000, Spend 1m, 11s, Average Returns: 151.8\n",
            "Step: 5000, Spend 1m, 31s, Average Returns: 179.5\n",
            "Step: 6000, Spend 1m, 52s, Average Returns: 200.0\n",
            "Step: 7000, Spend 2m, 14s, Average Returns: 200.0\n",
            "Step: 8000, Spend 2m, 34s, Average Returns: 200.0\n",
            "Step: 9000, Spend 2m, 56s, Average Returns: 200.0\n",
            "Step: 10000, Spend 3m, 17s, Average Returns: 200.0\n",
            "Step: 11000, Spend 3m, 38s, Average Returns: 200.0\n",
            "Step: 12000, Spend 3m, 59s, Average Returns: 200.0\n",
            "Step: 13000, Spend 4m, 20s, Average Returns: 200.0\n",
            "Step: 14000, Spend 4m, 41s, Average Returns: 200.0\n",
            "Step: 15000, Spend 5m, 2s, Average Returns: 200.0\n",
            "Step: 16000, Spend 5m, 23s, Average Returns: 200.0\n",
            "Step: 17000, Spend 5m, 45s, Average Returns: 200.0\n",
            "Step: 18000, Spend 6m, 6s, Average Returns: 200.0\n",
            "Step: 19000, Spend 6m, 27s, Average Returns: 200.0\n",
            "Step: 20000, Spend 6m, 48s, Average Returns: 200.0\n",
            "Target update period = 100\n",
            "------4-th experiment-----\n",
            "Step: 1000, Spend 0m, 16s, Average Returns: 82.8\n",
            "Step: 2000, Spend 0m, 32s, Average Returns: 107.5\n",
            "Step: 3000, Spend 0m, 51s, Average Returns: 158.4\n",
            "Step: 4000, Spend 1m, 10s, Average Returns: 154.3\n",
            "Step: 5000, Spend 1m, 32s, Average Returns: 198.4\n",
            "Step: 6000, Spend 1m, 53s, Average Returns: 200.0\n",
            "Step: 7000, Spend 2m, 14s, Average Returns: 200.0\n",
            "Step: 8000, Spend 2m, 35s, Average Returns: 200.0\n",
            "Step: 9000, Spend 2m, 56s, Average Returns: 200.0\n",
            "Step: 10000, Spend 3m, 17s, Average Returns: 200.0\n",
            "Step: 11000, Spend 3m, 38s, Average Returns: 200.0\n",
            "Step: 12000, Spend 4m, 0s, Average Returns: 200.0\n",
            "Step: 13000, Spend 4m, 21s, Average Returns: 200.0\n",
            "Step: 14000, Spend 4m, 42s, Average Returns: 200.0\n",
            "Step: 15000, Spend 5m, 3s, Average Returns: 200.0\n",
            "Step: 16000, Spend 5m, 25s, Average Returns: 199.1\n",
            "Step: 17000, Spend 5m, 46s, Average Returns: 200.0\n",
            "Step: 18000, Spend 6m, 7s, Average Returns: 200.0\n",
            "Step: 19000, Spend 6m, 28s, Average Returns: 200.0\n",
            "Step: 20000, Spend 6m, 49s, Average Returns: 200.0\n",
            "Target update period = 100\n",
            "------5-th experiment-----\n",
            "Step: 1000, Spend 0m, 13s, Average Returns: 37.5\n",
            "Step: 2000, Spend 0m, 31s, Average Returns: 114.7\n",
            "Step: 3000, Spend 0m, 49s, Average Returns: 132.5\n",
            "Step: 4000, Spend 1m, 9s, Average Returns: 177.3\n",
            "Step: 5000, Spend 1m, 29s, Average Returns: 172.3\n",
            "Step: 6000, Spend 1m, 48s, Average Returns: 164.7\n",
            "Step: 7000, Spend 2m, 10s, Average Returns: 195.9\n",
            "Step: 8000, Spend 2m, 30s, Average Returns: 173.9\n",
            "Step: 9000, Spend 2m, 51s, Average Returns: 191.8\n",
            "Step: 10000, Spend 3m, 12s, Average Returns: 197.2\n",
            "Step: 11000, Spend 3m, 33s, Average Returns: 184.4\n",
            "Step: 12000, Spend 3m, 54s, Average Returns: 196.2\n",
            "Step: 13000, Spend 4m, 14s, Average Returns: 190.8\n",
            "Step: 14000, Spend 4m, 35s, Average Returns: 199.3\n",
            "Step: 15000, Spend 4m, 57s, Average Returns: 200.0\n",
            "Step: 16000, Spend 5m, 18s, Average Returns: 198.4\n",
            "Step: 17000, Spend 5m, 39s, Average Returns: 194.7\n",
            "Step: 18000, Spend 6m, 0s, Average Returns: 198.8\n",
            "Step: 19000, Spend 6m, 21s, Average Returns: 199.8\n",
            "Step: 20000, Spend 6m, 42s, Average Returns: 200.0\n"
          ]
        }
      ]
    },
    {
      "cell_type": "code",
      "metadata": {
        "id": "ghvA1hPdlES1"
      },
      "source": [
        "import torch\n",
        "from google.colab import files"
      ],
      "execution_count": 38,
      "outputs": []
    },
    {
      "cell_type": "code",
      "metadata": {
        "colab": {
          "base_uri": "https://localhost:8080/",
          "height": 16
        },
        "id": "4mOJVnMSlEPz",
        "outputId": "976d46ad-226c-40cf-f153-0431468e5142"
      },
      "source": [
        "# Save results\n",
        "tup_returns_array = np.array(tup_returns)\n",
        "torch.save(tup_returns_array, 'tup_returns.pt')\n",
        "files.download('tup_returns.pt')"
      ],
      "execution_count": 39,
      "outputs": [
        {
          "output_type": "display_data",
          "data": {
            "application/javascript": [
              "\n",
              "    async function download(id, filename, size) {\n",
              "      if (!google.colab.kernel.accessAllowed) {\n",
              "        return;\n",
              "      }\n",
              "      const div = document.createElement('div');\n",
              "      const label = document.createElement('label');\n",
              "      label.textContent = `Downloading \"${filename}\": `;\n",
              "      div.appendChild(label);\n",
              "      const progress = document.createElement('progress');\n",
              "      progress.max = size;\n",
              "      div.appendChild(progress);\n",
              "      document.body.appendChild(div);\n",
              "\n",
              "      const buffers = [];\n",
              "      let downloaded = 0;\n",
              "\n",
              "      const channel = await google.colab.kernel.comms.open(id);\n",
              "      // Send a message to notify the kernel that we're ready.\n",
              "      channel.send({})\n",
              "\n",
              "      for await (const message of channel.messages) {\n",
              "        // Send a message to notify the kernel that we're ready.\n",
              "        channel.send({})\n",
              "        if (message.buffers) {\n",
              "          for (const buffer of message.buffers) {\n",
              "            buffers.push(buffer);\n",
              "            downloaded += buffer.byteLength;\n",
              "            progress.value = downloaded;\n",
              "          }\n",
              "        }\n",
              "      }\n",
              "      const blob = new Blob(buffers, {type: 'application/binary'});\n",
              "      const a = document.createElement('a');\n",
              "      a.href = window.URL.createObjectURL(blob);\n",
              "      a.download = filename;\n",
              "      div.appendChild(a);\n",
              "      a.click();\n",
              "      div.remove();\n",
              "    }\n",
              "  "
            ],
            "text/plain": [
              "<IPython.core.display.Javascript object>"
            ]
          },
          "metadata": {}
        },
        {
          "output_type": "display_data",
          "data": {
            "application/javascript": [
              "download(\"download_7a027f98-9796-4f72-85b9-881b601e0de0\", \"tup_returns.pt\", 2543)"
            ],
            "text/plain": [
              "<IPython.core.display.Javascript object>"
            ]
          },
          "metadata": {}
        }
      ]
    },
    {
      "cell_type": "code",
      "metadata": {
        "colab": {
          "base_uri": "https://localhost:8080/"
        },
        "id": "Fa7TavgelELz",
        "outputId": "547a8c7b-4fc6-4f73-d552-d20f4232fbd0"
      },
      "source": [
        "batch_size_results = changeBatchSize()"
      ],
      "execution_count": 40,
      "outputs": [
        {
          "output_type": "stream",
          "name": "stdout",
          "text": [
            "Batch size = 1\n",
            "------1-th experiment-----\n",
            "Step: 1000, Spend 0m, 12s, Average Returns: 9.2\n",
            "Step: 2000, Spend 0m, 25s, Average Returns: 14.9\n",
            "Step: 3000, Spend 0m, 37s, Average Returns: 20.6\n",
            "Step: 4000, Spend 0m, 49s, Average Returns: 9.4\n",
            "Step: 5000, Spend 1m, 2s, Average Returns: 13.5\n",
            "Step: 6000, Spend 1m, 14s, Average Returns: 20.9\n",
            "Step: 7000, Spend 1m, 27s, Average Returns: 25.7\n",
            "Step: 8000, Spend 1m, 39s, Average Returns: 13.4\n",
            "Step: 9000, Spend 1m, 52s, Average Returns: 16.7\n",
            "Step: 10000, Spend 2m, 4s, Average Returns: 16.3\n",
            "Step: 11000, Spend 2m, 16s, Average Returns: 15.0\n",
            "Step: 12000, Spend 2m, 29s, Average Returns: 8.9\n",
            "Step: 13000, Spend 2m, 42s, Average Returns: 36.8\n",
            "Step: 14000, Spend 2m, 55s, Average Returns: 28.5\n",
            "Step: 15000, Spend 3m, 8s, Average Returns: 31.3\n",
            "Step: 16000, Spend 3m, 22s, Average Returns: 38.4\n",
            "Step: 17000, Spend 3m, 36s, Average Returns: 58.3\n",
            "Step: 18000, Spend 3m, 50s, Average Returns: 40.6\n",
            "Step: 19000, Spend 4m, 4s, Average Returns: 44.7\n",
            "Step: 20000, Spend 4m, 16s, Average Returns: 28.0\n",
            "Batch size = 1\n",
            "------2-th experiment-----\n",
            "Step: 1000, Spend 0m, 12s, Average Returns: 9.5\n",
            "Step: 2000, Spend 0m, 24s, Average Returns: 9.7\n",
            "Step: 3000, Spend 0m, 38s, Average Returns: 39.9\n",
            "Step: 4000, Spend 0m, 55s, Average Returns: 108.5\n",
            "Step: 5000, Spend 1m, 7s, Average Returns: 14.7\n",
            "Step: 6000, Spend 1m, 19s, Average Returns: 11.3\n",
            "Step: 7000, Spend 1m, 35s, Average Returns: 94.4\n",
            "Step: 8000, Spend 1m, 52s, Average Returns: 100.6\n",
            "Step: 9000, Spend 2m, 5s, Average Returns: 33.7\n",
            "Step: 10000, Spend 2m, 20s, Average Returns: 58.6\n",
            "Step: 11000, Spend 2m, 34s, Average Returns: 45.2\n",
            "Step: 12000, Spend 2m, 46s, Average Returns: 15.4\n",
            "Step: 13000, Spend 3m, 1s, Average Returns: 74.4\n",
            "Step: 14000, Spend 3m, 15s, Average Returns: 52.1\n",
            "Step: 15000, Spend 3m, 28s, Average Returns: 10.4\n",
            "Step: 16000, Spend 3m, 42s, Average Returns: 49.6\n",
            "Step: 17000, Spend 3m, 54s, Average Returns: 18.7\n",
            "Step: 18000, Spend 4m, 7s, Average Returns: 13.3\n",
            "Step: 19000, Spend 4m, 20s, Average Returns: 17.1\n",
            "Step: 20000, Spend 4m, 32s, Average Returns: 25.1\n",
            "Batch size = 1\n",
            "------3-th experiment-----\n",
            "Step: 1000, Spend 0m, 12s, Average Returns: 9.8\n",
            "Step: 2000, Spend 0m, 24s, Average Returns: 9.5\n",
            "Step: 3000, Spend 0m, 37s, Average Returns: 9.4\n",
            "Step: 4000, Spend 0m, 49s, Average Returns: 9.3\n",
            "Step: 5000, Spend 1m, 1s, Average Returns: 9.2\n",
            "Step: 6000, Spend 1m, 13s, Average Returns: 9.8\n",
            "Step: 7000, Spend 1m, 26s, Average Returns: 21.9\n",
            "Step: 8000, Spend 1m, 38s, Average Returns: 9.9\n",
            "Step: 9000, Spend 1m, 52s, Average Returns: 47.9\n",
            "Step: 10000, Spend 2m, 4s, Average Returns: 12.8\n",
            "Step: 11000, Spend 2m, 19s, Average Returns: 69.2\n",
            "Step: 12000, Spend 2m, 32s, Average Returns: 39.0\n",
            "Step: 13000, Spend 2m, 45s, Average Returns: 19.7\n",
            "Step: 14000, Spend 2m, 58s, Average Returns: 22.8\n",
            "Step: 15000, Spend 3m, 10s, Average Returns: 15.5\n",
            "Step: 16000, Spend 3m, 23s, Average Returns: 16.8\n",
            "Step: 17000, Spend 3m, 37s, Average Returns: 44.7\n",
            "Step: 18000, Spend 3m, 51s, Average Returns: 55.2\n",
            "Step: 19000, Spend 4m, 3s, Average Returns: 21.4\n",
            "Step: 20000, Spend 4m, 17s, Average Returns: 37.2\n",
            "Batch size = 1\n",
            "------4-th experiment-----\n",
            "Step: 1000, Spend 0m, 12s, Average Returns: 9.3\n",
            "Step: 2000, Spend 0m, 25s, Average Returns: 9.1\n",
            "Step: 3000, Spend 0m, 37s, Average Returns: 10.4\n",
            "Step: 4000, Spend 0m, 49s, Average Returns: 10.0\n",
            "Step: 5000, Spend 1m, 1s, Average Returns: 10.0\n",
            "Step: 6000, Spend 1m, 13s, Average Returns: 13.7\n",
            "Step: 7000, Spend 1m, 26s, Average Returns: 10.7\n",
            "Step: 8000, Spend 1m, 38s, Average Returns: 9.3\n",
            "Step: 9000, Spend 1m, 50s, Average Returns: 20.0\n",
            "Step: 10000, Spend 2m, 2s, Average Returns: 10.4\n",
            "Step: 11000, Spend 2m, 16s, Average Returns: 44.9\n",
            "Step: 12000, Spend 2m, 28s, Average Returns: 8.9\n",
            "Step: 13000, Spend 2m, 41s, Average Returns: 33.3\n",
            "Step: 14000, Spend 2m, 56s, Average Returns: 51.6\n",
            "Step: 15000, Spend 3m, 8s, Average Returns: 13.4\n",
            "Step: 16000, Spend 3m, 22s, Average Returns: 57.6\n",
            "Step: 17000, Spend 3m, 36s, Average Returns: 45.4\n",
            "Step: 18000, Spend 3m, 49s, Average Returns: 37.4\n",
            "Step: 19000, Spend 4m, 3s, Average Returns: 42.8\n",
            "Step: 20000, Spend 4m, 17s, Average Returns: 40.8\n",
            "Batch size = 1\n",
            "------5-th experiment-----\n",
            "Step: 1000, Spend 0m, 13s, Average Returns: 15.4\n",
            "Step: 2000, Spend 0m, 25s, Average Returns: 10.5\n",
            "Step: 3000, Spend 0m, 37s, Average Returns: 10.7\n",
            "Step: 4000, Spend 0m, 49s, Average Returns: 9.9\n",
            "Step: 5000, Spend 1m, 11s, Average Returns: 200.0\n",
            "Step: 6000, Spend 1m, 25s, Average Returns: 40.3\n",
            "Step: 7000, Spend 1m, 37s, Average Returns: 11.0\n",
            "Step: 8000, Spend 1m, 50s, Average Returns: 25.4\n",
            "Step: 9000, Spend 2m, 4s, Average Returns: 54.4\n",
            "Step: 10000, Spend 2m, 17s, Average Returns: 18.2\n",
            "Step: 11000, Spend 2m, 31s, Average Returns: 40.3\n",
            "Step: 12000, Spend 2m, 44s, Average Returns: 40.1\n",
            "Step: 13000, Spend 2m, 57s, Average Returns: 11.9\n",
            "Step: 14000, Spend 3m, 9s, Average Returns: 20.3\n",
            "Step: 15000, Spend 3m, 23s, Average Returns: 37.4\n",
            "Step: 16000, Spend 3m, 36s, Average Returns: 29.5\n",
            "Step: 17000, Spend 3m, 49s, Average Returns: 33.8\n",
            "Step: 18000, Spend 4m, 3s, Average Returns: 42.1\n",
            "Step: 19000, Spend 4m, 16s, Average Returns: 22.8\n",
            "Step: 20000, Spend 4m, 30s, Average Returns: 50.1\n",
            "Batch size = 30\n",
            "------1-th experiment-----\n",
            "Step: 1000, Spend 0m, 13s, Average Returns: 21.3\n",
            "Step: 2000, Spend 0m, 27s, Average Returns: 45.2\n",
            "Step: 3000, Spend 0m, 40s, Average Returns: 41.0\n",
            "Step: 4000, Spend 0m, 54s, Average Returns: 43.4\n",
            "Step: 5000, Spend 1m, 13s, Average Returns: 150.0\n",
            "Step: 6000, Spend 1m, 30s, Average Returns: 101.8\n",
            "Step: 7000, Spend 1m, 50s, Average Returns: 167.8\n",
            "Step: 8000, Spend 2m, 11s, Average Returns: 200.0\n",
            "Step: 9000, Spend 2m, 33s, Average Returns: 200.0\n",
            "Step: 10000, Spend 2m, 54s, Average Returns: 200.0\n",
            "Step: 11000, Spend 3m, 16s, Average Returns: 200.0\n",
            "Step: 12000, Spend 3m, 37s, Average Returns: 200.0\n",
            "Step: 13000, Spend 3m, 58s, Average Returns: 200.0\n",
            "Step: 14000, Spend 4m, 20s, Average Returns: 200.0\n",
            "Step: 15000, Spend 4m, 41s, Average Returns: 200.0\n",
            "Step: 16000, Spend 5m, 3s, Average Returns: 200.0\n",
            "Step: 17000, Spend 5m, 24s, Average Returns: 200.0\n",
            "Step: 18000, Spend 5m, 46s, Average Returns: 200.0\n",
            "Step: 19000, Spend 6m, 7s, Average Returns: 200.0\n",
            "Step: 20000, Spend 6m, 28s, Average Returns: 200.0\n",
            "Batch size = 30\n",
            "------2-th experiment-----\n",
            "Step: 1000, Spend 0m, 22s, Average Returns: 200.0\n",
            "Step: 2000, Spend 0m, 40s, Average Returns: 122.1\n",
            "Step: 3000, Spend 0m, 53s, Average Returns: 27.1\n",
            "Step: 4000, Spend 1m, 6s, Average Returns: 26.1\n",
            "Step: 5000, Spend 1m, 20s, Average Returns: 43.5\n",
            "Step: 6000, Spend 1m, 34s, Average Returns: 43.1\n",
            "Step: 7000, Spend 1m, 47s, Average Returns: 33.8\n",
            "Step: 8000, Spend 2m, 1s, Average Returns: 41.4\n",
            "Step: 9000, Spend 2m, 15s, Average Returns: 53.4\n",
            "Step: 10000, Spend 2m, 28s, Average Returns: 23.9\n",
            "Step: 11000, Spend 2m, 40s, Average Returns: 11.2\n",
            "Step: 12000, Spend 2m, 53s, Average Returns: 9.2\n",
            "Step: 13000, Spend 3m, 5s, Average Returns: 13.1\n",
            "Step: 14000, Spend 3m, 17s, Average Returns: 11.8\n",
            "Step: 15000, Spend 3m, 30s, Average Returns: 15.9\n",
            "Step: 16000, Spend 3m, 42s, Average Returns: 12.1\n",
            "Step: 17000, Spend 3m, 55s, Average Returns: 16.6\n",
            "Step: 18000, Spend 4m, 8s, Average Returns: 23.3\n",
            "Step: 19000, Spend 4m, 21s, Average Returns: 34.5\n",
            "Step: 20000, Spend 4m, 35s, Average Returns: 35.8\n",
            "Batch size = 30\n",
            "------3-th experiment-----\n",
            "Step: 1000, Spend 0m, 13s, Average Returns: 25.0\n",
            "Step: 2000, Spend 0m, 26s, Average Returns: 27.3\n",
            "Step: 3000, Spend 0m, 40s, Average Returns: 42.6\n",
            "Step: 4000, Spend 0m, 55s, Average Returns: 67.9\n",
            "Step: 5000, Spend 1m, 12s, Average Returns: 99.3\n",
            "Step: 6000, Spend 1m, 27s, Average Returns: 61.7\n",
            "Step: 7000, Spend 1m, 44s, Average Returns: 119.3\n",
            "Step: 8000, Spend 2m, 3s, Average Returns: 147.1\n",
            "Step: 9000, Spend 2m, 22s, Average Returns: 143.0\n",
            "Step: 10000, Spend 2m, 43s, Average Returns: 186.7\n",
            "Step: 11000, Spend 3m, 4s, Average Returns: 193.6\n",
            "Step: 12000, Spend 3m, 24s, Average Returns: 169.5\n",
            "Step: 13000, Spend 3m, 44s, Average Returns: 167.6\n",
            "Step: 14000, Spend 4m, 6s, Average Returns: 200.0\n",
            "Step: 15000, Spend 4m, 27s, Average Returns: 200.0\n",
            "Step: 16000, Spend 4m, 49s, Average Returns: 200.0\n",
            "Step: 17000, Spend 5m, 10s, Average Returns: 200.0\n",
            "Step: 18000, Spend 5m, 32s, Average Returns: 200.0\n",
            "Step: 19000, Spend 5m, 53s, Average Returns: 200.0\n",
            "Step: 20000, Spend 6m, 15s, Average Returns: 200.0\n",
            "Batch size = 30\n",
            "------4-th experiment-----\n",
            "Step: 1000, Spend 0m, 13s, Average Returns: 26.7\n",
            "Step: 2000, Spend 0m, 27s, Average Returns: 39.6\n",
            "Step: 3000, Spend 0m, 41s, Average Returns: 49.2\n",
            "Step: 4000, Spend 0m, 56s, Average Returns: 76.4\n",
            "Step: 5000, Spend 1m, 13s, Average Returns: 95.4\n",
            "Step: 6000, Spend 1m, 29s, Average Returns: 96.9\n",
            "Step: 7000, Spend 1m, 50s, Average Returns: 174.5\n",
            "Step: 8000, Spend 2m, 10s, Average Returns: 174.5\n",
            "Step: 9000, Spend 2m, 28s, Average Returns: 140.7\n",
            "Step: 10000, Spend 2m, 49s, Average Returns: 182.7\n",
            "Step: 11000, Spend 3m, 10s, Average Returns: 189.7\n",
            "Step: 12000, Spend 3m, 31s, Average Returns: 197.9\n",
            "Step: 13000, Spend 3m, 53s, Average Returns: 195.7\n",
            "Step: 14000, Spend 4m, 14s, Average Returns: 199.7\n",
            "Step: 15000, Spend 4m, 36s, Average Returns: 200.0\n",
            "Step: 16000, Spend 4m, 57s, Average Returns: 198.9\n",
            "Step: 17000, Spend 5m, 19s, Average Returns: 200.0\n",
            "Step: 18000, Spend 5m, 40s, Average Returns: 200.0\n",
            "Step: 19000, Spend 6m, 2s, Average Returns: 200.0\n",
            "Step: 20000, Spend 6m, 23s, Average Returns: 200.0\n",
            "Batch size = 30\n",
            "------5-th experiment-----\n",
            "Step: 1000, Spend 0m, 16s, Average Returns: 83.4\n",
            "Step: 2000, Spend 0m, 30s, Average Returns: 38.1\n",
            "Step: 3000, Spend 0m, 44s, Average Returns: 47.3\n",
            "Step: 4000, Spend 0m, 58s, Average Returns: 43.6\n",
            "Step: 5000, Spend 1m, 12s, Average Returns: 52.2\n",
            "Step: 6000, Spend 1m, 27s, Average Returns: 67.8\n",
            "Step: 7000, Spend 1m, 42s, Average Returns: 60.3\n",
            "Step: 8000, Spend 1m, 57s, Average Returns: 85.1\n",
            "Step: 9000, Spend 2m, 13s, Average Returns: 79.6\n",
            "Step: 10000, Spend 2m, 31s, Average Returns: 128.7\n",
            "Step: 11000, Spend 2m, 49s, Average Returns: 116.2\n",
            "Step: 12000, Spend 3m, 10s, Average Returns: 195.1\n",
            "Step: 13000, Spend 3m, 29s, Average Returns: 142.0\n",
            "Step: 14000, Spend 3m, 50s, Average Returns: 192.8\n",
            "Step: 15000, Spend 4m, 11s, Average Returns: 193.5\n",
            "Step: 16000, Spend 4m, 33s, Average Returns: 200.0\n",
            "Step: 17000, Spend 4m, 54s, Average Returns: 200.0\n",
            "Step: 18000, Spend 5m, 16s, Average Returns: 200.0\n",
            "Step: 19000, Spend 5m, 37s, Average Returns: 200.0\n",
            "Step: 20000, Spend 5m, 59s, Average Returns: 200.0\n",
            "Batch size = 50\n",
            "------1-th experiment-----\n",
            "Step: 1000, Spend 0m, 13s, Average Returns: 19.8\n",
            "Step: 2000, Spend 0m, 27s, Average Returns: 54.3\n",
            "Step: 3000, Spend 0m, 42s, Average Returns: 56.6\n",
            "Step: 4000, Spend 0m, 59s, Average Returns: 113.7\n",
            "Step: 5000, Spend 1m, 17s, Average Returns: 121.4\n",
            "Step: 6000, Spend 1m, 34s, Average Returns: 97.1\n",
            "Step: 7000, Spend 1m, 53s, Average Returns: 157.2\n",
            "Step: 8000, Spend 2m, 14s, Average Returns: 187.1\n",
            "Step: 9000, Spend 2m, 35s, Average Returns: 194.3\n",
            "Step: 10000, Spend 2m, 57s, Average Returns: 200.0\n",
            "Step: 11000, Spend 3m, 19s, Average Returns: 194.1\n",
            "Step: 12000, Spend 3m, 41s, Average Returns: 200.0\n",
            "Step: 13000, Spend 4m, 2s, Average Returns: 200.0\n",
            "Step: 14000, Spend 4m, 24s, Average Returns: 200.0\n",
            "Step: 15000, Spend 4m, 45s, Average Returns: 200.0\n",
            "Step: 16000, Spend 5m, 7s, Average Returns: 200.0\n",
            "Step: 17000, Spend 5m, 29s, Average Returns: 200.0\n",
            "Step: 18000, Spend 5m, 50s, Average Returns: 200.0\n",
            "Step: 19000, Spend 6m, 12s, Average Returns: 197.6\n",
            "Step: 20000, Spend 6m, 33s, Average Returns: 200.0\n",
            "Batch size = 50\n",
            "------2-th experiment-----\n",
            "Step: 1000, Spend 0m, 13s, Average Returns: 15.2\n",
            "Step: 2000, Spend 0m, 25s, Average Returns: 18.8\n",
            "Step: 3000, Spend 0m, 39s, Average Returns: 36.7\n",
            "Step: 4000, Spend 0m, 53s, Average Returns: 45.1\n",
            "Step: 5000, Spend 1m, 7s, Average Returns: 42.4\n",
            "Step: 6000, Spend 1m, 22s, Average Returns: 59.3\n",
            "Step: 7000, Spend 1m, 40s, Average Returns: 113.6\n",
            "Step: 8000, Spend 2m, 1s, Average Returns: 200.0\n",
            "Step: 9000, Spend 2m, 23s, Average Returns: 200.0\n",
            "Step: 10000, Spend 2m, 44s, Average Returns: 200.0\n",
            "Step: 11000, Spend 3m, 6s, Average Returns: 200.0\n",
            "Step: 12000, Spend 3m, 27s, Average Returns: 196.3\n",
            "Step: 13000, Spend 3m, 49s, Average Returns: 195.5\n",
            "Step: 14000, Spend 4m, 11s, Average Returns: 200.0\n",
            "Step: 15000, Spend 4m, 32s, Average Returns: 200.0\n",
            "Step: 16000, Spend 4m, 54s, Average Returns: 200.0\n",
            "Step: 17000, Spend 5m, 15s, Average Returns: 189.9\n",
            "Step: 18000, Spend 5m, 37s, Average Returns: 200.0\n",
            "Step: 19000, Spend 5m, 58s, Average Returns: 200.0\n",
            "Step: 20000, Spend 6m, 20s, Average Returns: 200.0\n",
            "Batch size = 50\n",
            "------3-th experiment-----\n",
            "Step: 1000, Spend 0m, 13s, Average Returns: 22.8\n",
            "Step: 2000, Spend 0m, 28s, Average Returns: 48.2\n",
            "Step: 3000, Spend 0m, 43s, Average Returns: 59.6\n",
            "Step: 4000, Spend 1m, 0s, Average Returns: 113.7\n",
            "Step: 5000, Spend 1m, 19s, Average Returns: 147.4\n",
            "Step: 6000, Spend 1m, 39s, Average Returns: 165.1\n",
            "Step: 7000, Spend 1m, 58s, Average Returns: 140.2\n",
            "Step: 8000, Spend 2m, 18s, Average Returns: 162.7\n",
            "Step: 9000, Spend 2m, 38s, Average Returns: 174.5\n",
            "Step: 10000, Spend 2m, 59s, Average Returns: 187.1\n",
            "Step: 11000, Spend 3m, 19s, Average Returns: 161.6\n",
            "Step: 12000, Spend 3m, 38s, Average Returns: 148.3\n",
            "Step: 13000, Spend 3m, 59s, Average Returns: 193.2\n",
            "Step: 14000, Spend 4m, 21s, Average Returns: 191.4\n",
            "Step: 15000, Spend 4m, 42s, Average Returns: 193.3\n",
            "Step: 16000, Spend 5m, 4s, Average Returns: 199.3\n",
            "Step: 17000, Spend 5m, 25s, Average Returns: 197.4\n",
            "Step: 18000, Spend 5m, 46s, Average Returns: 191.1\n",
            "Step: 19000, Spend 6m, 8s, Average Returns: 194.0\n",
            "Step: 20000, Spend 6m, 29s, Average Returns: 195.9\n",
            "Batch size = 50\n",
            "------4-th experiment-----\n",
            "Step: 1000, Spend 0m, 13s, Average Returns: 21.2\n",
            "Step: 2000, Spend 0m, 27s, Average Returns: 25.7\n",
            "Step: 3000, Spend 0m, 41s, Average Returns: 50.2\n",
            "Step: 4000, Spend 0m, 57s, Average Returns: 70.4\n",
            "Step: 5000, Spend 1m, 14s, Average Returns: 118.2\n",
            "Step: 6000, Spend 1m, 31s, Average Returns: 98.5\n",
            "Step: 7000, Spend 1m, 49s, Average Returns: 118.6\n",
            "Step: 8000, Spend 2m, 8s, Average Returns: 140.3\n",
            "Step: 9000, Spend 2m, 26s, Average Returns: 137.9\n",
            "Step: 10000, Spend 2m, 46s, Average Returns: 160.3\n",
            "Step: 11000, Spend 3m, 7s, Average Returns: 184.9\n",
            "Step: 12000, Spend 3m, 27s, Average Returns: 168.7\n",
            "Step: 13000, Spend 3m, 49s, Average Returns: 195.1\n",
            "Step: 14000, Spend 4m, 11s, Average Returns: 195.2\n",
            "Step: 15000, Spend 4m, 33s, Average Returns: 199.4\n",
            "Step: 16000, Spend 4m, 54s, Average Returns: 200.0\n",
            "Step: 17000, Spend 5m, 16s, Average Returns: 200.0\n",
            "Step: 18000, Spend 5m, 37s, Average Returns: 200.0\n",
            "Step: 19000, Spend 5m, 59s, Average Returns: 200.0\n",
            "Step: 20000, Spend 6m, 21s, Average Returns: 200.0\n",
            "Batch size = 50\n",
            "------5-th experiment-----\n",
            "Step: 1000, Spend 0m, 12s, Average Returns: 12.7\n",
            "Step: 2000, Spend 0m, 25s, Average Returns: 20.8\n",
            "Step: 3000, Spend 0m, 44s, Average Returns: 141.0\n",
            "Step: 4000, Spend 1m, 0s, Average Returns: 83.1\n",
            "Step: 5000, Spend 1m, 17s, Average Returns: 96.9\n",
            "Step: 6000, Spend 1m, 36s, Average Returns: 147.4\n",
            "Step: 7000, Spend 1m, 53s, Average Returns: 102.2\n",
            "Step: 8000, Spend 2m, 14s, Average Returns: 179.2\n",
            "Step: 9000, Spend 2m, 34s, Average Returns: 156.7\n",
            "Step: 10000, Spend 2m, 55s, Average Returns: 180.5\n",
            "Step: 11000, Spend 3m, 16s, Average Returns: 182.7\n",
            "Step: 12000, Spend 3m, 36s, Average Returns: 174.6\n",
            "Step: 13000, Spend 3m, 58s, Average Returns: 188.5\n",
            "Step: 14000, Spend 4m, 19s, Average Returns: 194.4\n",
            "Step: 15000, Spend 4m, 40s, Average Returns: 187.5\n",
            "Step: 16000, Spend 5m, 2s, Average Returns: 199.1\n",
            "Step: 17000, Spend 5m, 24s, Average Returns: 192.5\n",
            "Step: 18000, Spend 5m, 45s, Average Returns: 191.5\n",
            "Step: 19000, Spend 6m, 6s, Average Returns: 191.5\n",
            "Step: 20000, Spend 6m, 27s, Average Returns: 188.6\n",
            "Batch size = 200\n",
            "------1-th experiment-----\n",
            "Step: 1000, Spend 0m, 14s, Average Returns: 44.1\n",
            "Step: 2000, Spend 0m, 29s, Average Returns: 61.7\n",
            "Step: 3000, Spend 0m, 47s, Average Returns: 127.0\n",
            "Step: 4000, Spend 1m, 8s, Average Returns: 169.8\n",
            "Step: 5000, Spend 1m, 29s, Average Returns: 171.8\n",
            "Step: 6000, Spend 1m, 49s, Average Returns: 179.0\n",
            "Step: 7000, Spend 2m, 11s, Average Returns: 199.3\n",
            "Step: 8000, Spend 2m, 33s, Average Returns: 189.2\n",
            "Step: 9000, Spend 2m, 54s, Average Returns: 194.8\n",
            "Step: 10000, Spend 3m, 16s, Average Returns: 198.5\n",
            "Step: 11000, Spend 3m, 38s, Average Returns: 200.0\n",
            "Step: 12000, Spend 4m, 0s, Average Returns: 196.3\n",
            "Step: 13000, Spend 4m, 22s, Average Returns: 200.0\n",
            "Step: 14000, Spend 4m, 43s, Average Returns: 200.0\n",
            "Step: 15000, Spend 5m, 5s, Average Returns: 199.8\n",
            "Step: 16000, Spend 5m, 27s, Average Returns: 200.0\n",
            "Step: 17000, Spend 5m, 49s, Average Returns: 200.0\n",
            "Step: 18000, Spend 6m, 11s, Average Returns: 200.0\n",
            "Step: 19000, Spend 6m, 33s, Average Returns: 200.0\n",
            "Step: 20000, Spend 6m, 55s, Average Returns: 200.0\n",
            "Batch size = 200\n",
            "------2-th experiment-----\n",
            "Step: 1000, Spend 0m, 14s, Average Returns: 38.2\n",
            "Step: 2000, Spend 0m, 34s, Average Returns: 169.5\n",
            "Step: 3000, Spend 0m, 56s, Average Returns: 190.6\n",
            "Step: 4000, Spend 1m, 15s, Average Returns: 157.6\n",
            "Step: 5000, Spend 1m, 35s, Average Returns: 161.5\n",
            "Step: 6000, Spend 1m, 57s, Average Returns: 188.0\n",
            "Step: 7000, Spend 2m, 18s, Average Returns: 187.4\n",
            "Step: 8000, Spend 2m, 40s, Average Returns: 200.0\n",
            "Step: 9000, Spend 3m, 2s, Average Returns: 200.0\n",
            "Step: 10000, Spend 3m, 24s, Average Returns: 200.0\n",
            "Step: 11000, Spend 3m, 46s, Average Returns: 200.0\n",
            "Step: 12000, Spend 4m, 7s, Average Returns: 200.0\n",
            "Step: 13000, Spend 4m, 29s, Average Returns: 200.0\n",
            "Step: 14000, Spend 4m, 51s, Average Returns: 200.0\n",
            "Step: 15000, Spend 5m, 13s, Average Returns: 200.0\n",
            "Step: 16000, Spend 5m, 35s, Average Returns: 200.0\n",
            "Step: 17000, Spend 5m, 57s, Average Returns: 200.0\n",
            "Step: 18000, Spend 6m, 19s, Average Returns: 200.0\n",
            "Step: 19000, Spend 6m, 41s, Average Returns: 200.0\n",
            "Step: 20000, Spend 7m, 3s, Average Returns: 200.0\n",
            "Batch size = 200\n",
            "------3-th experiment-----\n",
            "Step: 1000, Spend 0m, 14s, Average Returns: 36.5\n",
            "Step: 2000, Spend 0m, 32s, Average Returns: 119.6\n",
            "Step: 3000, Spend 0m, 52s, Average Returns: 175.9\n",
            "Step: 4000, Spend 1m, 13s, Average Returns: 185.0\n",
            "Step: 5000, Spend 1m, 35s, Average Returns: 198.1\n",
            "Step: 6000, Spend 1m, 57s, Average Returns: 199.7\n",
            "Step: 7000, Spend 2m, 19s, Average Returns: 200.0\n",
            "Step: 8000, Spend 2m, 41s, Average Returns: 200.0\n",
            "Step: 9000, Spend 3m, 3s, Average Returns: 200.0\n",
            "Step: 10000, Spend 3m, 25s, Average Returns: 200.0\n",
            "Step: 11000, Spend 3m, 47s, Average Returns: 200.0\n",
            "Step: 12000, Spend 4m, 9s, Average Returns: 200.0\n",
            "Step: 13000, Spend 4m, 31s, Average Returns: 200.0\n",
            "Step: 14000, Spend 4m, 53s, Average Returns: 200.0\n",
            "Step: 15000, Spend 5m, 15s, Average Returns: 200.0\n",
            "Step: 16000, Spend 5m, 36s, Average Returns: 200.0\n",
            "Step: 17000, Spend 5m, 58s, Average Returns: 200.0\n",
            "Step: 18000, Spend 6m, 20s, Average Returns: 200.0\n",
            "Step: 19000, Spend 6m, 42s, Average Returns: 200.0\n",
            "Step: 20000, Spend 7m, 4s, Average Returns: 200.0\n",
            "Batch size = 200\n",
            "------4-th experiment-----\n",
            "Step: 1000, Spend 0m, 14s, Average Returns: 36.0\n",
            "Step: 2000, Spend 0m, 33s, Average Returns: 140.7\n",
            "Step: 3000, Spend 0m, 54s, Average Returns: 197.8\n",
            "Step: 4000, Spend 1m, 16s, Average Returns: 200.0\n",
            "Step: 5000, Spend 1m, 38s, Average Returns: 200.0\n",
            "Step: 6000, Spend 2m, 0s, Average Returns: 200.0\n",
            "Step: 7000, Spend 2m, 22s, Average Returns: 200.0\n",
            "Step: 8000, Spend 2m, 43s, Average Returns: 200.0\n",
            "Step: 9000, Spend 3m, 5s, Average Returns: 200.0\n",
            "Step: 10000, Spend 3m, 27s, Average Returns: 200.0\n",
            "Step: 11000, Spend 3m, 49s, Average Returns: 200.0\n",
            "Step: 12000, Spend 4m, 11s, Average Returns: 200.0\n",
            "Step: 13000, Spend 4m, 32s, Average Returns: 200.0\n",
            "Step: 14000, Spend 4m, 54s, Average Returns: 200.0\n",
            "Step: 15000, Spend 5m, 17s, Average Returns: 200.0\n",
            "Step: 16000, Spend 5m, 38s, Average Returns: 200.0\n",
            "Step: 17000, Spend 6m, 1s, Average Returns: 200.0\n",
            "Step: 18000, Spend 6m, 23s, Average Returns: 200.0\n",
            "Step: 19000, Spend 6m, 45s, Average Returns: 200.0\n",
            "Step: 20000, Spend 7m, 7s, Average Returns: 200.0\n",
            "Batch size = 200\n",
            "------5-th experiment-----\n",
            "Step: 1000, Spend 0m, 14s, Average Returns: 37.8\n",
            "Step: 2000, Spend 0m, 30s, Average Returns: 92.4\n",
            "Step: 3000, Spend 0m, 52s, Average Returns: 195.9\n",
            "Step: 4000, Spend 1m, 13s, Average Returns: 192.3\n",
            "Step: 5000, Spend 1m, 36s, Average Returns: 200.0\n",
            "Step: 6000, Spend 1m, 57s, Average Returns: 200.0\n",
            "Step: 7000, Spend 2m, 19s, Average Returns: 199.7\n",
            "Step: 8000, Spend 2m, 41s, Average Returns: 200.0\n",
            "Step: 9000, Spend 3m, 3s, Average Returns: 200.0\n",
            "Step: 10000, Spend 3m, 24s, Average Returns: 200.0\n",
            "Step: 11000, Spend 3m, 46s, Average Returns: 200.0\n",
            "Step: 12000, Spend 4m, 8s, Average Returns: 200.0\n",
            "Step: 13000, Spend 4m, 30s, Average Returns: 200.0\n",
            "Step: 14000, Spend 4m, 52s, Average Returns: 200.0\n",
            "Step: 15000, Spend 5m, 14s, Average Returns: 200.0\n",
            "Step: 16000, Spend 5m, 36s, Average Returns: 200.0\n",
            "Step: 17000, Spend 5m, 57s, Average Returns: 200.0\n",
            "Step: 18000, Spend 6m, 19s, Average Returns: 200.0\n",
            "Step: 19000, Spend 6m, 41s, Average Returns: 200.0\n",
            "Step: 20000, Spend 7m, 3s, Average Returns: 200.0\n"
          ]
        }
      ]
    },
    {
      "cell_type": "code",
      "metadata": {
        "colab": {
          "base_uri": "https://localhost:8080/",
          "height": 16
        },
        "id": "qMJ6hiKxPvS4",
        "outputId": "90034f2d-5951-405b-f445-f6ab80c7d18e"
      },
      "source": [
        "# Save results\n",
        "batch_size_returns_array = np.array(batch_size_results)\n",
        "torch.save(batch_size_returns_array, 'batch_size_returns.pt')\n",
        "files.download('batch_size_returns.pt')"
      ],
      "execution_count": 41,
      "outputs": [
        {
          "output_type": "display_data",
          "data": {
            "application/javascript": [
              "\n",
              "    async function download(id, filename, size) {\n",
              "      if (!google.colab.kernel.accessAllowed) {\n",
              "        return;\n",
              "      }\n",
              "      const div = document.createElement('div');\n",
              "      const label = document.createElement('label');\n",
              "      label.textContent = `Downloading \"${filename}\": `;\n",
              "      div.appendChild(label);\n",
              "      const progress = document.createElement('progress');\n",
              "      progress.max = size;\n",
              "      div.appendChild(progress);\n",
              "      document.body.appendChild(div);\n",
              "\n",
              "      const buffers = [];\n",
              "      let downloaded = 0;\n",
              "\n",
              "      const channel = await google.colab.kernel.comms.open(id);\n",
              "      // Send a message to notify the kernel that we're ready.\n",
              "      channel.send({})\n",
              "\n",
              "      for await (const message of channel.messages) {\n",
              "        // Send a message to notify the kernel that we're ready.\n",
              "        channel.send({})\n",
              "        if (message.buffers) {\n",
              "          for (const buffer of message.buffers) {\n",
              "            buffers.push(buffer);\n",
              "            downloaded += buffer.byteLength;\n",
              "            progress.value = downloaded;\n",
              "          }\n",
              "        }\n",
              "      }\n",
              "      const blob = new Blob(buffers, {type: 'application/binary'});\n",
              "      const a = document.createElement('a');\n",
              "      a.href = window.URL.createObjectURL(blob);\n",
              "      a.download = filename;\n",
              "      div.appendChild(a);\n",
              "      a.click();\n",
              "      div.remove();\n",
              "    }\n",
              "  "
            ],
            "text/plain": [
              "<IPython.core.display.Javascript object>"
            ]
          },
          "metadata": {}
        },
        {
          "output_type": "display_data",
          "data": {
            "application/javascript": [
              "download(\"download_5946322f-5525-446c-8abd-1adff59dc726\", \"batch_size_returns.pt\", 2607)"
            ],
            "text/plain": [
              "<IPython.core.display.Javascript object>"
            ]
          },
          "metadata": {}
        }
      ]
    },
    {
      "cell_type": "markdown",
      "metadata": {
        "id": "68jNcA_TiJDq"
      },
      "source": [
        "## Visualization\n"
      ]
    },
    {
      "cell_type": "code",
      "metadata": {
        "id": "vRrXj-PTXK54",
        "colab": {
          "base_uri": "https://localhost:8080/"
        },
        "outputId": "2253ff62-33df-41df-adb3-5394652f59b4"
      },
      "source": [
        "tup_returns_array.shape\n"
      ],
      "execution_count": 42,
      "outputs": [
        {
          "output_type": "execute_result",
          "data": {
            "text/plain": [
              "(4, 5, 21)"
            ]
          },
          "metadata": {},
          "execution_count": 42
        }
      ]
    },
    {
      "cell_type": "code",
      "metadata": {
        "id": "rt3qOQ5jQtaf"
      },
      "source": [
        "tup_label_list = ['$c = 1$', '$c = 10$', '$c = 30$', '$c = 100$']\n",
        "batch_size_label_list = ['$m = 1$', '$m = 30$', '$m = 50$', '$m = 200$']"
      ],
      "execution_count": 43,
      "outputs": []
    },
    {
      "cell_type": "code",
      "metadata": {
        "colab": {
          "base_uri": "https://localhost:8080/"
        },
        "id": "jeC7B1TB1_K0",
        "outputId": "cc854bab-aa2e-4db6-c76a-c6723a283619"
      },
      "source": [
        "batch_size_returns_array"
      ],
      "execution_count": 44,
      "outputs": [
        {
          "output_type": "execute_result",
          "data": {
            "text/plain": [
              "array([[[ 49.5,   9.2,  14.9,  20.6,   9.4,  13.5,  20.9,  25.7,  13.4,\n",
              "          16.7,  16.3,  15. ,   8.9,  36.8,  28.5,  31.3,  38.4,  58.3,\n",
              "          40.6,  44.7,  28. ],\n",
              "        [  9.1,   9.5,   9.7,  39.9, 108.5,  14.7,  11.3,  94.4, 100.6,\n",
              "          33.7,  58.6,  45.2,  15.4,  74.4,  52.1,  10.4,  49.6,  18.7,\n",
              "          13.3,  17.1,  25.1],\n",
              "        [ 24. ,   9.8,   9.5,   9.4,   9.3,   9.2,   9.8,  21.9,   9.9,\n",
              "          47.9,  12.8,  69.2,  39. ,  19.7,  22.8,  15.5,  16.8,  44.7,\n",
              "          55.2,  21.4,  37.2],\n",
              "        [  9.2,   9.3,   9.1,  10.4,  10. ,  10. ,  13.7,  10.7,   9.3,\n",
              "          20. ,  10.4,  44.9,   8.9,  33.3,  51.6,  13.4,  57.6,  45.4,\n",
              "          37.4,  42.8,  40.8],\n",
              "        [190. ,  15.4,  10.5,  10.7,   9.9, 200. ,  40.3,  11. ,  25.4,\n",
              "          54.4,  18.2,  40.3,  40.1,  11.9,  20.3,  37.4,  29.5,  33.8,\n",
              "          42.1,  22.8,  50.1]],\n",
              "\n",
              "       [[ 11.7,  21.3,  45.2,  41. ,  43.4, 150. , 101.8, 167.8, 200. ,\n",
              "         200. , 200. , 200. , 200. , 200. , 200. , 200. , 200. , 200. ,\n",
              "         200. , 200. , 200. ],\n",
              "        [  8.7, 200. , 122.1,  27.1,  26.1,  43.5,  43.1,  33.8,  41.4,\n",
              "          53.4,  23.9,  11.2,   9.2,  13.1,  11.8,  15.9,  12.1,  16.6,\n",
              "          23.3,  34.5,  35.8],\n",
              "        [ 45.9,  25. ,  27.3,  42.6,  67.9,  99.3,  61.7, 119.3, 147.1,\n",
              "         143. , 186.7, 193.6, 169.5, 167.6, 200. , 200. , 200. , 200. ,\n",
              "         200. , 200. , 200. ],\n",
              "        [ 11.8,  26.7,  39.6,  49.2,  76.4,  95.4,  96.9, 174.5, 174.5,\n",
              "         140.7, 182.7, 189.7, 197.9, 195.7, 199.7, 200. , 198.9, 200. ,\n",
              "         200. , 200. , 200. ],\n",
              "        [  9.7,  83.4,  38.1,  47.3,  43.6,  52.2,  67.8,  60.3,  85.1,\n",
              "          79.6, 128.7, 116.2, 195.1, 142. , 192.8, 193.5, 200. , 200. ,\n",
              "         200. , 200. , 200. ]],\n",
              "\n",
              "       [[  9.8,  19.8,  54.3,  56.6, 113.7, 121.4,  97.1, 157.2, 187.1,\n",
              "         194.3, 200. , 194.1, 200. , 200. , 200. , 200. , 200. , 200. ,\n",
              "         200. , 197.6, 200. ],\n",
              "        [  9.4,  15.2,  18.8,  36.7,  45.1,  42.4,  59.3, 113.6, 200. ,\n",
              "         200. , 200. , 200. , 196.3, 195.5, 200. , 200. , 200. , 189.9,\n",
              "         200. , 200. , 200. ],\n",
              "        [ 11.6,  22.8,  48.2,  59.6, 113.7, 147.4, 165.1, 140.2, 162.7,\n",
              "         174.5, 187.1, 161.6, 148.3, 193.2, 191.4, 193.3, 199.3, 197.4,\n",
              "         191.1, 194. , 195.9],\n",
              "        [ 40.8,  21.2,  25.7,  50.2,  70.4, 118.2,  98.5, 118.6, 140.3,\n",
              "         137.9, 160.3, 184.9, 168.7, 195.1, 195.2, 199.4, 200. , 200. ,\n",
              "         200. , 200. , 200. ],\n",
              "        [ 32.5,  12.7,  20.8, 141. ,  83.1,  96.9, 147.4, 102.2, 179.2,\n",
              "         156.7, 180.5, 182.7, 174.6, 188.5, 194.4, 187.5, 199.1, 192.5,\n",
              "         191.5, 191.5, 188.6]],\n",
              "\n",
              "       [[  9.9,  44.1,  61.7, 127. , 169.8, 171.8, 179. , 199.3, 189.2,\n",
              "         194.8, 198.5, 200. , 196.3, 200. , 200. , 199.8, 200. , 200. ,\n",
              "         200. , 200. , 200. ],\n",
              "        [ 11.1,  38.2, 169.5, 190.6, 157.6, 161.5, 188. , 187.4, 200. ,\n",
              "         200. , 200. , 200. , 200. , 200. , 200. , 200. , 200. , 200. ,\n",
              "         200. , 200. , 200. ],\n",
              "        [ 61.3,  36.5, 119.6, 175.9, 185. , 198.1, 199.7, 200. , 200. ,\n",
              "         200. , 200. , 200. , 200. , 200. , 200. , 200. , 200. , 200. ,\n",
              "         200. , 200. , 200. ],\n",
              "        [  9.5,  36. , 140.7, 197.8, 200. , 200. , 200. , 200. , 200. ,\n",
              "         200. , 200. , 200. , 200. , 200. , 200. , 200. , 200. , 200. ,\n",
              "         200. , 200. , 200. ],\n",
              "        [  9.2,  37.8,  92.4, 195.9, 192.3, 200. , 200. , 199.7, 200. ,\n",
              "         200. , 200. , 200. , 200. , 200. , 200. , 200. , 200. , 200. ,\n",
              "         200. , 200. , 200. ]]], dtype=float32)"
            ]
          },
          "metadata": {},
          "execution_count": 44
        }
      ]
    },
    {
      "cell_type": "code",
      "metadata": {
        "id": "lj5a9pQaRUJ3"
      },
      "source": [
        "def plotSingleCurve(data, ax, x, color, label):\n",
        "    # print(data.shape)\n",
        "    avg = np.mean(data, axis=0)\n",
        "    # std = np.std(data, axis=0)\n",
        "    ax.plot(x, avg, color=color, label=label)\n",
        "    # ax.fill_between(x, avg - std, avg + std, color=color, alpha=0.3)"
      ],
      "execution_count": 58,
      "outputs": []
    },
    {
      "cell_type": "code",
      "metadata": {
        "id": "HPeTxdaKRvzV"
      },
      "source": [
        "def plotCurves(data, label_list):\n",
        "    fig, ax = plt.subplots()\n",
        "    color_list = ['red', 'black', 'blue', 'green']\n",
        "    x = np.arange(0, num_iterations + 1, eval_interval)\n",
        "    for i in range(len(label_list)):\n",
        "        singledata = data[i]\n",
        "        plotSingleCurve(singledata, ax, x, color_list[i], label_list[i])\n",
        "    plt.xlabel('Iterations')\n",
        "    plt.ylabel('Average Return')\n",
        "    plt.legend()\n",
        "    plt.show()"
      ],
      "execution_count": 59,
      "outputs": []
    },
    {
      "cell_type": "code",
      "metadata": {
        "colab": {
          "base_uri": "https://localhost:8080/",
          "height": 278
        },
        "id": "PPHx2AkVRvvy",
        "outputId": "ada28179-feb4-4754-c7be-74e3f450585a"
      },
      "source": [
        "plotCurves(tup_returns_array, tup_label_list)"
      ],
      "execution_count": 60,
      "outputs": [
        {
          "output_type": "display_data",
          "data": {
            "image/png": "[encoded data removed]",
            "text/plain": [
              "<Figure size 432x288 with 1 Axes>"
            ]
          },
          "metadata": {
            "needs_background": "light"
          }
        }
      ]
    },
    {
      "cell_type": "code",
      "metadata": {
        "colab": {
          "base_uri": "https://localhost:8080/",
          "height": 278
        },
        "id": "uBkszyv-Tiyu",
        "outputId": "50d5752f-a413-4e67-c89a-c620f8335b98"
      },
      "source": [
        "plotCurves(batch_size_returns_array, batch_size_label_list)"
      ],
      "execution_count": 61,
      "outputs": [
        {
          "output_type": "display_data",
          "data": {
            "image/png": "[encoded data removed]",
            "text/plain": [
              "<Figure size 432x288 with 1 Axes>"
            ]
          },
          "metadata": {
            "needs_background": "light"
          }
        }
      ]
    },
    {
      "cell_type": "code",
      "metadata": {
        "colab": {
          "base_uri": "https://localhost:8080/"
        },
        "id": "LqPDxwmo9Gtp",
        "outputId": "122940e0-054c-4b85-9cb4-0d04ad7eae7f"
      },
      "source": [
        "#@test {\"skip\": true}\n",
        "try:\n",
        "  %%time\n",
        "except:\n",
        "  pass\n",
        "\n",
        "# (Optional) Optimize by wrapping some of the code in a graph using TF function.\n",
        "agent.train = common.function(agent.train)\n",
        "\n",
        "# Reset the train step\n",
        "agent.train_step_counter.assign(0)\n",
        "\n",
        "# Evaluate the agent's policy once before training.\n",
        "avg_return = compute_avg_return(eval_env, agent.policy, num_eval_episodes)\n",
        "returns = [avg_return]\n",
        "\n",
        "for _ in range(num_iterations):\n",
        "\n",
        "  # Collect a few steps using collect_policy and save to the replay buffer.\n",
        "  for _ in range(collect_steps_per_iteration):\n",
        "    collect_step(train_env, agent.collect_policy, replay_buffer)\n",
        "\n",
        "  # Sample a batch of data from the buffer and update the agent's network.\n",
        "  experience, unused_info = next(iterator)\n",
        "  train_loss = agent.train(experience).loss\n",
        "\n",
        "  step = agent.train_step_counter.numpy()\n",
        "\n",
        "  if step % log_interval == 0:\n",
        "    print('step = {0}: loss = {1}'.format(step, train_loss))\n",
        "\n",
        "  if step % eval_interval == 0:\n",
        "    avg_return = compute_avg_return(eval_env, agent.policy, num_eval_episodes)\n",
        "    print('step = {0}: Average Return = {1}'.format(step, avg_return))\n",
        "    returns.append(avg_return)"
      ],
      "execution_count": 49,
      "outputs": [
        {
          "output_type": "stream",
          "name": "stdout",
          "text": [
            "CPU times: user 0 ns, sys: 19 µs, total: 19 µs\n",
            "Wall time: 38.1 µs\n",
            "step = 200: loss = 24.477954864501953\n",
            "step = 400: loss = 8.453639030456543\n",
            "step = 600: loss = 28.559917449951172\n",
            "step = 800: loss = 29.33084487915039\n",
            "step = 1000: loss = 31.555070877075195\n",
            "step = 1000: Average Return = 53.70000076293945\n",
            "step = 1200: loss = 2.1511428356170654\n",
            "step = 1400: loss = 67.57029724121094\n",
            "step = 1600: loss = 99.52034759521484\n",
            "step = 1800: loss = 26.432973861694336\n",
            "step = 2000: loss = 95.2909164428711\n",
            "step = 2000: Average Return = 18.200000762939453\n",
            "step = 2200: loss = 16.18574333190918\n",
            "step = 2400: loss = 2.8509457111358643\n",
            "step = 2600: loss = 69.20257568359375\n",
            "step = 2800: loss = 18.282588958740234\n",
            "step = 3000: loss = 84.6915512084961\n",
            "step = 3000: Average Return = 34.599998474121094\n",
            "step = 3200: loss = 4.177315711975098\n",
            "step = 3400: loss = 41.204097747802734\n",
            "step = 3600: loss = 4.382815837860107\n",
            "step = 3800: loss = 20.027420043945312\n",
            "step = 4000: loss = 3.065782308578491\n",
            "step = 4000: Average Return = 92.19999694824219\n",
            "step = 4200: loss = 4.392989158630371\n",
            "step = 4400: loss = 20.57451629638672\n",
            "step = 4600: loss = 53.34104537963867\n",
            "step = 4800: loss = 47.39252471923828\n",
            "step = 5000: loss = 52.626712799072266\n",
            "step = 5000: Average Return = 139.3000030517578\n",
            "step = 5200: loss = 4.104166030883789\n",
            "step = 5400: loss = 6.384547233581543\n",
            "step = 5600: loss = 4.961408615112305\n",
            "step = 5800: loss = 2.525043249130249\n",
            "step = 6000: loss = 11.823044776916504\n",
            "step = 6000: Average Return = 55.20000076293945\n",
            "step = 6200: loss = 97.90618896484375\n",
            "step = 6400: loss = 7.037311553955078\n",
            "step = 6600: loss = 100.1901626586914\n",
            "step = 6800: loss = 146.89498901367188\n",
            "step = 7000: loss = 2.7557272911071777\n",
            "step = 7000: Average Return = 191.8000030517578\n",
            "step = 7200: loss = 88.7806625366211\n",
            "step = 7400: loss = 118.93350982666016\n",
            "step = 7600: loss = 113.24497985839844\n",
            "step = 7800: loss = 18.36349868774414\n",
            "step = 8000: loss = 31.493484497070312\n",
            "step = 8000: Average Return = 139.1999969482422\n",
            "step = 8200: loss = 8.923504829406738\n",
            "step = 8400: loss = 206.113037109375\n",
            "step = 8600: loss = 6.229082107543945\n",
            "step = 8800: loss = 6.838552474975586\n",
            "step = 9000: loss = 470.629638671875\n",
            "step = 9000: Average Return = 177.10000610351562\n",
            "step = 9200: loss = 3.4437332153320312\n",
            "step = 9400: loss = 222.56024169921875\n",
            "step = 9600: loss = 5.7424798011779785\n",
            "step = 9800: loss = 10.743053436279297\n",
            "step = 10000: loss = 8.922709465026855\n",
            "step = 10000: Average Return = 195.1999969482422\n",
            "step = 10200: loss = 179.96099853515625\n",
            "step = 10400: loss = 12.93732738494873\n",
            "step = 10600: loss = 24.763988494873047\n",
            "step = 10800: loss = 8.52155590057373\n",
            "step = 11000: loss = 10.143796920776367\n",
            "step = 11000: Average Return = 188.89999389648438\n",
            "step = 11200: loss = 8.85620403289795\n",
            "step = 11400: loss = 5.394314765930176\n",
            "step = 11600: loss = 548.9342651367188\n",
            "step = 11800: loss = 13.609003067016602\n",
            "step = 12000: loss = 25.489662170410156\n",
            "step = 12000: Average Return = 200.0\n",
            "step = 12200: loss = 385.9524841308594\n",
            "step = 12400: loss = 363.9268493652344\n",
            "step = 12600: loss = 1494.41259765625\n",
            "step = 12800: loss = 647.3577270507812\n",
            "step = 13000: loss = 13.965633392333984\n",
            "step = 13000: Average Return = 186.39999389648438\n",
            "step = 13200: loss = 25.806461334228516\n",
            "step = 13400: loss = 13.885106086730957\n",
            "step = 13600: loss = 14.821812629699707\n",
            "step = 13800: loss = 15.72878360748291\n",
            "step = 14000: loss = 20.13887596130371\n",
            "step = 14000: Average Return = 200.0\n",
            "step = 14200: loss = 1218.808349609375\n",
            "step = 14400: loss = 522.71337890625\n",
            "step = 14600: loss = 762.070556640625\n",
            "step = 14800: loss = 7.370378017425537\n",
            "step = 15000: loss = 993.3673095703125\n",
            "step = 15000: Average Return = 200.0\n",
            "step = 15200: loss = 12.248886108398438\n",
            "step = 15400: loss = 21.486589431762695\n",
            "step = 15600: loss = 25.125741958618164\n",
            "step = 15800: loss = 37.028526306152344\n",
            "step = 16000: loss = 620.102294921875\n",
            "step = 16000: Average Return = 197.89999389648438\n",
            "step = 16200: loss = 24.781312942504883\n",
            "step = 16400: loss = 26.59926414489746\n",
            "step = 16600: loss = 15.986291885375977\n",
            "step = 16800: loss = 624.9378662109375\n",
            "step = 17000: loss = 20.164945602416992\n",
            "step = 17000: Average Return = 200.0\n",
            "step = 17200: loss = 18.168004989624023\n",
            "step = 17400: loss = 25.80654525756836\n",
            "step = 17600: loss = 31.7342586517334\n",
            "step = 17800: loss = 1466.342041015625\n",
            "step = 18000: loss = 40.582664489746094\n",
            "step = 18000: Average Return = 200.0\n",
            "step = 18200: loss = 22.73145866394043\n",
            "step = 18400: loss = 38.677398681640625\n",
            "step = 18600: loss = 2321.533935546875\n",
            "step = 18800: loss = 1308.2821044921875\n",
            "step = 19000: loss = 35.63878631591797\n",
            "step = 19000: Average Return = 200.0\n",
            "step = 19200: loss = 1113.4110107421875\n",
            "step = 19400: loss = 36.14760208129883\n",
            "step = 19600: loss = 43.24406814575195\n",
            "step = 19800: loss = 2128.913818359375\n",
            "step = 20000: loss = 39.387474060058594\n",
            "step = 20000: Average Return = 200.0\n"
          ]
        }
      ]
    },
    {
      "cell_type": "markdown",
      "metadata": {
        "id": "aO-LWCdbbOIC"
      },
      "source": [
        "### Plots\n",
        "\n",
        "Use `matplotlib.pyplot` to chart how the policy improved during training.\n",
        "\n",
        "One iteration of `Cartpole-v0` consists of 200 time steps. The environment gives a reward of `+1` for each step the pole stays up, so the maximum return for one episode is 200. The charts shows the return increasing towards that maximum each time it is evaluated during training. (It may be a little unstable and not increase monotonically each time.)"
      ]
    },
    {
      "cell_type": "code",
      "metadata": {
        "id": "NxtL1mbOYCVO",
        "colab": {
          "base_uri": "https://localhost:8080/",
          "height": 301
        },
        "outputId": "48048c64-1a95-40f3-9a12-867c62d5b399"
      },
      "source": [
        "#@test {\"skip\": true}\n",
        "\n",
        "iterations = range(0, num_iterations + 1, eval_interval)\n",
        "plt.plot(iterations, returns)\n",
        "plt.ylabel('Average Return')\n",
        "plt.xlabel('Iterations')\n",
        "plt.ylim(top=250)"
      ],
      "execution_count": 50,
      "outputs": [
        {
          "output_type": "execute_result",
          "data": {
            "text/plain": [
              "(5.434999799728393, 250.0)"
            ]
          },
          "metadata": {},
          "execution_count": 50
        },
        {
          "output_type": "display_data",
          "data": {
            "image/png": "[encoded data removed]",
            "text/plain": [
              "<Figure size 432x288 with 1 Axes>"
            ]
          },
          "metadata": {
            "needs_background": "light"
          }
        }
      ]
    },
    {
      "cell_type": "markdown",
      "metadata": {
        "id": "M7-XpPP99Cy7"
      },
      "source": [
        "### Videos"
      ]
    },
    {
      "cell_type": "markdown",
      "metadata": {
        "id": "9pGfGxSH32gn"
      },
      "source": [
        "Charts are nice. But more exciting is seeing an agent actually performing a task in an environment. \n",
        "\n",
        "First, create a function to embed videos in the notebook."
      ]
    },
    {
      "cell_type": "code",
      "metadata": {
        "id": "ULaGr8pvOKbl"
      },
      "source": [
        "def embed_mp4(filename):\n",
        "  \"\"\"Embeds an mp4 file in the notebook.\"\"\"\n",
        "  video = open(filename,'rb').read()\n",
        "  b64 = base64.b64encode(video)\n",
        "  tag = '''\n",
        "  <video width=\"640\" height=\"480\" controls>\n",
        "    <source src=\"data:video/mp4;base64,{0}\" type=\"video/mp4\">\n",
        "  Your browser does not support the video tag.\n",
        "  </video>'''.format(b64.decode())\n",
        "\n",
        "  return IPython.display.HTML(tag)"
      ],
      "execution_count": 51,
      "outputs": []
    },
    {
      "cell_type": "markdown",
      "metadata": {
        "id": "9c_PH-pX4Pr5"
      },
      "source": [
        "Now iterate through a few episodes of the Cartpole game with the agent. The underlying Python environment (the one \"inside\" the TensorFlow environment wrapper) provides a `render()` method, which outputs an image of the environment state. These can be collected into a video."
      ]
    },
    {
      "cell_type": "code",
      "metadata": {
        "id": "owOVWB158NlF",
        "colab": {
          "base_uri": "https://localhost:8080/",
          "height": 537
        },
        "outputId": "889bd9c4-35f1-4909-b3d6-c840dd09a61c"
      },
      "source": [
        "def create_policy_eval_video(policy, filename, num_episodes=5, fps=30):\n",
        "  filename = filename + \".mp4\"\n",
        "  with imageio.get_writer(filename, fps=fps) as video:\n",
        "    for _ in range(num_episodes):\n",
        "      time_step = eval_env.reset()\n",
        "      video.append_data(eval_py_env.render())\n",
        "      while not time_step.is_last():\n",
        "        action_step = policy.action(time_step)\n",
        "        time_step = eval_env.step(action_step.action)\n",
        "        video.append_data(eval_py_env.render())\n",
        "  return embed_mp4(filename)\n",
        "\n",
        "\n",
        "\n",
        "\n",
        "create_policy_eval_video(agent.policy, \"trained-agent\")"
      ],
      "execution_count": 52,
      "outputs": [
        {
          "output_type": "stream",
          "name": "stderr",
          "text": [
            "WARNING:root:IMAGEIO FFMPEG_WRITER WARNING: input image is not divisible by macro_block_size=16, resizing from (400, 600) to (400, 608) to ensure video compatibility with most codecs and players. To prevent resizing, make your input image divisible by the macro_block_size or set the macro_block_size to None (risking incompatibility). You may also see a FFMPEG warning concerning speedloss due to data not being aligned.\n"
          ]
        },
        {
          "output_type": "execute_result",
          "data": {
            "text/html": [
              "\n",
              "  <video width=\"640\" height=\"480\" controls>\n",
              "    <source src=\"data:video/mp4;base64,AAAAIGZ0eXBpc29tAAACAGlzb21pc28yYXZjMW1wNDEAAAAIZnJlZQABAX1tZGF0AAACrgYF//+q3EXpvebZSLeWLNgg2SPu73gyNjQgLSBjb3JlIDE1MiByMjg1NCBlOWE1OTAzIC0gSC4yNjQvTVBFRy00IEFWQyBjb2RlYyAtIENvcHlsZWZ0IDIwMDMtMjAxNyAtIGh0dHA6Ly93d3cudmlkZW9sYW4ub3JnL3gyNjQuaHRtbCAtIG9wdGlvbnM6IGNhYmFjPTEgcmVmPTMgZGVibG9jaz0xOjA6MCBhbmFseXNlPTB4MzoweDExMyBtZT1oZXggc3VibWU9NyBwc3k9MSBwc3lfcmQ9MS4wMDowLjAwIG1peGVkX3JlZj0xIG1lX3JhbmdlPTE2IGNocm9tYV9tZT0xIHRyZWxsaXM9MSA4eDhkY3Q9MSBjcW09MCBkZWFkem9uZT0yMSwxMSBmYXN0X3Bza2lwPTEgY2hyb21hX3FwX29mZnNldD0tMiB0aHJlYWRzPTYgbG9va2FoZWFkX3RocmVhZHM9MSBzbGljZWRfdGhyZWFkcz0wIG5yPTAgZGVjaW1hdGU9MSBpbnRlcmxhY2VkPTAgYmx1cmF5X2NvbXBhdD0wIGNvbnN0cmFpbmVkX2ludHJhPTAgYmZyYW1lcz0zIGJfcHlyYW1pZD0yIGJfYWRhcHQ9MSBiX2JpYXM9MCBkaXJlY3Q9MSB3ZWlnaHRiPTEgb3Blbl9nb3A9MCB3ZWlnaHRwPTIga2V5aW50PTI1MCBrZXlpbnRfbWluPTI1IHNjZW5lY3V0PTQwIGludHJhX3JlZnJlc2g9MCByY19sb29rYWhlYWQ9NDAgcmM9Y3JmIG1idHJlZT0xIGNyZj0yNS4wIHFjb21wPTAuNjAgcXBtaW49MCBxcG1heD02OSBxcHN0ZXA9NCBpcF9yYXRpbz0xLjQwIGFxPTE6MS4wMACAAAACLmWIhAA3//72rvzLK0cLlS4dWXuzUfLoSXL9iDB9aAAAAwAAAwAAJuKiZ0WFMeJsgAAALmAIWElDyDzETFWKgS0xA9jL5Z1rUyAaCMvSBiGAVZnifAXVdzUWm7nMKQVuicz5TzW1a2Kna56WnfXIDb9Q2JF1dQlDdVnR7NPKQK+cU3PH1YMGFTXB6XeySXSuhwEBNy/4bpT50pHQyk7jraEZNRB0fFbGLrmFhpO8EGkZB3cFSxxvuANqFvLB4KbNKLUmMo+4Z8hrAZoHoqKVyysu9oNaMQBsRUYgfqButmS1PA8R0NUCM9DigPBLoBH1aCwRZ8uucGkSTzh1mwkpzW/2larMxnQGhS/MeUsRSWzMUSgEwuwkwCbCcJsPI+CA9pcut+SA5uHtifjd+pBGg3Zdl/c2gD4MQvnVKnGIkbZJke13+XHU9K3oVsXtD0sjlhUH2UCb6OLNm9RkW9jSJ53WqthT37sQQlH6/8nkOqUDm1kroh/vLLqAVL+CdGx9I0+p3R0UwErrV6SKRBRdNGmbtu6OjclOkH3pvMwRweSGIVnh+1PUm8kHTMQW89q3UHlzHbs0iLoyh0m3CevxUXJvX/dgH35S420AhmKlXiXfjWF/GINJn74ge2zBPlVi3plrzMFABLFBjstWMbsYBZGBn5JzzH54V3PMddIoSoptSIcbJLL7lG0GEFypasp+AO9/Xst5q8Xr2cD86Wvtsoksg4A+EAAAAwAAAwA9YQAAAOhBmiRsQ3/+jLAAAEY1nXdCAWsCi2TKtbaC4uTJGB9JuCebh833ieF9XMw3EurGHDSXK/SWE0/ofDx1Qu0MMNCkt7d0Y9AuwlUnoardY9Khasx66tvPWU5kIq2x3HdViNFiebjqxkVGWsiMBrTZNWpAAuyZI8ywDI02PV/k8ynQF4VoGVsjHy/UJ/oTWyludLgHMBxL02O14DL7OUHSTF0F5E9gF4iDO8cUsIcihVtfxZhb5KSxBIzBiAHqdvLYVvHiLKbvFAAABCMpywY0GtVXeHA7+p7lRIhI2gaqWKmkDSyVSqnWNArgAAAAVEGeQniFfwAAFrVYVel6XgEu2iF4gXltFHYNzLfSvKpwm62A3EFSgim+Qe7roz5yUOCdMOVJFMjIMYSZ8KcqdLepP8hZfsUAAAMBVj4Y7GZd0b144QAAADwBnmF0Qn8AACPVIQAcMkCxbAFYOyVDJJ40XCufEom49cIIQK40gX8xJ06ALsNMAAADAAAYVK1JqVKyITsAAAAsAZ5jakJ/AAAFH64YtJH5Rp9HscPlf8IQPZVEQYYwd2gIxQANNEl/eCquy/0AAABzQZpoSahBaJlMCG///oywAAAKBxnSRD4mWCuK/Ww2f33/VF4uSQSbMuRiM8cgbMyyLsJnirNbpHi6Jz/gkG7QUJJADNRD2uF/zO/WJmTOpPTMnog7RYA1o0GOTrVmuh3vTdsSy1tA9b0ccXIDGSwg46i8gQAAADxBnoZFESwr/wAAAwM5u2f+X7lgBQgLBMivsBokhj22SPGBn2DKITfGwR3xjFMj4ZCCBEqV4RlpFgONJS8AAAAiAZ6ldEJ/AAAFHQAqqR2oqTPgu7bB9g2G/2Mb5C1YasAJuQAAACMBnqdqQn8AAAUdNPUL282Oz8x+HW1Umjx2/JtX95uN2EA3oAAAAIhBmqxJqEFsmUwIb//+jLAAAEYvAjv5oBNfUMGC6L674zvev5gfYBxInoJEmqtNb6hecyxTD2kYcf6witfJDgDepEaW/Qcc0iI5NuO7EMLKpOMy+tt8lo53pXbDWHSSAL6ZcwRxRiL1NpLKDw2SPqjht/kwVJBw8hGu7BomDrTqsh7megWwnr9/AAAAKEGeykUVLCv/AAAWvE+GCgHqUfkmugO9ZDdsZvEDM+MwW3kSX5SpGK0AAAAaAZ7pdEJ/AAAE+Fzep4wKT6X1u4Rz5YhVcpoAAAAdAZ7rakJ/AAAjvx0jweBBOFs8G8rV8rtnbbwyZ5MAAABYQZrwSahBbJlMCG///oywAAADADPXZSgLfS8fah2jADUNdKiNkAGH+x+5bHU+5QATCcldvLyeLYTwGetMGcjyU6fZnyVub2uaYAo3XZ44yEYzvvrneCP2uwAAAB9Bnw5FFSwr/wAAAwMlu/M+vYEpMzdkPYwGBfVHLBkDAAAAFQGfLXRCfwAABPhb999YDyh1OFw9wQAAABsBny9qQn8AAAT7NRP2Er7t0oDfIA7lhXgnLZgAAACKQZs0SahBbJlMCG///oywAABGAwFZwBQbajHuXwyqTbxlhC78TUi+gRLuwA514Ej21JgFL/42GYb6zlhTIUNA7e9wxL7XmFqyQUKqW2thyVmTDiD2iSAA1nuCHCnFct85okbRfjr1PDqc/oO12B42utdz/W75QccuJYKqrumWHUDJ2yPo1HSdniZ2AAAALUGfUkUVLCv/AAAWvE5rw1SCvIc2ADin6OCWVqZRH4Lc/sHdZSKFbPD0+w1ZQQAAABUBn3F0Qn8AAAT4XE18erFXURda+z4AAAAiAZ9zakJ/AAAjvxrMIOKuy9fUK7CjV+GGJo4/Rk95PrvcQAAAADBBm3hJqEFsmUwIb//+jLAAABqKs1jNJ619HqES4qbt+sIy4iiDYWuzYOpI5YcGcbUAAAA1QZ+WRRUsK/8AAAhnHAOkgBaz8KWBvf3EDJU7l3QYSmuxyNOXezKRtCngyejRfS3CkbZT+k4AAAAcAZ+1dEJ/AAANghcfma0LCuSzJhasU7mxgOF2YQAAABgBn7dqQn8AAA2EkM0ICRQqRIsxVeaj83EAAABvQZu8SahBbJlMCG///oywAABGAtpZwA6R6eE/Qs/th9X891UgdRELu66fKffS1jWPltGoLRU1ZxWpuF2n2GYoQBLoRi1/W2386iCxbO5xIY/54BXvLxyJFaDp3kcF5UeERCmdZbLK1wEpn8UnW1eAAAAALUGf2kUVLCv/AAAWrTUtDNFyuVhYn5S/Nos5baY46txzQAmU0YIc77OO+v/PmQAAAB8Bn/l0Qn8AACPDPqGO75ZClK54yTmz6MOQe9w0um9AAAAAFwGf+2pCfwAAAwC6dVVVFe29FQ/BoCZVAAAATkGb4EmoQWyZTAhv//6MsAAAAwCM/E5Koh9MNufeuvG+TjHAEiBiSqluHqwWO11pdA7GUFERzQ8E9V5XSmuyqCtE0AS1Fz3HzPGCpFhnGQAAACxBnh5FFSwr/wAAAwAtalaDf21/zMnbren1FdAA1IGvZ631pgbvmcNp03WYtwAAABUBnj10Qn8AAAMARZBmOj4uVZr1J3kAAAAlAZ4/akJ/AAADAAqGYUCUZfl62SPZYADPIOy/YF5MSaF3iLzeOQAAAF9BmiRJqEFsmUwIb//+jLAAAEYvDGi5oA5h64M55SNcA73Hm/M55J4c33bplmQal1AUrXXJBwcuI1vm2Kz1nBcQvZwQ35RkSEIHEGEYEuHbbaU5VexxsNtpn3vcc2oooAAAACNBnkJFFSwr/wAAFrVcGIoZjrrtJZEMlDUMOGci21x5DarYEQAAABIBnmF0Qn8AACPDP7VPg5i2Db0AAAAjAZ5jakJ/AAAjmft0RxCXFupZrVY1+3In3OirRNojlV/WnYEAAAA5QZpoSahBbJlMCG///oywAABGM+zVk+7OzkBxDO+wHDEwuk9GMdbP9eNBc94BXH11U4kybB470I3tAAAAJ0GehkUVLCv/AAAWvE5zQIAW3cakiHZVfmUGNbgEOWJFDVknb8KD6QAAABwBnqV0Qn8AAA10aDoinvHp1dJEil6VBDn5dMQRAAAAFgGep2pCfwAADX+2gZdeap2aMbJqLYAAAAA8QZqsSahBbJlMCG///oywAABGLwNe91+w9XxDxmA3Y/Yf8zVlO2tPx5c2kLDCxKYVoPLtt5ey3BQ2HrBgAAAAGkGeykUVLCv/AAAWpRHRIUYgGHep2uW3lpOBAAAAFAGe6XRCfwAAI7jClfD8bWJubzUEAAAAEQGe62pCfwAAI78b2PWy/EHAAAAAZEGa8EmoQWyZTAhv//6MsAAASHpvP5o7ADoGk2Q/Ajm9+Q3YYp6enRt3RxTREwduLPbjUgh2UQejQFVYvEq1YcAAhK1T4EA7yBHM37GjL3P+cf0koolLKSlzeujudrRYoBEFjIUAAAAgQZ8ORRUsK/8AABbAn5Og+rHMD+2h/cf2Xne99lOOti0AAAAVAZ8tdEJ/AAAjwz/VQ8F7iWeNzWhBAAAAHgGfL2pCfwAAI8fHG2/Q8ge3I5nIj3Up71MoctwYqAAAADtBmzRJqEFsmUwIb//+jLAAAEYQ/reAN4gyQtgn2IjuOoGfSUcl65q0HecaNPW5ovjkSSqwcUmtPcAk4AAAADdBn1JFFSwr/wAAFpcSTtAqqc1mXQAPfhCMY1Q9wkpjzGBVB+GwMufV8rRSaEyeVA76UfEKHTSNAAAALgGfcXRCfwAAI8M+EMNrU7GQD2Nyx9Pr5BQALp/Eov39Nb3c587ZjfwNnwSV7SMAAAAxAZ9zakJ/AAAjvx01GPWjrKIwGgAWQmq8mXd/ZYqzm0NoDyzhSl8AoSpWKEe3nDS2gAAAACtBm3hJqEFsmUwIb//+jLAAAEYSDnoA5RNLbvVB13CSnhpS1Rn1NsRd+7ehAAAAFkGflkUVLCv/AAAWvE7gpZhVo697cuAAAAAXAZ+1dEJ/AAAjlHdJSCtvqcmrNbsDFBEAAAASAZ+3akJ/AAAjvxvY9bHrSXPhAAAAG0GbvEmoQWyZTAhv//6MsAAAAwAKBVLSx2DPgAAAABZBn9pFFSwr/wAAFsCfkENXr+l7Ypy5AAAAEwGf+XRCfwAAI8M/sqfE0xsnP7oAAAAaAZ/7akJ/AAAjkr1DEnkuIeAD7Mcb/IwAc+EAAAAjQZvgSahBbJlMCG///oywAABGEcCnhuS02tIRMH0ALQA5LXEAAAAWQZ4eRRUsK/8AABa8TuCumCTPd845cAAAABEBnj10Qn8AAAMABUBfz3VxUwAAABIBnj9qQn8AACO/G9j1setJc+EAAABAQZokSahBbJlMCG///oywAABGEP9IwAsFFwmllmU44H3z0mxeQABbIeu4+yZ6vmA8GfwcHlFeSOorCoDIBC/blQAAACdBnkJFFSwr/wAAFqptVTjXoE0YKQGs247tVUaTapgfSQg8oVxn+tsAAAAyAZ5hdEJ/AAAjlEdRphLAIgBKm3scUBkmii/ac513w13n2ViFXxpEiHfEn9wmnO10QqYAAAAcAZ5jakJ/AAAjxzK8OZx3eBDXVeWkEiSR9Df9IQAAAENBmmhJqEFsmUwIb//+jLAAAEYUdOJPuegUgLsO1euAAoHfRU4xo+Jnq9y+y++l99sfChEn6YXR3aWj57L4nSAVlQ2ZAAAAKEGehkUVLCv/AAAWllNkBhXQOOCLvTKrkrLkmxgAJSxJTCABYACsMVEAAAAnAZ6ldEJ/AAAjwz+1d74lnfABMpG9y1Lsjk1VUMF2D7irixZRaYqBAAAAEgGep2pCfwAAI8fHFGS9qFs2oAAAADxBmqxJqEFsmUwIb//+jLAAAEYR/TgCr5jpVl8vuvbUWFXRgr6QQFywnEbiyhXC0QuSI3bxmfF4AI1N0eMAAAAZQZ7KRRUsK/8AABa+prpMSRj+/BUTh4ndqwAAABMBnul0Qn8AACOk3lEZSOC+yjLyAAAAEwGe62pCfwAAI78b6p8OL7njb0AAAAA/QZrwSahBbJlMCG///oywAABGEP3+WZMAnUP4L4Pn6b0FFl7ECkK0Z6vkTIv7W9Yv6p/PJCFXUn1UsXYEj165AAAAN0GfDkUVLCv/AAAWvqamrfixHgAE4dNNKe7Mj1fKrokUdkBJ0FA9zCgqKkF+VHlqo6DLVZzS95EAAAAhAZ8tdEJ/AAAjt/YGPPmZnIKzRE9/iDxgxIgpOzzo8ZWxAAAAIQGfL2pCfwAAI78aFcBAGk1klwSbr1YV9xSMVlt+jTKTgAAAAFZBmzRJqEFsmUwIb//+jLAAAEYQ/f+ybe9kzHR17/348W6vCJgBwqzBrR/pjbvi24g7MJII/sYYlssyL9/T02kN/QsqO/Oc5j6/OXXNYbvIlTsBnVUvtwAAACBBn1JFFSwr/wAAFqp1xiaLNzDLgzj8fx+UxJMm9pZtmQAAAB0Bn3F0Qn8AACOsPGzewP+HaDZwMCfqiw9gmDdCYAAAABIBn3NqQn8AACO/G9kB9A+eJ3kAAAAxQZt4SahBbJlMCG///oywAABGEb/0vIxZoey6988szEf8skqEQZRxvRa01PgJzJqlxQAAADRBn5ZFFSwr/wAAFrw+twpjmnAAlpwAEFwZ4lEvVhuYkPbQySLb9aAfbJO8yNuUvNX4qhAQAAAAGQGftXRCfwAAAwAaa7prSQihO7gtSuCoOSEAAAAbAZ+3akJ/AAAjvxve0sPSZGJU8kmCYXgtpXgxAAAAMUGbvEmoQWyZTAhv//6MsAAARgL28noEnVYN5kwprABlDgjJPTYoGvUjmnf//6+QD5gAAAA0QZ/aRRUsK/8AABbAnB12SJ8Hkm8zmyAQQlrfn7wE7KGjUVWYhDhha9FqZBsc4ywvikarZwAAABoBn/l0Qn8AACPDQBCuvehkNBnU6Pw7UqrJMAAAADIBn/tqQn8AACOjatcZiADjGRD+IhXQhHg44rwTGyqviWlGmCglWuc5DuiQb/oxv7HgwQAAAEZBm+BJqEFsmUwIb//+jLAAAEYQ/wxAFF+GTqulYL4W6u2zrSwf1CelrrPgp6HuSnD7AG+X9N1IMdoNHmL4OGfYGw/z6kxxAAAAIEGeHkUVLCv/AAAWvEPPjEHoqwo1+MONzBGQ9vFVW/BgAAAAHQGePXRCfwAAAwC6kasD1FqRND0VbhKi5iJUELeDAAAAFQGeP2pCfwAAI78EK8ByHOOpxDnYMQAAAF1BmiRJqEFsmUwIb//+jLAAAEYpnhO2d1wv0A9qcAABD6rznK7xwhtxain1rrvkZ9W7D6Q3RXpK+E06N3fqp9PhKjG9k6ukheO/1ToUsDGVI5OyyjEcpV+mkDPEAhgAAAAgQZ5CRRUsK/8AABa8TvgpJcD69YH/GqCaSmCQyxhX2YsAAAAmAZ5hdEJ/AAAjN+ZXnAAtZHgA9i/4FCUrKioI0fAu+BCGb14dOwYAAAAcAZ5jakJ/AAAjvxwIUGq4jJHZAKR5uZliPT48CQAAADlBmmhJqEFsmUwIb//+jLAAAEYlpJVWncOWAAgbPt2rIM5JobIx9wTJuyQ3796eE4wOppadYUWvXcEAAABHQZ6GRRUsK/8AABa5NSlACKueed1zvzuO4xRIhtjR3KC1WfTR/8s+m1Vo2rSvfPrTUKoPlrzA3hjmpfEyfZ3DKxAGQj/VsbMAAAAhAZ6ldEJ/AAAjwxdoqcbU5DcpEcsWTNTA7Q+ftjO44ltBAAAALQGep2pCfwAAI78EJdpr/yE6469AAtZ+es2KxiP9SzES8LOF21aQlbb4jxyAgAAAADFBmqxJqEFsmUwIb//+jLAAAEY7yeVnGqqF8tsoYskALPVD5uokLxkScTfN3ROy5QDgAAAAL0GeykUVLCv/AAAWtStDJvUN/WAAuo1BUsgwTIJieUtiU/Ll6FjPYCpoWKSCGztxAAAAGgGe6XRCfwAAI8MXdVkv07fOVnGpXDHjcvAgAAAAHAGe62pCfwAAAwAaav74rqMDXTVk3WW1kcYB1kwAAABKQZrwSahBbJlMCG///oywAABGFOicAcwGITSyzi3Q2kYIbuzo21xaljW/kP6U/mNH4Bi7CIKNgstnSriGboJmQ/qgzBTGogm6798AAAAgQZ8ORRUsK/8AABa+oq3DlXyJBRZifjKTdyxAQDXSsWsAAAAUAZ8tdEJ/AAAjwxd1UWG/bUP6ygkAAAAsAZ8vakJ/AAAjs9RABxuxURPaVy6hWNO2JOLQQ6nNm/xh6JQqiVd0vmSiO3AAAABQQZs0SahBbJlMCG///oywAABGAv0jADpHpxs/JYV6IBf1MPQ057gXRRXluZNQCNw3Vc0Wq70Kcq8FEVaWTx3tRY0djY+711IyYPj7Khn+DfkAAAAoQZ9SRRUsK/8AABZxeMniw4W42Y0JoFTNrIwLWS/VIDSGFtIG3K0bMQAAACwBn3F0Qn8AACOfVwhjH+EyfxbIwAW4AvPIbJxqDT9G6C3OjAVioHQFHB3JMAAAACsBn3NqQn8AACO/HSwPBeIgPABLH68YwKgcOOhNX2wCiEpZ5rpqEUEzI2yTAAAAK0GbeEmoQWyZTAhv//6MsAAARlz4LUL2HpFOpaAKTL47cm8tRv+njc4+1bEAAAAlQZ+WRRUsK/8AABa+eIqQBHjRAHm+9DeePCPogZrts2E6Sm/LgAAAABoBn7V0Qn8AACO4uEBCWBtoi0mKOMDTq1aggQAAABcBn7dqQn8AACO/BCvVkezFGOMFJ3S73QAAAFFBm7xJqEFsmUwIb//+jLAAAEYR/TgE1p7dS2DZgZHMdVz3yQaijxqJax145vtOeugZRlI5drKSopsQK/nGb/gNO3hCEZ5A5GalQVixuWYtM8AAAAAfQZ/aRRUsK/8AABa8Q8+L6AhNHmgA1bjQDvVTLev4MQAAABEBn/l0Qn8AAAMAtYtvNdB6QAAAABoBn/tqQn8AACO/BCvV2mczSwueYfRCBuytuQAAAHVBm+BJqEFsmUwIb//+jLAAAEYQ/reARURXXs9stkUyVGe6VWn3WT1Ui58C1IPwdNTp9er6D08mGXIqyWSRXsHhJv9fzfBsZMbLhMs8O0jUsCfea0pXXIBeM9Qzz0ALRinfMef8rpvk8ifLbPhVkoVH55rbPVEAAAAuQZ4eRRUsK/8AABa1KzdrWl92Q8AEzMTQKIGN6KS+rbOXoHDx/CMhAKAV4widtwAAAB8Bnj10Qn8AACPDF2ippVPVDlTs8WAGjoEdQCyDK9swAAAAFwGeP2pCfwAAAwHlyVHULxNnmZr1oRsxAAAAO0GaJEmoQWyZTAhv//6MsAAARhR1KYAnNJfSJ69pqqP2El/s62DEBkmWtoo0GxroDGbOum5Zubvi1r7UAAAAGUGeQkUVLCv/AAAWtStDIrobaEhTcDN+WzEAAAAZAZ5hdEJ/AAAjwxd1U4rQ3C9z0VGOviCy4AAAABQBnmNqQn8AACPHvYwaHKmRnhTsGQAAADJBmmhJqEFsmUwIb//+jLAAAEYUdLtG4wnoABoPVqlvyqwHHoP1KX4XUtwJ0g2UNcl3dQAAABdBnoZFFSwr/wAAFr6jngP65YJixMzsGQAAABIBnqV0Qn8AACPDF3VRUNEkwoMAAAAaAZ6nakJ/AAAjscwPeJqABc9XyzWWTSegAsoAAABXQZqsSahBbJlMCG///oywAABGFHUpgDi12aqOyEv8YFVoBgQuuDnCdi/qDDK3L8z8qH0B7679kJqMoq8vxlVuBmhutG6nebxZC/er0uiMmGS+gJlOCMCAAAAAHUGeykUVLCv/AAAWtSs3a1peuKKDwjCwOdzHmoclAAAAIAGe6XRCfwAAI7CjEWcE69Y/LWHI8SFUZLg9h8vcBnJAAAAAEgGe62pCfwAAIsfHFGS9qFs34AAAACdBmvBJqEFsmUwIb//+jLAAAEYr/vVaI/MRFM+8oADnkjNOl8FbWzEAAAAUQZ8ORRUsK/8AABa1K0Mg+tP3gR8AAAASAZ8tdEJ/AAAjwxd1UVDRJMKDAAAADgGfL2pCfwAAAwAAAwGpAAAAX0GbNEmoQWyZTAhv//6MsAAARhR0u0bWKJAla1PU9zuO8frzzO317B6PvNEKr9CHHvAQfsjdNzJ4Y0vmOlmriFtQIX8MaXarwgzUTaRAlP1dfJTFwgCueOxB2BeMQRuAAAAAIUGfUkUVLCv/AAAWvqN6p7QC8PoJEHEKZR+H2WEZK+KRyQAAAB0Bn3F0Qn8AACPDF3X86JAa+tjVHMZF6adgoAgckAAAABQBn3NqQn8AACOxzAlvqW+zUIDKgAAAADFBm3hJqEFsmUwIb//+jLAAAEXykvc3wEyitQP23TZmW2MjvUVX9kQd8fGR1STfU/qZAAAAFEGflkUVLCv/AAAWtStDIPrT94EfAAAAEgGftXRCfwAAI8MXdVFQ0STCgwAAAA4Bn7dqQn8AAAMAAAMBqQAAAFpBm7xJqEFsmUwIb//+jLAAAEYUwGSesndiTC+e9cADRt7M/BFCFWnowByz4o/FkVEG13Edi//UpFU6+8zKJfWCKeZQ/EB4XMYyV0V9njeIlEGuYa1MyI03gxgAAAAxQZ/aRRUsK/8AABa1P2Um21JWZ4Q2AOZGZXxIjxjwAQ101H/LqeZdlW9qyt56wsrwYQAAABIBn/l0Qn8AACPDF3VRUNEkwoIAAAAiAZ/7akJ/AAAFHzCWe4ktM1cKz3oaHtxLcoAPkNv1YJnbgQAAAEBBm+BJqEFsmUwIb//+jLAAAEYC94yFbQAR2qqfcmt42vPF+xLuKdEiTqXaZumv9CuHYy7Qd35W8cNUQmSEn1nBAAAAQkGeHkUVLCv/AAAWvngQppACOzHw+K1F1J+Z6lI5x8Z3Iq9xfeb0KvwlWiG9bpIgzISdrX65PZSBhWy9tC5yUJTwYAAAABoBnj10Qn8AACPDB0WJXZedqOeTnpqZgNENswAAABoBnj9qQn8AACO/G9qpfEuCtzowDE+eGxR9mQAAACNBmiRJqEFsmUwIb//+jLAAAEYQ/ZAXADi+tuEo08YJ0WWPgAAAABlBnkJFFSwr/wAAFrxFnisqD4nwYEe+ZGoJAAAAGwGeYXRCfwAAI8hhsupABuZg4zJtDk00Z9CggAAAABUBnmNqQn8AACO/BCcSzub5wrGkagkAAABiQZpoSahBbJlMCG///oywAABGEP8MQDHM6EqM+dFE0sfV6zEKz/F261163YnqDsqS6FAVYBdNnORuCFvC/SEGNW2Wd6fqKOXfC4gvBFRUneDyufbuqKfx3rXYnG5k64etDGcAAAA7QZ6GRRUsK/8AABa8M8Pr2MKVcRMQVsgAnF42ZA2sWLWMH6OreRlFcs+O4LU0+wQ7kz2/j+ypwTlEVtsAAAAiAZ6ldEJ/AAANfgDSFBnABaFagAsMcCFMNHYAT3f5u8IIOQAAACwBnqdqQn8AACO/BCvWXrRpDhaABLVI/Hre657U238tZneYwrApWRJ0xqsb0AAAAFtBmqxJqEFsmUwIb//+jLAAAEQOfTnACwUXCPRRsGh4FIF87e1GhON3TmXWE0RX+mMmFUdtIpBTlswkBu+O0NFdllRt3IxIZVq3zaLNh/8HK1xPe9PneRzAS14wAAAAHUGeykUVLCv/AAAWJVpZhvLuSh06d3rk69utjHCtAAAAJQGe6XRCfwAAI8hhsupABuZirBBKjYRy/+xfhPBWPQrMsfbwoIAAAAAYAZ7rakJ/AAADABppKl61XzfrREtzePwYAAAATEGa8EmoQWyZTAhv//6MsAAARgMXb6OAFRgBYB0XACB86tlFreaqf8+IW1vav2PRd9JV9SLMQ0cD+7fA41inmo/YaJZ/5i4jZ12z1UEAAAAyQZ8ORRUsK/8AABa1E4hcgYjLNNAC1bu8bB7/hUydA/O7Z3o5jt/tWY2GK0c3nJ3WoJsAAAAqAZ8tdEJ/AAAjwxdoqaVU6v7IwAbrS+bwtFFYsf5Zw16YoMTpOYgdae4tAAAALAGfL2pCfwAAIr8dNRkOIOwAWzl29WSSyQ5S8FXe/tvAhiAfF19DIvdefEBAAAAAW0GbNEmoQWyZTAhv//6MsAAARg5maG/Y0mqo/UK603jiDI0qLN/TAIU1wmXjVf9ylQQnpwqTIowHMAA75CtqtHmKandf+cN5LxH2WRKGzM1t71emMmSj80tO6BAAAAAeQZ9SRRUsK/8AABa1D5ImaEdOFwmEHuPiua/Kf5krAAAAEgGfcXRCfwAAI8MXdVFQ0STCggAAABgBn3NqQn8AACKyMKiv64t8TXwgmTkHwYAAAABVQZt4SahBbJlMCG///oywAABGfiYS6cQPhm2EqZTM9v18NCFGOGj0HOscgwb9a4JKVH9QLvs61Nc5XONF1lwarFxt4GKqmC0Gl9B+ikoxDqbVLXwmOQAAACVBn5ZFFSwr/wAAFrMsGbZlmL/mecEq1zXYxKw6BQ7hAEInwEBAAAAAJAGftXRCfwAAI8MXdVOIDovgLGprqBKgAQ9h85ONa+dgCaJ24QAAACEBn7dqQn8AACOyKu6kfzcAKtQhzVJp0N/zJvuY2cQChbUAAABRQZu8SahBbJlMCG///oywAABEFHVEAAQqS8WjNKxJOd9Gmr0Y3IfnVlMAW6ibkcYMmaXPCFSY3+Nx2f6NQNF/Jy7JDDEi9xfySJ6nJ3+MkhfAAAAAHkGf2kUVLCv/AAAWJVppUI8CuH8ccvJdcIYTxHk/wQAAACkBn/l0Qn8AACLDP9UmbY+IAa99wSogTUaD7AsPcrs5UaXw+PEBJqbBgAAAACcBn/tqQn8AACKkrvyx0AAbN74d/h97VTBrZJCvwMfCmDNwn2HE4TkAAAArQZvgSahBbJlMCG///oywAABEFHTievYbPkis4KtNNjEXqwQJyfG1fenHwQAAABhBnh5FFSwr/wAAFi6mpq35mEVL7PzpQh4AAAAUAZ49dEJ/AAAiwz+1T5FhKa0GrVgAAAAdAZ4/akJ/AAAisit3gAEsfrpPOyY5ztIrfPoA3oEAAACWQZokSahBbJlMCG///oywAABGf74ENf7rUnCd9nVDIFR+ExTmKmMEWKW2xAgSG58MixZ8KIek7QQSKISv3yyD5Dis7Q+9/+UDM0obX1geNpu38M8TPJaHQfM6VOPj5gD5wUGOwgANI6QgnCF6Xaut0T4met1bjpNqMsbk6XMWaIOEOCEVa2DdzDLc11OlahcnHXOMhgaGAAAAHUGeQkUVLCv/AAAWJVwX4l0aIdwTU9mRTNjwAjBBAAAAKQGeYXRCfwAAIsNCV8CKQY8gAtur4E72g8ttJixiVWXCxqbQB8x2JLjKAAAAHwGeY2pCfwAAIsgklABxuxVMhVj19Av4iaBqFgiqZv0AAAAsQZpoSahBbJlMCG///oywAABGem8/4HkjABx7ag2amyFd2X7whyNzuFHgl5EAAAAUQZ6GRRUsK/8AABYupqawZm9Ipn0AAAAQAZ6ldEJ/AAAiwz+x66PxDwAAABEBnqdqQn8AACKyJ7mhAdABdwAAAGhBmqxJqEFsmUwIb//+jLAAAEYBc3PgJ0xv3K7brNmPVo+35koM1/3bu6khKkKmqoCfCc4DUxSYaxxFazv8RcQE2UJoTa4ymqG+PAfKoFfoL7LB+3zu2AdFccNCF3NZP4Frqb2ZoYmaJQAAACtBnspFFSwr/wAAFrUrN2ts8PfNACWqARi25+2ewVFE5Q8GQk/AbhMbCbHxAAAAIAGe6XRCfwAAI6nOxZOFdGxCM1u8aLZ6+TeAasZhmGPgAAAAFwGe62pCfwAAIsbxpkakPXMGxB1coAqoAAAAZUGa8EmoQWyZTAhv//6MsAAARimdzUYp6UYAoBgYKg0kK3SXPGIOoPRdiiOzQHSAggBKkqxOqv4Z/STmB8hItIZOWFxIxP47fH9NCpDSL25RHR6uWj6z9d3qINB0zlYJ6vjWpgjBAAAAI0GfDkUVLCv/AAAWvD0a41v3xSW6FQBHy6U6qBzKyc1JCeBBAAAAEwGfLXRCfwAAIqw8n8qPiRZAQTMAAAAiAZ8vakJ/AAAjscwNSpFtsNXb6iDGiozoYoFpPDp6WmjbNwAAAF1BmzRJqEFsmUwIb//+jLAAAERAul6evYb6sCgRyACpPGvhzxoYw1IEalCf338ajTMenkcFNucLdSxxflhBt+nvQ+Mm868edmwuMUrrOicsWFcz/+XW3K982F0DG6AAAAAzQZ9SRRUsK/8AABYlX0CMTriSh7tAgCczSiFzWyNkCfGAmu7GRhs419CMtBAjfA/4gq2hAAAAIgGfcXRCfwAAIqxCZMKKImHByjHwezz+WRa9e+DHl1FSxMAAAAAuAZ9zakJ/AAANf7aP8g8wnBkdnmxnzk5KqYAH7jvWXurOh38mKmtF72sOD4qWzAAAAExBm3hJqEFsmUwIb//+jLAAABnnPsA8iuURwRVJgwn9FQamj2pVet2RBTxRo84MCXnWxa07oURz0i1Qx/tn2njoBjMvz1I2ILVC3lfDAAAALEGflkUVLCv/AAAWOtCACL4P0T59q9ZhxjtK5nhWtg+B02I+Oxh2uEFDp+fAAAAAJQGftXRCfwAAIsNCas5b0JFlJMAC1YOeTtT/fYeqP1Xwpi/HPpkAAAAaAZ+3akJ/AAAivxvqlfCvy8QXmnuTynqlz4EAAAAhQZu8SahBbJlMCG///oywAABGAvbyegSdVg3yNouvyAfMAAAAP0Gf2kUVLCv/AAAWtSs3a2pDNACZYpNcr5MOz8PSMXu0Ldv/vUQAnNx8fYOi40rM0KEC2+spMKNvQ/zzhg4VgQAAACkBn/l0Qn8AACOr+F9VcgKBHGCoZSKABsT6Gp/a+HexEiFR9Ulymq0XPgAAABsBn/tqQn8AAAUdMA9QvE2k2Zi19HBHurOMMoEAAABoQZvgSahBbJlMCG///oywAABGDmYTV6wCaULAUrGkNPc2+vZ+7PImnxWFZJVsiDpZHtMzbN+Ht4FOHEpCBRRc0obZkuU95qFe/QIrjRrRYboxlGg26emXHJB3WPfysmlszHXb+om0fWEAAAAiQZ4eRRUsK/8AABa8M8+xM0ttEpjGL7SAhQGTD6yvYklwWAAAABwBnj10Qn8AACI9ndp+OiJa9UmyffhXdtHmg1PgAAAAJwGeP2pCfwAAI7HeXUWADifK+cAUTaHJVhfeJ0BO5ffagBdruNVegQAAAENBmiRJqEFsmUwIb//+jLAAAEYQ/bx1rylVg8ZiASrK1dXArUq+05s0OWGQgRpg4d+bmrnjcPpvVbmLV8X2he8KmqcQAAAAPkGeQkUVLCv/AAAWuThA2CzVAC3ff8P2WvM2i2s1mwp6kQt3FWuyJqnRy1Mu4ZB0HkemHjO25WJOJktr8sJtAAAALAGeYXRCfwAAI8Jd4D/8AntETABtcQvFRXHZuYXNdX4U2aYzfKhSmvMhVqnwAAAAIwGeY2pCfwAAI7HMKqKeX8cZAA43Qp7fBy5oskKj3fn9N/xlAAAAa0GaaEmoQWyZTAhv//6MsAAARn9Ssb/dQ0AM8yDwiv2qElSWmuevLH1ZYV+T1fs3dN1jPGCiHBx8sHNI47T/ErEY1qD8hVENbuXqo8X1GdC08l7m5QlY69AvBUbZ2cmSWG1jV9szvjZItZzXAAAAJUGehkUVLCv/AAAWvEPNtxaCg6HP8BWjnWgEfoAAxpPYwBCrJkkAAAAQAZ6ldEJ/AAADAANzhPuNgQAAADEBnqdqQn8AACOuMS/W+oZCBgByrS1LpVKMU0cjA3wtJGWKCtSTcxeKKWLa9h5wvjtwAAAALkGarEmoQWyZTAhv//6MsAAARBD/DEAVAEGd38sA1Kq6jvfoI1tzO/0+j57kXxwAAAAqQZ7KRRUsK/8AABYlWlOn0pJfuADKOl6lTpr3WneOyQ8uPPBsx5eKuYDxAAAAMAGe6XRCfwAAIqw8W2VhwBQad6rmsQ0CO4peH75PocwMrBUmcl0/nbsrcTXHSJtswAAAABcBnutqQn8AAAMACjoho0mUl9xRJVnqgAAAAHNBmvBJqEFsmUwIb//+jLAAAEQUdSmAEG51Hhr4httt3CxztDJ8rYVm1Mops9Igi5GvaDU8GvrA1WOv7YhT0tqR5O5QR9vjeAmyejbaINWPxxqROeyUialhuefGgSEP+BiaEswvGBadx1gUhFbSk//+OezBAAAAL0GfDkUVLCv/AAAWGDXYJAAWzuSbCMR3/BLSkMT+pQw1JL6PAQh7MIx5BLHdIDMfAAAAKQGfLXRCfwAAIrf2AxOsALcANc9s2DFAYHCPTomvla/B2FA4kpG+HGCBAAAAEAGfL2pCfwAAIrIwoyPV4h4AAABiQZs0SahBbJlMCG///oywAABEFF1YbAYfoGIYo35WVUQ4bqXj5PfLoxTz86ncvitECTMBloW4PLut9pYNuNwQNMbQtAtyWK2+6aj1l3Qz17zvneDQnvwVwpnXwigl9a+ldpAAAAAoQZ9SRRUsK/8AABYlWGq6AE0wgPUh3zaQy8Eq1JO8CfjFSnmcFfmp8QAAABQBn3F0Qn8AACKpz/jYhGRWK2DYmAAAACYBn3NqQn8AAA0v1jTEzjhq7Xbq7S8AHtZ9eExpOJG3AvRCVD1xYAAAADRBm3hJqEFsmUwIb//+jLAAAEQDAVnACw+oYLy5ZtEkeoQ1Xnrb4qP3w4HZiszp8W9D9Yh5AAAAGkGflkUVLCv/AAAWLngkyAf24SSwn2ulK/wuAAAAFAGftXRCfwAAIqw8VDUa7Jt1/I0FAAAAEwGft2pCfwAAIrItewlYIybh64EAAAAmQZu5SahBbJlMCE///IQAAAMCPeiksIoOB95EOpQAuJ9PSRJAqYAAAAHZZYiCAAQ//vdOvwKbRZdqA5JXCvbKpCZZuVJrAfKmAAADAAADAAADAtr0eJM75NTxNgAAAwEHAChhUxEhIBSxvCoEqmWmPzjghNgGXHSPu9lbqDpkD7YIV0Lkj1wQaZO/eLONjJQPobA3mog2+pv2RPWBLz6ZRPV49CIKy/xh+bdkrDP+gto18Be8i8BvwSRHvw56Co6E548oREbR+QqFFCwyc/SllawducF3IGWx9DmPbpC3XgwNpInGZzbYhqJwjyA1acV8EWsyy7CNgRU0cMcUba96RPqynnhyxijtqPVZebkq4y8PrWptUU3A0VCFGS6rqzLiHNNX/Q/OFPo+la8LzVKeYNQHrBoCH8OhE6gNR23jVT+LxrzTV8NCFnMtj21ccS8CSzmyBSbcJnSdCMBjefUN2C+1eYZSxbs6vKnV+1lSr55cORKxaMWtjvYfRYmCoJ/z0k+sI7rLrPsqU+HwQJcdneOhpy9/F9FZxeWzNwhKUbUAi/6oM/WiV/VPJYCWCUBPnm/PcQHU02EhNaBb97J1IYsDJw2pne4kSZuMdB7JKn07pv8G4rZx9itTHQ3SvkYBQfEq5CJeR02qrHrQUt51tMYZX54XLzZjtQAAAwAAAwAA2YEAAACWQZokbEN//oywAABENdM+fCMAIwNKOngAc7gxWS/JwTL1HPKepvUfq+NQrUF1I2MspxMhQYZpojYK64m5cvJI9zRgH4ZN1Sy2eALndr6HYukUiwB6IwdmtroOLPoICwEvgvCTYXzdJlE+g84mxpAyp3I9b3GVfI8YwwkWmcuzTC6MOUFgbV1zSnGWgOk+bFWxVzGVIj2AAAAAI0GeQniFfwAAFi5dB2Mic80HhCt0gCBS6FFsDd4B7R2RADehAAAAGQGeYXRCfwAADN4T76iwHnsqPgwaG2w8MoEAAAAuAZ5jakJ/AAAinoUG8wrkjLsEaBQ0+FhYAEjrgmBUXLcUK894wtUitbPuVWs3oAAAADNBmmhJqEFomUwIb//+jLAAAEQQwiRgBYKLXYStrXPPYLW2MsbBvTbLT7ngYRAukknkipoAAAAXQZ6GRREsK/8AABYsTuFUM/H7wwcK21EAAAAQAZ6ldEJ/AAADAAlrDxSpgAAAABIBnqdqQn8AACKuMxKMj2wWB8cAAAB8QZqsSahBbJlMCG///oywAABELwXlEAEdrUYqgANrll9ymBJ55SGNamzbZY9LCdFMTbeLsnzoq7N7c3OjJoFz/HfN2zdE4jeuySLoCrdX9oAx7bVaUSnsNQfsn9LjaleE856zDUauJZ7oGLPTksY2rDKeBFu0aPZSPSWDEAAAACxBnspFFSwr/wAAFixOGu5Tuww2WjNU+QOLq26AB2hcjc31BV0Ojal1mp7CwQAAACYBnul0Qn8AAA0uEvMlhqsRQAXUS4ud1xxxSbKCgVj4wrI3pfXhvQAAACEBnutqQn8AACKTMnGmIAOLBhFMriex6bWfo/2Ka2PQVD0AAABCQZrwSahBbJlMCG///oywAABEO4/mysCzW2ezlRDKs26PbZduWI0FQDXXyicKn8cNyGwjf7yhLZWzMBKGgPCecahhAAAAM0GfDkUVLCv/AAAWMFn3xvzXpbQAkMAfN7U05Pa+tcInlXgq5t7zBPiyFKNRfMiIwQevgAAAABYBny10Qn8AACKr+F9Vcg/GPL6wLKvgAAAAFwGfL2pCfwAABPk+XdU3AVvoA7TS0h65AAAAXkGbMkmoQWyZTBRMN//+jLAAABlv5Y0TNSp8et7sn/MsCb/0o/J5fLFonD7j/3Lnr1gx32K2/W0HNPNLVL46KAqOPcdIFbe+u7gRBgfUOVZOtr+mJbonaGaBkwdfPEAAAAAZAZ9RakJ/AAADABm/t65ggVNVq63GNkLegAAAAFdBm1ZJ4QpSZTAhv/6MsAAARAMXpZ9AFbv6ex7jkVsGX52hwzArsVEk2Wz3oL7WnTeKvBpz2gZRBw+ucPumm2Sv1ktis+meXJ+KeuZ+ezfW3NVP2ComPUEAAAAqQZ90RTRMK/8AABYrlFSx2TfVsIKD2b5cRGaf+FeOfI04QjxeSOLLq95tAAAANwGfk3RCfwAAIrf1oRPfXDW4iKyeJvWaTKukCl8ALiXr4FLUJYz0ms2HPgyEDo19u+d7EewzjQcAAAAVAZ+VakJ/AAAiscwqoqArjIIbN6iwAAAAT0GbmkmoQWiZTAhv//6MsAAARBRdRSNraywhUPRv0ntmoNOyc4xUtZZetHj3YBA8UtE5f3pQTzEIKp+y0APNMu1Twfd0nyRmQyoIw9m1D4AAAAAtQZ+4RREsK/8AABXj/sYHihhk2AE1dRTOTme0ONSH8r9rCjZToZ+cKgQJG5KnAAAAGQGf13RCfwAAIrf1oRPfXGSD9GQuBvnKO4AAAAAkAZ/ZakJ/AAAE+TAOG5Qa4tpO3+AEtU8RYZx/xKgs5EN9s0ekAAAAakGb3kmoQWyZTAhv//6MsAAARAL28noTRlJQCO+TqgAAC9cmMCdd6rIiQOxlovgfiIFBkBllMT8hk4mazLqwN5TlV/BoMVs/n4AVmL2AIaGM/6qUEnPhslG/pFWk1Qj4mStJRLkmeWhEMlEAAAAmQZ/8RRUsK/8AABYsQ823FcysmUk+B0KLKfQ/8Kt0uWBicxlk58AAAAAWAZ4bdEJ/AAADAAnwpLCotxspcu5Z8QAAADIBnh1qQn8AACK50ZiADjdAoOzpJOtWjz6hoC+A5jxqrx5QZW3zlRJshz/alHldpZPFgQAAAGFBmgJJqEFsmUwIb//+jLAAAEQOaN3AJr4VC0qCgQT9bzKFi8yzrhl/TiEuBybPvx6qZzqww7zK8c1iBZovDzM71w8eI2or/i65rdsUx4B2UsJp2HOkLgIIOm5ZY+K1GM18AAAAIkGeIEUVLCv/AAAWJSs5tKgkvbVF4gaJhjHEKpEucM4Qni0AAAASAZ5fdEJ/AAAiq/hngOSDIOFJAAAALAGeQWpCfwAAIqjd5uQa8BsrTSlACL//IDdWBp/w6BK76O73WwEWglZrCRk3AAAANUGaRkmoQWyZTAhv//6MsAAARBQ7HAdidSgkQyDgAaLHqVGzdHDr4nHaP2DYoGmuWTRf3dkTAAAAG0GeZEUVLCv/AAAWIyu1CE26EBQldd2QKCaHwAAAACYBnoN0Qn8AACKr+GeCchgOVtcAEBU+u8QKRMJA/13zsS6LXN53iwAAABYBnoVqQn8AACK/BCcSyWmxM7knEGNBAAAASUGaikmoQWyZTAhv//6MsAAARBRdWHkTYA+KmSho2CR95ogVfoQY94BD9j7omSqdUrD1JjXvEQkQ5r+AMOxB4EfX+OmbNr1utzwAAAAgQZ6oRRUsK/8AABYpM+QoWKDe/pvxs+8VUmxaTUI1fn0AAAAdAZ7HdEJ/AAAiuMKV71VBOHDV7Z4gR8U2LRDeFZoAAAAUAZ7JakJ/AAAisd5PZoclVJ5Vzh8AAABmQZrOSahBbJlMCG///oywAABEFHVbcAmu9/sMpan1/JMmxT3QB4y2hKlvXREFvjU0hU/ExKLek6Y/rs5HRGW4z/WI0i6MfWNjNui4Fmc3eFR81+MyS87RheHggP79arDsZhsyxJrNAAAAMEGe7EUVLCv/AAAWKTjKcRRvQmlej0LPHm+GZFMbXeUIRACySaeQTyBiRUT+LveMKwAAACABnwt0Qn8AACLC7LRr2YIOjGmeZqjPWRG++lFMdHtLewAAABQBnw1qQn8AACKxzCqioC4UD4Fh4AAAAElBmxJJqEFsmUwIb//+jLAAAEQC9vJ6BAIEHS8L8Fm0WWIeHU1SVS6XwEpvgANLroyOmxyEBETsNHMX2f/X6FUSzhcO+GMIrVr2AAAAMkGfMEUVLCv/AAAWJTfkUU6qoe/iybUAJliUE6V+EsWT+ZHXAWTiBoblrfG/95h/njTNAAAAIwGfT3RCfwAAIqwKnTqqAC1YOeTthGpsJq55xwma+JgQTuLwAAAAGgGfUWpCfwAAIbIxPxMJCUvkN9ar36+CK9cEAAAAdUGbVkmoQWyZTAhv//6MsAAARBRe+arx9eXuQgAL4/RjuTP48cZTnxjKXgLtDbHqONq/j+jzHHri6Uhl+YMTDeLMExeMaSed1d/gd/63Ce/Ge+zD/AwOn+tKNPof8ibR7f/I14av8FmSr6U9fD0lm/8NF2jYZwAAADFBn3RFFSwr/wAAFikzqgx3iMEl5WT0JAA/DVDJ8I+joqM/xdmImSooUlfBqdPdAWqRAAAAHwGfk3RCfwAAIshrq9hRZ+3YmbC3BEaTI9bNAD3ApIEAAAAaAZ+VakJ/AAAiscwrHtXVlVoVVoB7j89ct6AAAABGQZuaSahBbJlMCG///oywAABEEP2TVfO/2T5mv5/96+PU6eqD+xgA5QbBeKxuEHm7bFInnO+xC4vHHFnJfhgLdbxABPagCwAAACFBn7hFFSwr/wAAFiUQRNj+4bcViQUJjnszYVuteuLgAz8AAAAXAZ/XdEJ/AAAiqc8cxQmNiqzGdaACDDwAAAAjAZ/ZakJ/AAAhsjT52CgL1sIADj07yG39TBh2/gaeOthIQb8AAABoQZveSahBbJlMCG///oywAABEex4tPNwkwLCAgZSWe5uan4SYcbnykFuMXtKdVj3QKAP7ALSSyzivfQsyHFVh3GHyd176qiKDsApD8jpZ9TfSamm4eXIQKrR3C5GYX1rVbFJeoMNBA+8AAAA5QZ/8RRUsK/8AABYlQ1WjNapwBVrGyC6YZWwU/F765pVeBetEaenR9LfoS6LzSB6Ioij5pZHXyX5UAAAAGgGeG3RCfwAAIsMXaKnFzEglOyCIje0L8TybAAAAJwGeHWpCfwAAIbI8r1RJ4EEqqSzEA0b7glReiXu7eIJsmrztsjANoQAAAElBmgBJqEFsmUwUTDf//oywAAADABOAveKW92GevVcAg9U3dj/kRJGZaTS0+EyoBUq4NlGhCVP8jYRm2ZxJKb7GWJq/s0AIHuigAAAAFQGeP2pCfwAAAwAJ8l/CnEVz+9qzvwAAAGlBmiRJ4QpSZTAhv/6MsAAARHpvPfb1g9s1WoBz0g7BlBA7vkrXwlkEKHgoQmiMnKyWOxDVz87h9ORuBHlKD/WojGv4JPkO38PU7uf2YgMziyHgqnhxCi9XU78WeFk4nJbvOqeUnimi97AAAAAjQZ5CRTRMK/8AABYlPvBy6Gatpa+N1vSdnjcDc/bGsTc3GVEAAAAvAZ5hdEJ/AAAiq9d+UAxYAONtBnKzmtulX7FfrWcHX+EDRhdaie1JOP/ekJ4xXKkAAAAmAZ5jakJ/AAAhP6SfOKADjdF4vrpUOBmcUSZ+Woa/zOhzMlcrhqQAAACRQZpoSahBaJlMCG///oywAABCJfGqNRc0AVvxpDLtzez7X1qZmII9X+xq+aewY5Rok9bmi+OLGyO7KErUhbU+t3h99pNuGVRNgR5OADh3R67fUlBtSDZC7k5Pl/6rbZMtMbHeo1Kgv8NjE8PObNdBifoS6HEtqMsnYd8QuUX+IeSBnG6dDWFnW+5Zty9koTpLTAAAAC1BnoZFESwr/wAAFZVYeraiKX/b14NIBR1QtL+16xMdjuJwTcRSJO4hfF1VccEAAAAdAZ6ldEJ/AAAht/YBQPzXpFYtuxM8smUhN2C9MqAAAAASAZ6nakJ/AAADAAmvx9BCvEXBAAAAYUGarEmoQWyZTAhv//6MsAAAQhRBh30AcozyOXcfumq+gIW/qs9KqCGG6B8yKdCJhJacBMBK5B2hso7+/TFMNCzSqTjbZ//+TbGeOOxPan0bZq6O4edMOhjtwjNgIIcDUsAAAAA6QZ7KRRUsK/8AABWblJMd7t6WDAYWCyTCXQh2HNqt7Gwx1OD9drcUvZuC6n+wz3cOg2QAz873yS02gQAAACABnul0Qn8AACHDPg3oDTzXhR7FZEkAoLyOvNikdbrjgQAAABsBnutqQn8AACGTMGouihsJDKLusrUkmL7u7l8AAABfQZrwSahBbJlMCG///oywAABCB7kAF+L8sK9gR0xncxPirkzDQUxVDfW4kGxIS5ALdFpjl0WtQnx6F7X54CCyWdp7tCayHGQJL1Y8JYiSjQP0/HJBTvbJZ72sH/l/LjkAAAAhQZ8ORRUsK/8AABWVWFWKzj/YiY0Q91zMpVkbuquerJ2wAAAAJQGfLXRCfwAAIcM7n6rltkksAFpHHxIOc6LcjyJRxJeq3JnYd2gAAAAYAZ8vakJ/AAADABkft670ZJJBSXM9dRGBAAAAZEGbNEmoQWyZTAhv//6MsAAAQgL2RUNN2dpPdslpCtij5dRbxHQIYSGNdm6k3YhQTAHC+EFjyxR2J5PPSadKmMOShvA+K9e+yDwv3TiwQ8lLlldipeK0bvCGWqYC+93snSYgTSEAAAAgQZ9SRRUsK/8AABWVKzczhCQNqFCMalUJz59AERs7IqAAAAAwAZ9xdEJ/AAAhq/hbeBKdnPw7sReByMt0suHgnYAPxIpOTPgc/KYQHPG95rEe9YeBAAAAJAGfc2pCfwAAITf81GYgA4sGqoc3GiOoPAZC2eAOcRrHHGpzGwAAAIpBm3hJqEFsmUwIb//+jLAAAEIlsMlDRABfiULsR/4ktAF57aR0ibJ8JPqNttgDUO0x5MvAXC1Wk41cK7d5rma5kDQzK8u8DtP3/Pt7TtIF9FFCf2DVseSWT4fs1UX5D+N6JR1f6IlJjx08ZqwfgD3Hvd3F+01OcebDjFoFBdFM+G+zLhmNZCbOlcMAAAAoQZ+WRRUsK/8AABWblD5aF0JUDr9Lbxo6aX44lif5BsLBB0+Bye9yQAAAADABn7V0Qn8AACG5ERABxr4IxU+1DWFONTvXD2ePx0/XGTbs3pWxk7P75dh4uRhxk8kAAAAkAZ+3akJ/AAAhs9RABxr4IxU+aMsI5BcArv2yGubjuxzA5s4vAAAAbUGbvEmoQWyZTAhv//6MsAAAQjPb6V4lgFo3AUI5i8KAFg7zo5EnE/or4YWzzt20clEcvtfvo83aPHeXJ7aL/r5vSD1I6rmbmzFDgLBk9of84mFJHH8O81EMwAKWf0beJWjgaTqfyEfw/kRuygQAAABBQZ/aRRUsK/8AABWbtHKAEY8oF+pcnIxLbWiqVaRp4BB89IeSt49A2KKHbnwPKtDX6PsH9fQCgjmGdwTK1GRyb5MAAAAfAZ/5dEJ/AAAhkoIPMNy3f9oknQc5kH1A2mZNwb1FxwAAABkBn/tqQn8AACGZLHT1prn4SgefyT2SN3TcAAAASEGb4EmoQWyZTAhv//6MsAAAQgL28noEn7Sz1TCd9j+4V/7ntodVYAKTNEW8zXdMW3Mwc60zdS0C4JAjqGofsA2eJenc+BEGgQAAAC5Bnh5FFSwr/wAAFZydeAK33KlM9Zut8k6n+vTgz4PS4br+xcREZvmXsd6RadIrAAAAGAGePXRCfwAAIawZARQJeytFr7iBuGECvgAAABwBnj9qQn8AACG/C657mg82p6WWGfG+PY/eGFxxAAAATUGaJEmoQWyZTAhv//6MsAAAQhRdRSNrCUwFvxpLoLuAOa3SgBmzrxrZWwhfbqVvQ12GUq+BFspLoH8/UraetoQ33vdphqb/l9CKvn/TAAAAL0GeQkUVLCv/AAAVoFoFgSNOZSEK4y4GmaZkJogFrpn5TUAAObqj/csTvJDaPa45AAAAGAGeYXRCfwAAIcNCV7pFBGHHf9dXQ+dK+QAAABsBnmNqQn8AACG/BCcSyWmauTxfdBFwvonpHkgAAABGQZpoSahBbJlMCG///oywAABCEMFIC41Gvtt+cUfWy6GqpfiLLVzefR8ibmUAR4rV0eKjP5oumkc+wAOZgG1lJbqqUqbvQAAAAERBnoZFFSwr/wAAFZMsA55BaiE9bObvOphoHo6TpwdL8IUecXjlonF/hoqnN/zxsEC7shmcmA+J7vAf4RfucjMyV6GuOQAAAB0BnqV0Qn8AACHDQKqX4T0sId/3GSBhP4AOCejXHAAAABgBnqdqQn8AACGxzBBEVcfeSOBQBRBs1lEAAAB0QZqsSahBbJlMCG///oywAABCFF1U7RlUN/IES3VTblYAQHG20FLhFwWLY5d38AQaoLwZ8fQWTsdxZnAsjIHBvM0LYfDdCUJAIcd0jsidoEX6e33QSsviQ04l0rCMfjj9iZ0GHBquqc3H3xwfMM5uY3/CeoAAAAAiQZ7KRRUsK/8AABWcQ8222XVcPSB3RgUCo7D75Y/+lZGbkwAAABkBnul0Qn8AAAMAQVfwtvBPJLa59ny7PLkhAAAAGwGe62pCfwAAIbHMCW+pb7HilVRoGETvMHF6mQAAAHJBmvBJqEFsmUwIb//+jLAAAEIC93pxowD1XZmYi1cxBVJyC4MPI9oHsHgZwDmlk/dIyAiVmGjipucKIp0MYn0T00rY11zFIdrGonBcwE0kg6OxZtGu7ISejzO8ZADbR5ESA6u7u6KrSXSdtZGKWmf/kNEAAAAvQZ8ORRUsK/8AABWVN6pe2mwqoATV1ObtZoXDSEanWvdA/MYqZJqS/bn5F/1IuOAAAAAaAZ8tdEJ/AAAhwxdoqaVU4LmysRS93+epXJAAAAAZAZ8vakJ/AAAE1jmBLfUt9kK5msFPOv/8owAAAEdBmzRJqEFsmUwIb//+jLAAAEICBXHhAfAAFIANqFvLX9AyZUWHl/auLGJIMABmS+vMhmRT3cN43D2m9ClfvrRiUNu1Ve+7oAAAADVBn1JFFSwr/wAAFZMr+/N8y+QCLx8JObt2w3zNFKfpl4qM5iYjGR6n2/UdmCyOLksskpcl4AAAABsBn3F0Qn8AACGsCSGxQUg76OzJHA1hfMswBX0AAAAdAZ9zakJ/AAAhvwQnEtA7gx6Ua2WDXiQqmayLyjEAAABoQZt4SahBbJlMCG///oywAABCex4tPNwkv4jr2TQEty0Xj3SmssKjDl7/3KwBF6oNTOlD+qKj6tTwFIYPkjZUhjYmXNCreFv4drpzv8bRAzkMTRIrIVlxx71sFLOviRTz85wvU5kXqcEAAAAxQZ+WRRUsK/8AABWTLBc4Jdjo6oj966InK00MhJdXiFmAM6jgA4aS3KKQXdMA8dKUqQAAAB0Bn7V0Qn8AACDDRwhq4RPcoGbkojRuDEZZsiL0gAAAAB4Bn7dqQn8AACHCPwWZsk0sRt+65CoMO4bY+K14eTEAAABzQZu8SahBbJlMCG///oywAABCem8/b7LpWuHvck2ZabuC+HXOC5XEBMLE2WstAv8dpLKsTNje7YlRQN2lK1HTgfYGySkTetirV6d2Rfp4c+Jr6uIMMSzId0DsduNGtFjC2/fA/yPhKC/lcneiQxmgfGFvBAAAADlBn9pFFSwr/wAAFZU3qnC4Aiv1gxxI9yixUAJLkWl2xHK5/eXERkMw49OL9pUY4OmHgS9XJW6oTbAAAAA1AZ/5dEJ/AAAgt/YC2emvLRsb3LmVOifA3pzHUAVEyKaUb5IA7Pmpdr51qPP8vA3CtlcTQKsAAAAbAZ/7akJ/AAAM37aMNyg35JRl40ULUaEVo9g7AAAAikGb4EmoQWyZTAhv//6MsAAAQDtVDNBHhmYAdAJD83N9GFadun/6/Ql+FKCYkAQPEfECkJRWqVSrXRxke3FQ3Mi6NoH4EzfBxhQi3P22GBMEXm+JL5ir9bQXZ8uVzF+P8FUp8MCbPsu/mBFtcM0H54JE/wQC2YI8RvtpiIbSi7Wg8OnPl+kY0a5mwQAAADRBnh5FFSwr/wAAFQMsi8UAWMXco5xPvyTsKAEqn+U/nZR99TZLKAqoS5c5Xef0CyM+L50xAAAAKQGePXRCfwAAIKw5IeAASwbe/Gf7tComUlrgG4M9FsjKi5EHLhaQXqf3AAAAKgGeP2pCfwAAIMcmZLdIU2jn0uJfVdyyBB/DgALaqHcwq7/B1ymwft1iwQAAAIxBmiRJqEFsmUwIb//+jLAAAEACbZMAOkeRF7z1xnB8QrtUV64+6KwfK1C0riP6shJrDk9yHujrv/jnMgQELF47ChJXHbFQ0G6wO+WsYUIiKc2ygiLYRNNYUuZq5YPXqQw3bA9I0YQHFbdYsVeJW1mRIW3ALlmGxzWWrpv6SVQILN6s8SXymElCtwV/CAAAAD1BnkJFFSwr/wAAFQuUjN4LQATgIzm6xsKtTwMYkdP0NfAwnCFTIFa60kgD45uSLKwMlpYGNysk0MlH1HhBAAAAJgGeYXRCfwAAIMMXetwqo6yob1ciYTLaN4UFMe6jQwBjjC/+8obBAAAAHQGeY2pCfwAAIL8LsJfKSs3jqmU76F3fl6MtrIe0AAAAmUGaaEmoQWyZTAhv//6MsAAAQBDCBiAN4i4rsiKrxVqZD3ZYSljIBUtNo98dFznvMPDx3jAuDaNvQEDYER1VvN2v6acav/bMSYxPzbYAVBiYfBi5WvY8mxZeSlCEf1ZCBfdPwxlhQnwhmbhkHeFQ+S7u7nT/B0q85T2ew6AI84UT5fINv7NuwEUBAmvOD/41DrpMyVvOBLSRQQAAAElBnoZFFSwr/wAAFQMrscVbC5wacsCKNea5VNjA2H8e28PeHfDoBg4/jOoB/Gokmu6zM9/G6/MpP64dMcPg3b7Lw8CEUVM9njPhAAAAMgGepXRCfwAAIKv4W3gITjLTQAFyKQbfc3iICazj8R3H+z1KEslRSJHartxEFp1OwM+AAAAANgGep2pCfwAAILHMCwCAAumM+5hMFoGLRf+vp3w9ShNG9Ifx5brXcXw64ebBDvwG+ABgFlN0wQAAAHdBmqxJqEFsmUwIb//+jLAAAEACCBiATSegP9GACOr6uU5ZdYreR5SeehPSEK1LQvwBxwg4D+NLt2VLybuiWH60bt4J4XXANX+Ht+bbPE/x9VW1fow2d0DTfqtS0WYIcAdrW2FjBLC1PeCqwp4H1nMRB1mFDeJLpgAAAFNBnspFFSwr/wAAFQMrtQXDigD47aKa2JezOFiiRqnNxyqUK9UJ3NBmu37jnM/tp2gMsPBxFVWqp4tbC2BiG0qNfgOTw3dHhibQrtwkl7QG0JFXlQAAAC8Bnul0Qn8AAB+4p3pfVcOej2iI7vYAJaZxWhtaLzGGN6OWIjGSAms/G5LyURiggQAAACUBnutqQn8AAB+80STbIYAWY9dcgHXtZaWg8QAz0IhCkOT4w3TBAAAAqUGa8EmoQWyZTAhv//6MsAAAQAD9qPoBq+oY/m6uesftziO8OYgKOUAxMFkb+BIT3/lQVlCh3N0xBvreBnTips6WhIQejzgGzvVQoUSg1QVh0Tx4xoLR20+C314v2JpnIjnPZIweJgXE36C8GLZl6oA53Zpq49bF1x7Ep9wy9ZJMlxZiFcwGScaQ2YEsWtdQZbv+qyByOG2057vSVtOTyjDBOTTWNgYAqC0AAABRQZ8ORRUsK/8AABT9Oe8BI1epargPX6QP8tCW4T4D4ItLYXSCpombOmstzY4mriJgbn3OYj3wzv3E7WYsOr0lQQFcGuWzrloIbeWlbauGit0wAAAAKAGfLXRCfwAAIKv4V+ASPqLmFSqIpII9F4K/BgnbwPOLjIc8r/CMVIAAAAApAZ8vakJ/AAAgvc3Sc8YbWEz0uEDEZlv96IEvfwvU4daDyVQBwV3Vw9MAAACaQZs0SahBbJlMCG///oywAABAFExx30A1VWtMgtpCgQJKlKykHDh3NZKgi7ffAfFRFo2D9LPwI4H12LkIM5NpgX0Wutjuv5JPqN3vMEv4C72su3pV9poR62EPWAhQ4BJC1L1lus5C6VM2ZkDTCVh5rpGb8xPXMx00OGirXQW47UHCt/LMkgV43Ghza8APzaF1wj34d/VnXyQmwAAAAFBBn1JFFSwr/wAAFQuUVLF1BPJqwbej8k+IIuJxtN9QuY3abg/1DJVbGdtH+/2udCC2OPLySQlVxYymDgbspeqwWFy/w/Rbx0m6F5E634xD0wAAADYBn3F0Qn8AACC3x2c46KCZfpAuJrCHkF5cze4dZf+Junv3/TW7dI8N7h4UFF+01Si9UNyVLMEAAAAtAZ9zakJ/AAAgvZYCieB8d6Gj6QJhqSTKT6w3o7FnXf7RXl8uOf/6Sb7/9PuBAAABDkGbeEmoQWyZTAhv//6MsAAARgHhepfAEHVc7Yn5YQVE3c/ukrIijTowF2/+ECOyKuToMwy6zxZ3Hq10WdSot2EwroEWqZ5S0u42bwgomWhwy/FvS2IwqxR2e1AMDp3SLrlbDMi9gcC0lg5P2IbLByTTCuDumwtzC3AmKfVIQclhkcjWtDrsG9ca7cfIfqps+BiEs6/09snE+sRa68FdZzRp+E3C37o621nlz3iWrxQKazPaIOMbXG4U0cIe1zllY7wMPXTm6//ToS0CxDbUNuRAYsrtbFO6H6rv6/2dYQlMiMV/+en3ZlhrYTi63VNrGXEJQqPtIdBll3tYri86Sqw29KRzDW+dkMSZLQMBwQAAAGdBn5ZFFSwr/wAAFrxD44HdCt+B3fBUr6m4gChNx0QLK+NbtPieG13pDVtEXTXs3RBcJxo3sTV3b18oZNjkvWjAgJzrkmr0it6TUh1kfQmaGjZRpa2Z/Zdf4MUI4dqg1rUhS2huuFmAAAAANwGftXRCfwAAIKvW6DDsBsw48XuqIktZOgMHUlzWSdAPQKZ3z+ZN9aD1JRc+nxOWOJbMKUrVumAAAAA7AZ+3akJ/AAAjvwRcp4MVR670zV9yQXEI8TxNc6609DEBpGJRE0P/GWBfA2AfIi6gzWQAcdOFJ2XrGLEAAAB1QZu8SahBbJlMCG///oywAABGAvbzd4wFAoYOWTxZAoMwRhed3Q95ey1U1vqmiCNiJogUMnaEW5sr66y82Oy2BpohMikiOIPGtyUHKOE3wJQ0t0NUAr003O7QxIkiDk1omlbSCeTojlrr3M+3pKyY4wzpU7TAAAAAREGf2kUVLCv/AAAWyJ+AOXryyuTNTGQDVsCsO/FBNCn8qbrNwrFBa54/G9IhAW+Gyl974suU2UyTBwkRiAQ0002oG54MAAAAKgGf+XRCfwAAI6wKoQSkDe9gb3bOksDrVmlUPPG7154Y6OgtOKSNklIoqQAAACYBn/tqQn8AACKyPLhMYN2ap7nI/ebdW/pR2isxbvY5XXDj4BgBFwAAAHdBm/5JqEFsmUwUTDf//oywAAAaimQAuxCIshj4kb4zA0M1tzu56w/f5AlFQ1sp6ksP7jL93dOwhGYAwAEZnsEsZG1+ROGoksBLyXlGbwS6TXOvhQ47lzbFx4RB5ORc67pDVn5ALmde5GL3zmmVFJCNKgh3Q9J2xwAAADMBnh1qQn8AAA2COh0IrGwZ8sU8eIB/7fv9yOHq8HJpOAfsQAIcuifkJdJs9GXDD30F528AAABnQZoBSeEKUmUwIb/+jLAAAEYC93oGQCNv0pIKyDlF/ofNjT0B40favzPvvmttxjCfBejwjs3ajtl3vpTj5koCKdV1oazgw+BWj63hANjXBtIUlTUV//yn3weHUpcdH4bE+vAEn3V4LgAAACtBnj9FNEwr/wAAFr54JMd3r7Xa4du5v1cO1+Mf37rvif2fr6U00bvKNgm/AAAAKAGeQGpCfwAAI7HMDVHfypYyjjiNFAFDwn2hC0CmheHyK2Mda8NGgOAAAABbQZpESahBaJlMCGf//jhAAAEM+t8/KRJAhq0ke4vJWsIQ4aUYFqvHIadHhg3FEgUdMEFGbpT3ugi43DQrfQVErAUeRzAaMitSNmWCFVNtlU7fmVU2yNZH5A7swQAAADVBnmJFESwr/wAAFrxDzfjFaq0ibb6Xy/rjRJBlQKewY/kRDBHni4jSwrzGXiU+ptZE9YWxQQAAACwBnoNqQn8AACOxhaADU8QnzQtvpBB0T58zOGwTmQAjogDOpc/C0MNzs0tAcAAAAF9BmoVJqEFsmUwIb//+jLAAAEYN4oAAE5Q1WMyHMcgD7d6rOGIpyrUE+GRAZmzHdKGL4yQ+h+4wHp8pTYdCV/DB9ek2jnqd4/onW0IGyA4ljXororkfvkPj66Dglb93EAAAAJJBmqlJ4QpSZTAhv/6MsAAARn4mC4MAlS2y+mIwAZ1+xRlmoFpBtfmPo5MVOha7vFoGmO9KMlcvwH51CAgU0iKjH97WtDIpqYWNjYTm+jW1duwI+KFO1dSpAvFya+9vxb2054Tc27SIF5r3MOIbbUV6FMzLDHTbuLNXteMBCOyiy3Y6qo3iOB3umSp7oVl4i6umUwAAAE1BnsdFNEwr/wAAFrUm46Mj2Rdl3cyno92RmAAfWG7328bndVAXkk0uzpaguzrPhTQ8JZA1duuIZyGzfuuCjxfCrgC6C0lxzfz2Z3KhsAAAAC0BnuZ0Qn8AACOsO4Cr/iIKg5tZ4fDPTMW835lJUSKK4ixih849eNFnFfpan90AAAAtAZ7oakJ/AAAivx+GSdE/o8gKVkak3rhuVPQTDz50o3o9xxKClLbmYvQLAcWAAAAAeEGa60moQWiZTBTw3/6MsAAARAjWcALD6hiwxuIBv9+AABf2nqxN6cE1RYW48v9s3pjmE/u7rCacUgvU7j5w/7hXUbvO+qYEyiX6nMbXRM2OgatIbvWkzNrwfqKc4mYA/SbOOKs9Pbu8krkX7jSfjmTupNIW9/eEgQAAAEgBnwpqQn8AACKyKwgij4AFqJdclazVmlT98e0aU4xV1LFlsEkI0BjKU1MF12+gRR3qBExqFtxntk30zZl82vzS7B5y76YsGUEAAABkQZsPSeEKUmUwIb/+jLAAAEQCBf0x6TKOssAoRbzbeLVBoKQrRnjFf3Aw7s67gx7ZQBCMbEHpLVRNmNkb3S0Vl+fFNncsFzJFLrGV08n9ndpmpcoZf6j8ZE1Hhw4MLN//XrX3SQAAAF9Bny1FNEwr/wAAFiMsiHu9QKUX1hvMyE05mq8BHo6L/WaRalV+WQmkxcfMR0fXAryx+ssdSnPoYXdvZHRm4GeFEXXenGB/P7WsEyAHXSCPjy3ZpnwN8BjNf234jT7gsQAAADYBn0x0Qn8AACKsOSHgAEsU/Nmdv/HJzYu56Z9RaCXCi0aW/7KdOvvD0HbtCDbImbBfug+cDgsAAAAsAZ9OakJ/AAAisi2/BwAWolP0sEP6MkZbj4jNsddS1weQFU/gE4T/2jgTn58AAADUQZtTSahBaJlMCG///oywAABEJSfTa+4gAhS14DEpcCUB+xEZrlJ/ldJKT/WpyMtLfg+eGM7OaN2y+T+i4tzKIur8hoMgZ251Akjt16mFNiYoIR0qK+1iCLIBImpXdvVTBut6lWwIeyZObxR1ouIfnalFbR/Xl+o2NCR4YWDieI9uu8j/Za5ty9WQLNZ5omMMOX04geKUHJUChB60LbR3I6djk/op97hXuBvUmmDLjCbE+iV8OElq/7Yj9jnCnsVPpt+OHe2o5eFSVK2bCPuCAzee0hEAAAAzQZ9xRREsK/8AABYaWNAET6Ozqi+/3+W4KW6TgnpeYTligwZ/wAQAs2VJ6q6pYMDxzP70AAAAKgGfkHRCfwAAIqnP7rfsCfCs3cF4+wn9LqVkrHQZZ9GXAcjxjr1vITBvQAAAAB8Bn5JqQn8AACK/BCcSyXuUdoLai5QAZ1aJfyjytsGLAAAAcEGbl0moQWyZTAhv//6MsAAARDEB72oqwAqvhM4CJg8aZdNWNSptaW46kNk2eavz29LD9B+omWN0H+Jc+ojr6fVd4V5llM35ToT9FY6LaMA6B9wITb1SIzP1BElTJUXP3xIlwUudL0PlynnR2Ec0OhEAAAAhQZ+1RRUsK/8AABYjK7HFYOAv5dDX/eSNHIAAFEzdKAGLAAAAKwGf1HRCfwAAIp8nWYuDDn3O8ERSdqJjmfMbqki5APt1yHva4/0Dzc8I7dMAAAAXAZ/WakJ/AAAivwQnEslpmrhWUySAFVAAAABGQZvbSahBbJlMCG///oywAABEAgV5PQJOqwbz3Ts/I6EZohLJf1qezrmQaPt/nlgAKi04gV2EH9Nw1Md7Bk9vaep6e6RbOQAAAChBn/lFFSwr/wAAFiMrtQTWcHlT7Jl2DMwCsHyOiNC1vN8+EeRtpMHTAAAAJAGeGHRCfwAAIj3LOZRjyctgsVRdsE7xKyL8P3dHFTdOzBBfiwAAABcBnhpqQn8AACK/BCcSyWmauFZTJIAVUQAAAFFBmh9JqEFsmUwIb//+jLAAAEQCFcySQUcJ4UxjsnhwxkpIOGo1FrIS+tHcAIgYAVdbt7VRvU32nlJ5x0kmq3cLXQqP1u3Gg/1JgU1yv7QlpMUAAAApQZ49RRUsK/8AABYrlFSxjWMe4dzpciJoYmJKy5KCHVuIM0vFj9mS4IEAAAAzAZ5cdEJ/AAAiq/hbeBAGfIAFznm/vT7/ZL37625rbHsZ6Q1szXONlfMKCQVVfD8p4SbBAAAAKwGeXmpCfwAAIr2WAorxat8AEsU/LNXLnl3PWLet/OS2+BzMfAPpaNVVb0AAAACGQZpDSahBbJlMCG///oywAABEAgVNtBJEA1KqzyRuqBU5EbCoddHBF7/sZZdguOoGHduv5o5WPoX5l4SG9odIflA8DyIf24C8I3T5JpnvVH1wlzscawDkbc+3GWIB0lIxHss4CGDw3A9HEEZoRCsZGpxT+P1vPaz18y4GhTgGRUGAl6PRC4EAAAAxQZ5hRRUsK/8AABYjQo/pCAa5WMDTzqjnIR5nXlTVEOO1n87nOGxF9Kam/pYZvk9PgAAAACEBnoB0Qn8AACLAf6WTbIIdfXShwwdiTNiIzvGDOZOqbekAAAAsAZ6CakJ/AAAiucF6wbEkKEuqlxfoAFrP9D6l81vteqOttkGeXXBoCNarz4EAAABfQZqGSahBbJlMCG///oywAABEFEsPXhkxIACaU22Ys1PS+C7TotLZuIEQytLFcZu4w4vJ00D9EbS9A8d6JWK8Hs+uajdshSKVrhuPnJ8l0qzY/lc2X4/5nVBke3bWVbgAAAAwQZ6kRRUsK/8AABYjK7UFwTQbg+Ew503DOKxsH2QxZorlBNvDhDGA86zL0AGFkfpIAAAAJgGexWpCfwAAIrGFoCa5QAOC86fIDZjxYHZOpfPf2CcSyy46kHTBAAAAO0Gax0moQWyZTAhv//6MsAAAAwCE+9lxJWVlQXdeb1jhiABFqowUWCmkgMjNHZ+ywBbq9/nss2i74LFoAAAAiEGa60nhClJlMCG//oywAABEem89w2Vg9e/DIrnWoGY4gH1cArPQrOqL/UTWdIAj1LAtgIW43vM43eeOay2bk4hvzTKU42/++hV0iDFSmyQ+R2SCR+fVZy+9i5K4qC3370Dx0tXLMT+TMXns6GEChA9WTaJ6q5HYeUpM24bm6ypV32Ps9tLcSuEAAAAwQZ8JRTRMK/8AABYlNz9eWxsGpb0aUN+dIr/umOfWr+E0KPh2bk907H/yWgwprXCoAAAAIgGfKHRCfwAAIqUzftnsgXmVjBdcNMAlLuBL4AGPyKEedMEAAAAjAZ8qakJ/AAAhvxrOfBcSZZzrptpZdkPN3nKbQMwHBrcRkYEAAABZQZsvSahBaJlMCG///oywAABCAgX8xvm9o87pUdYmwZsSw4KgAaKq5Fk7eonWBwA/K/Hz5U734cokcV2BBz7q5lmo3EESeWr2mfVV2I5GsYekYjGsebu/tkEAAAAoQZ9NRREsK/8AABWTLIvEqoKJQiAY2jbLQtntgzBAB5fhVCmdjZjqgQAAACUBn2x0Qn8AACHDPg542CxT0cKPUYYXv/57O73U9PRo5zNEtYHHAAAAGwGfbmpCfwAAIb8azedIbIUOhqd8KO2HYnE4XAAAALBBm3NJqEFsmUwIb//+jLAAAEI3/XRtI7gCtDouv8pe7iHeR82txSizcC7DjDIKsZUDd4sKcSG4V2IIbUVoZ2TR+OXAAb8Cuhq4zEQztd0Bo4w4Wn5nC/XCCF3OvQalBS5nEUuCtgdfBnZsrAE3cc7hk9+Lk4laOkhaOX4KccvZ/9wTc7AauuZf1hEO6+7UrQ0ZZ+TFFrpr2m/0cbIxt5WU7Xu46kA2AgvcCJP1JinHMQAAADJBn5FFFSwr/wAAFZuUNyL5sCUQ97Hbs45X9wNQVrorzVGIxxZIVHmWpeEn1Rk1NK7yYAAAAC4Bn7B0Qn8AACGsOQW2VQAW8TBNsIqmH1wjGh54k1gV9LJHgwuccD2SNCZMCPYqAAAAMgGfsmpCfwAAIb2VwmZYsah9EHgTNTd4AgAunORSWRZvqYWkMDR6VGUNmV9yYEjGDOUZAAAAREGbt0moQWyZTAhv//6MsAAAQhCSGDAFA0k5hAIakzzA2AbtbGzAJdr9RWqxT3LuY4kV5ki0GVd4EWFuqWM6vv9HRlKBAAAAKkGf1UUVLCv/AAAVkyu1BcOKAEtM7TcI/xzYGim2IwzmVr6yB4JDLMuUYQAAABwBn/R0Qn8AACGYhUa5WMoRjbDeD5PBxaKPwUioAAAAJAGf9mpCfwAAIL8fjDexWie3yC+Ut59nkZgw1d6T7LQfDjoO2AAAAFpBm/tJqEFsmUwIb//+jLAAAEIUTJzfZsXRgP00mi4KkmH2T/iXKhTDWkfH5ElTx3WDihA9sMfEMqdqG59umos+aBkGfGiTcsaTPLz/gRRQzjoblIqid4iSFaEAAAAqQZ4ZRRUsK/8AABWeYKNXaUsCngiw5m1kFQeB1+llYoCaQCMlKckRldz4AAAAJAGeOHRCfwAAIbfHZ0b0cg9OX76VdtyflwF61ByXWN6zOBF/rAAAABwBnjpqQn8AACGuMeJ7A4+LWyuH5RIE8iLYb7ahAAAATEGaP0moQWyZTAhv//6MsAAAQhRJo6mNnWMzDPd+rT3xzIOmql0gFD1y7BgOR24EXk/6cO7bADRhXm9RAhmdXkRTgKLKktu0CfG/jkYAAAAlQZ5dRRUsK/8AABWTK7UFuRwv5dDXsZLuwLetnMHTxdIbdRYdwQAAAC4Bnnx0Qn8AACGsOP70kTNeK1UAFo0TYBdZwfxEWf5GIzRfVzJFG7hZPa3Udf9ZAAAAKQGefmpCfwAAIbHMCW+pb7IViw0WACVCx211ljrQm/w00pe4MqXk2DtgAAAAa0GaY0moQWyZTAhv//6MsAAAQnjf4Gn97fAGJuhnjA9XuW/JOQhYBmcESRz1uR4Z39pFiP6f6CJugp35y8egLAiokntFNdpa8farSr82iQ3GPItvjWa6glcFYoP+TXvcQEdxY2BkO5AR4Jw/AAAAQEGegUUVLCv/AAAVkytFd12yxXAA1wp4CF0La/SbPBaBPi9DxLng5X0Q8c5VhO7gmPwy8aR/G37jKdZKqH3Pm8cAAAAoAZ6gdEJ/AAAhwLjfwV63KAEspyY2LGgtN7OGnDzIUpW4M221VuHqzQAAADsBnqJqQn8AACGx6GFZp5UAOYEFehjf4Xwl6dMGlLfDzLG6EL7iXYZ9D62GiTC//8+5dpM5VhvWPKv0wQAAAJpBmqdJqEFsmUwIb//+jLAAAEJ6bz3fZcHss/TyWaCo/3ftagiZNjQjdjiBFDUQK5qg6zmyvId7xBpwK5/S89Ghqkx49l1BFwhomRc1EHspv7inJkuRy0+x0bECw3qjgpeWMZwPLNhHrgvgWclINyj4odGnLcbsH3oe1zj4zX1batj0QnN156csxXe/EfcWv7s/Thi9ec799aFoAAAAREGexUUVLCv/AAAVlSbjmVxp2B1rpegRuvIdR/wHgTrApnwXibTwTo9kqnKaxiuwRgLPEUmvES0sZ6GNx0Wit7DFp4EWAAAAKgGe5HRCfwAAIavtcMsFjv68u1l+FYPW1ggaujSZ9nzK/iroG2qJhKTQ2QAAACoBnuZqQn8AACCYXGd5v69V1o4AAr2D2JU2zLfuO6Hi/amxVZ6nlrhOt2YAAAB9QZrrSahBbJlMCG///oywAABAAPazJhVC+q5huHZbyEAEcXVBrP1XYWnkp2Yie9FcynrqGg/8X4D4nGWjgYWeHsHM3WCRfmpqOpfU2AAQMR5mSUo8JEwwz7aSZgb1br7P04rGiaVM6DG8iDBP+GM3hofM3zy/3yCVLIQ1oYkAAAA9QZ8JRRUsK/8AABT3y3jgXPQAbcJjllA8Nlh2zf/oyff/7tkD94Sav6COAGyyvRlq2foT2NsAfjx1+nhpgAAAACMBnyh0Qn8AACC3x4AIevqNZrrVFgVdiX2dGNrsV+ZtcaN+mQAAACMBnypqQn8AACCeZ+93yLcsknXAHSoanbv6sfQAZk9l2qzLgQAAAGBBmy9JqEFsmUwIb//+jLAAAEAUTncCu7FoeJhTzoAOZfC/sGgyBvTVYr8I5XeckVPlRf/qTWBKjKrW/VedNQx1M19EQz5QZl6VnrouGich8zfKi3g3qrYfkSIa3TeEybEAAAArQZ9NRRUsK/8AABUCnt43LUQ8oRy9sup1ZxOjJpjrW/ZWl4GFsSXLHiaIsQAAADABn2x0Qn8AACA8Wpiu5iJhA1EbAEzX7roQGQKmQVjcPU2V8LHBXb8L2JQZ3InR/3AAAAAsAZ9uakJ/AAAgrjEv0jL0giE03KqIARf+YmErZ0Lm5sttyNpl1MYcvel0Ub0AAABUQZtzSahBbJlMCG///oywAABAAgV5PQdaLO2fyjEHyNusA0QDmmOLdp6+GnJft/Zf15QLuj5pxxyXqtuB4tXFP31ofhLazcb4/aPxvFatdM/I2fNRAAAAJkGfkUUVLCv/AAAVA0M+MlixSepcwl2YbCpeYQIkMAlSgw2xIpVwAAAAIQGfsHRCfwAAIMMXYq5rCw+RyM271HWiDAekkRWJbhOVcAAAABsBn7JqQn8AACCuMeJ7A4+LWyuH5RIE8NB9t4UAAACTQZu3SahBbJlMCG///oywAABAAPbRkulfL71xwAnwpLgodaRXAns+C1FNDYrvLeLLM5rvXooGLQAHllb5ahcvQ5KykHSAVq6C61UED6MVWZX40Gnd2m9W/hrlVol3hEe5oFTBrrXW/HpIpDXxgwI9VObjS35qkDr8x9PR3oKevKribAx99e/VZVW9Holwmj7JGijBAAAAN0Gf1UUVLCv/AAAVC19utGYPXEgAP5dm2bkaqC/WywKtQ5/bHuWg3ZS/NTM6R1azvxmIT3oIEYEAAAAmAZ/0dEJ/AAAgwLjfwKdaeSUtkvzmeKYZlRSv6IrVGa9/xOpivZgAAAAqAZ/2akJ/AAAgvwQlj1RSOPOyW9emAHcMkcUEAF05yAq6lf4JsRunp4V2AAAAN0Gb+UmoQWyZTBRMK//94QAAAwPJYRp1xBKYhcNBga89uOobGVc6ZxkknwhoKrzdfoE/ClU5l3cAAAAmAZ4YakJ/AAAgsYNwcUeZL1aApR8t1+on/RRhHK6ym/MrbgoJdMAAAAIFZYiEABD//vdOvwKbRZdqA5JXCvbKpCZZuVJrAfKmAAADAAADAAADAtr0eJM75NTxNgAAAwEHAChhUxEhIBSxvCoEn1++B1nkJuMkelQpzI6xYZMrqOALa7Dl1JJtw0QYq6OmmskXrAPkIvVI3GckZm6qaEXzuvUHvbKDo+XMN2nKeOBYh9+jdPeawWUPcl/nh7zaPosTlXnTgfl6SUF9dZCxdPAuY/dcuS1uRjiwOM2LZ9UzTgNRDNhUd1w05mLFta0NIdhXzkZjTGfn6faHQCd9vklwRVlNMqnPHg5EqmG2QaSeC22BEsdybC5fpqvbcccU/GTHLDZTn1OmQpf02rvZQ4wahYrVLKQvMz2Moj/hyOqrxP/p9oC4FK/xO0hY64k/TCD7s7FTkQU7gvCaoT8RRe2pKh670fe01u/juIOm3a9+1DcwBKjLrmi494YnN/PXUGhIjPYF0XblGEc+8uI0HXB5yNNig6fmEvvx9ATHGErBusFMGxvTzvfUg93NDnv28b+e9fnld2k6eDBdOtm4SeKy8tEBFUcBzvdGvj9XZkqIGvsUx1eznUkkhBNjsojF9eV832rLc9kofmSsehIAJpwo8mKHlxQNnmWnJlYq9SJi3t+z27cmq2veVTp38PhkZS6lO0tX74ebJlN9cHMSiwJSUDfJz3ABKwAAAwAAAwAgIAAAAINBmiRsQ3/+jLAAAEB6bz5XSLAAj3pIiDKVgtv992d5sikw1/j2XKxbt2fUPGzb42PwjZUChoGxQK8N9mt2CaOY/CsJcw8HDrPPPkiMja4l2Ws/kBgVRmCNym2ccvqLTpVSvqlfiqfUrUOVz1xIzUDO/pOIlKHAG8px7fSzpKIkNpTHdQAAACxBnkJ4hX8AABUM8Lin9oYAkMUerSZdj776glsIjFzFxiPythlf6xcAC+rEMAAAACcBnmF0Qn8AACCr+F9VcgI+64iDH2obaGWswY81Q3oR6N7qs9XO3oEAAAAiAZ5jakJ/AAAgsehhcSIud7O+zm8Us1T3t9sD+bZfLhxWpwAAAHFBmmhJqEFomUwIb//+jLAAAD5dCr+l5C98eZW95qjf9K1Ieo4Pd4CCifPxJ9cGKQU58UKKWia/O4xGpefIRBvKnrs9roVQNSQM+Y2tDL3Hi2vTO+E8iKrAhy77bWkLZWRcvqfgsb9Kuhhxjw33z4xxgAAAAChBnoZFESwr/wAAFIAxgtDJQDYBTycXFxhsTOwDGyxq70vUfx7Rwq7pAAAAJgGepXRCfwAAH7bpoVH3RMY9E4cV9yaZ9J9IP2BATpaRuqLj2Iu6AAAALQGep2pCfwAAH6suM3JgBuCO+LJhHPB+2pBKyK80n6jy0/askD/1xmNaKtMAEQAAAHBBmqxJqEFsmUwIb//+jLAAAD5nxzgbdPQD1iRPEfHYHmFtE8MifX8i72JA9cjFFbdQou99y6+H9yi5fDOC8X/we6MKHkPmCaiShG0FYmHCQryvGwmDspQiyI+FUvls03svIcuvE7jG+yy9RfXeZ+9RAAAAJUGeykUVLCv/AAAUcyu1BbE7JSVDcaAa14vI9KD4PrGQNZ86qd0AAABGAZ7pdEJ/AAAfqa6i19RABw5mE71Lkjrlil7x4yyMlOZkQQ1mycVzPGlKKr5pnXmlbjVbNm81MKKRT4KAZXSgLd5NRmQvZgAAACQBnutqQn8AAB9jlF3q1AAC6iXm3octS8lz/9fnMbnZUQzMNmEAAABhQZrwSahBbJlMCG///oywAAA+XDtdZ1gGpjbvASo0qJV3j7E5U8BRkOtfrAWyq2kN4Udkxo2yuzBDUZdZeIL6v/xCtS3273x3ohtlmQvlu5gQwO9dDHvVPBAvbT6ZjHWC/AAAADdBnw5FFSwr/wAAFH5iFNXaFKRBJRwlHxDWAA9+EpAasiJ23WOut/eloM1XA5uVAp/z8rc1adWVAAAANgGfLXRCfwAAH8jKWRQovcPnlrK60USABc9XwE/t+Ez4Cjymdew9JWRiI3pXXU2wWF+0aaG7oAAAADkBny9qQn8AAB+5pxWZ24eSR+iWxIcxHUGvOZcnPoOqGyBUceACdYMnCAfLcVYK1gKZH5ckGyOkWGEAAABfQZs0SahBbJlMCG///oywAAA+XCqpuEJgDBoGAByeZYDrnGv+E89bLB+FhQaFgxCbA2o1wt5veY+ST2KI9mGj5TSo21jO4zv1rW6jM5JeN9sxyHcvjm3CAq/JzSPbBEcAAABOQZ9SRRUsK/8AABR7X3XJc/PdwAmrWNFnIpTFWA2zSmnnx8g2OgW01/F1+I4Aqt/BZhbgnAlNVyjjHxPYNx0LFq8oZ+k+TwooUBZ2ZFhhAAAAMQGfcXRCfwAAH7boevsxRWSZqaRG2ABaiaryT2S48Psl0h1RZUMY5GMI4Yidbzkqez0AAAAnAZ9zakJ/AAAfx9xTbbQMH+25tO/i6hJsG7dgHbgLhaUyBUfFz31sAAAAjUGbeEmoQWyZTAhv//6MsAAAPmfQ7tp/w6pxMDvW8LB2lYQfzvQeYoQEekh0nSR0G2JddISGK240cZV9xPPYGuAiTlaauQHgz8PRGffzHz5NeHDg2YF5RWsOhSt6UU/GlmGUuqX+tjmn2WSh5WZ7G0BWX5XTbLrnX3ud9EX5OHwDXIFJEa0V3yNCpTSVeAAAAFVBn5ZFFSwr/wAAFHsYUxJgeR/yNivCAG6yI/2jwvdinneDlSjiwGxcNK0tK51W2mkqW04aoHBx4fNDO2MqrctO7M6qeTPxE8H+Yr/8BOLSp9fJtP0ZAAAAJwGftXRCfwAAH7boevsxRWUfOKWionVzb5N0K/c26ufrOvxkZafowAAAACsBn7dqQn8AAB+59U3vFy3gFTkPVN3pdgqut2N8TcSgIln/0qgW2sNWkbd0AAAAfEGbvEmoQWyZTAhv//6MsAAAPQfHSauiu3S9brvKXwYOWAEfNN/dVCBK5IzQOCPTy7FE1Mve2LfXMTpuHimCaS+X2Uh+bCWaNx4T5OYOT392PzSG8EJ4vnV7tpsq3jkUDVzjNA8IYQQiP7p2brLXRKCX3r2qY+UDiXcPnIEAAAAwQZ/aRRUsK/8AABPjLIhXQiyOBP1wKqByfUDj1itv3ze546jZEkUeveBJYPVBwWAtAAAANQGf+XRCfwAAHwbpgHcw5KIASg5O0g8eciLCAJzGICPxBKF/c4KI9sKXfbZjCVL0xWlQD7uBAAAAMAGf+2pCfwAAC/dTCGjOGTd1ZbPcggyMIVAA9Ux9G+sNkMc7Ao9lZ1sGB5VW61DCOwAAAH5Bm+BJqEFsmUwIb//+jLAAAD0WLTN7STFqr7KxgDXCl9NXguzYaaeS0fcvvLoLZw4csWXxK7DjxFE5svtHk/EMdYFmQW1tlFkzmtBOu7kqlfVqxxCbFOIJ7XwVOaTmn5NWLQy9PQ9U+7S1Qdk/1Aq4uHvSfpuLTsRav45r1oAAAAA0QZ4eRRUsK/8AABPrX3AtufOElFZnLFJAiHgXY87ZogwigkI/ncW5yEp9ncx/yMpZgwdFxwAAADUBnj10Qn8AAB8G6Qd0frHaMxfcAAWrZYv2DC31yhcSszZzIHgrTo6plgQwXR/wCcWbP7L3ZgAAADYBnj9qQn8AAB8JpxWPlRC8gtJiWj1sDfRTPEXACVNjnR9u7+soIiaIN9+S4zczvrRrLlTw7MwAAABZQZokSahBbJlMCG///oywAAA9B8zI8UQCGreV3ZCnfaqXICc6+xdDLlVv+tYzaypzCt8NyTBKF1NLmKw+8cJL1r0F1e7+uDJH9pv42dy87FrtJXIxWyUN6WEAAABPQZ5CRRUsK/8AABPinqi0SQa85hQoCeMW1kAH5P6erzUYF1MxLgHorAf2cKxM2dNZbj+6Bk9rT/r7zT6R0hb3VbCrivKJngB8EiO9aFUILAAAADABnmF0Qn8AAB8G6Hr68kGGzK4TLlCAFpJFTZyMU2MKQSEktBD4osg7Dr5Yv8siz4EAAABEAZ5jakJ/AAAfCaZ/UjOh4AJYp+bM24Hy2aGhDRHOxdbjd6oK1UjfJUIt5EbXLFWGEJA960VFgonyTyeB2mGbzavl6zMAAACAQZpoSahBbJlMCG///oywAAA8/CqQ0yAANZLEWuLXMtEa6irRH1evavSIguPvWBaOX57pXcG8w3tBTIB/IaFkZPQpM2pxOepS3POJOc/1YXnzBP0SL06a94xECH9i8Ts3Zngx0Yh3YvL7RIELlmE/hA7/yhTAgF55OtWaocPTw0AAAAA/QZ6GRRUsK/8AABPint43G0Z45QX1UZzAAjSHUHEmSMZZLJb9/4g2wA1tZBoyQZF09rWc3qyOGzDrO3QisdmBAAAANAGepXRCfwAAHmsiUelkg+Auh998bfFdEAFm4QV1y5dHx3DVQ2fsY/t0NNZBQTSTTxWTekAAAAAqAZ6nakJ/AAAfCaZ/UXlFIEWwIN4QZHC+gk/PrH96F2jpF6xr1W0LwWaBAAAAt0GarEmoQWyZTAhv//6MsAAAPVwnPczrlgAR71JdNsN4KC1rTr38zsWit0nMm6vUTuSQgpMWW4bd9QCLd33f3r37QPhl6D6Wf3AM64y9mEZlfVwcV6F3BZ9fDdKLyETV6yN3+xc5qhO4oylGWLAeFbcJwxKYALnNf4JSIJAfKTkwla0L+9HEufRYTxxXVPNDV5kEFiS/m4JCiZTXlh4Zm1gSIkNmUVu/s/gWfRTmHI4niK9kSmUyvwAAAE1BnspFFSwr/wAAE+Ul/VFefoycSwsAJoT/pz8dot3Xsux0Ir3svrmc4KsjbiK0TnvXPMwW0CqS0V6GBOZXJxHHe3ZbW0ykK1gssWHnaAAAACgBnul0Qn8AAB8YylkUK2UpLOWHCRtIRxnm5o5PhV1n/HBHx7rE8CLAAAAAMQGe62pCfwAAHlmoO8GCtXeLRPDo4PAdaqqHlZ70MP8xM9FRWZkgYaieTPLhDOZB4YcAAADJQZrwSahBbJlMCG///oywAAA9XCc/ay2z5ajV9vfvXo3p93m0T1A2m0LuHA+T77lK/MweFZ5qXbVKd4cy1AcP/4YeJt7XG9aXESIw2YbwGMlhGlOj7lXZE49ah8oEHVq4Z7O97Qp5+FCDVKfNDwgAvF5xMHeSUotsh6UXKTmFhlaFdivhse0vxrtO4EyohJkZrStwv/L4cU9U/Rzl1C8SwAQ6nWTEHlMUqjQufkI05e5ySsKCpCoIh+hWxcxQh4LPb+x9gaQWWRsQAAAAS0GfDkUVLCv/AAAT5SX8liEuHYGTu1QEqbmCw363RKz5bfabBL2GHOu9p0XscphDJCPTPZ2BPQjwipZokiwGDQhctHf+tM8YXpptMQAAAEABny10Qn8AAB8Ie0FL3Wv6brHfp+EmPAZQJND69AACWPzPhTNOd5citvndKa2OePsa0sKjY858x5S/QFAketlAAAAANQGfL2pCfwAAHmdgVgAWwvLaZ49ok+Nl+FMB8ln13X4+pfEgTRHVEmDdNXtXR4bgJxowCz5hAAAAsUGbNEmoQWyZTAhv//6MsAAAO5xdpuAORsoVZTIEBEGIdq1tz2m00Mis4pj6J4kC0gCXRHyprpFvo4dCa11t2jurjVJxDBQ2t6zUXO4e6ZEZBQlpWFO2dcLfAx+R8mEubvnKti2ODkjHT+dV9TV+YpZbxuSs2jhzHE2MQej0LcW8DPIWCXv8Ak8T0t++miTM3/RQzvjJGcXsmI5iDarfdRi4b49QVQ+EBvlDAeGFUDob9QAAAENBn1JFFSwr/wAAE1Yux4uSUVW5OMSBlim48xmNp5NBOHaAx8wOeWfUiubIGA2/LSAoWPeY2UAOKGS2NDtXjbTnXtpVAAAAOQGfcXRCfwAAHmkkS6kgByXDfs9BVrZ2sQFIDhB+TDVxkcr8Pv2PweaSjMn4Nlvcf2xnWw0RINtpgQAAADEBn3NqQn8AAB5Zpn9SLOcXGUc4J17/TRP3pwGnp4Jkd4hKt57Qckl/YjefvvYwnJ8wAAAAf0GbdUmoQWyZTAhv//6MsAAAO53GT8O8mLRWvY6XkRdftbLSJr6jeBOOsxg/wKu01yKP7vBfMoDqkjUYOOjcB0mu2Qn4oWmSIzazC0eWzxcv62FKQ+gcSenWy1KeGGxnDP0eSrdv/iROTkknDHKdOUTfi/vHozKC3gseh9/fdyAAAACEQZuZSeEKUmUwIb/+jLAAADunzTpgk8WLe1kWiNvUTrBnhIBT+cT9qSIC1szBknu1UpyjQFozin7ibJ0ZrsRHdQfodJwBtfVsa7SvAqtfW01Bd5/8KQaQgIEbwSK6TJw6MH/UAFcNSdO+4yOpmMVND9nvDM0UliIhOknBFhUUSuHVmugTAAAAPkGft0U0TCv/AAATXV9h4iXxvXaKoauFYMVN3aJa6rdXGyu7LxAI1rwXWYQQhGAmvAuzauO/Gfz4CGxYBf8wAAAAMAGf1nRCfwAAHmjJdzntnEH5cQw0IN+evuInj6xldYKg4PQi6fjaex3rUaOCut8bpgAAAC4Bn9hqQn8AAB5mwB20ikexgUKPyKV/oZqV19nrr86G8SEP1rvNB4uChADWsSARAAAAl0Gb3UmoQWiZTAhv//6MsAAAO/wnRDlRlFCDpIjEGfuE7vczFIAjVh6s2Og9fObOcX0JC4edup9Aet0kP9ciynH1V00yvp7sBuKyPPmwa5raG/NkhkOzf6NNcX8mKiF6U6Xxd13bbOlp7jhMt0LZV0ehrXAKr9BwzQGMZW0XCGG0C150FSQ6muwOq2N9/JZhBC8yiEI4YC0AAABXQZ/7RREsK/8AABNX8a68z6cSTtw1ZTNIONLNqOJry1SZw0On4lYdBCJtIKfAEeqx5GHUDRsLWJR+dChP99df9453IGWjGUo4JAcDg1Y1Gj1w4rmgY5HBAAAAMAGeGnRCfwAAHmiZHfWAb+0W4poJjKkAONPVWd1PVPjVlSUCLsh7ad9EZ2Qmf69gCAAAADEBnhxqQn8AAB2pp//dhBlXd8ybr9VcjKKX153bnJGvQ+OJmVebDR2wC5IdRTkTbI/wAAAAu0GaAUmoQWyZTAhn//44QAAA4eMNcyQEG6gvJErIxRKigAKuIn6g75jf0FNwzgjRg2dmTuJe79JZXf+9eJpnysegCecvyyA81HAKQuGIm1C7nNjryPSNiHR0oZfp9itIwLhIYDnix5nU2P1Cgzyda0m0aE40iZEkoPxLULrU9txHu67CRNaAo656DhKcH2j5M5ohL0kjbsKW7wGrKqi8CEMx6Yl5fJO2uTmfHE2h1KhT9UyDFQJGhheJIYEAAABAQZ4/RRUsK/8AABLMpS5gq8ONyJgQzsxzCV5hP5+XgZO3rQiG5ZUNRdzuTGpwI/3jSJ35IC/mpCHJzRWOnPIXwAAAADMBnl50Qn8AAB24ymSSRlQphTsWSr2bAJDsBKVdzxrZzne3BXXu/AGNXVGrD93vvo+dT4AAAAA0AZ5AakJ/AAAdqaZ/Uc535a9RwKRC3gqU1Doz5KxZ5OfCJQvCh0n1H/8RSQx1aS6xUwRHHQAAAG9BmkJJqEFsmUwIb//+jLAAADpHya8WFL0ZDoIrCSq6rrALQ6wLxnBtsAAbfeVQKbkv5Rygf3ZoAssHZ7ZGsbJUyM8MhZQuz3KloF4cZ13U7FAZd+gjZKJU2K8TDjAl/k0LddQiGNQZeTy4ZtC9waAAAABrQZpjSeEKUmUwIb/+jLAAADpHtqO5hO/rSu3k3J6wU7U56fb8+VhgXh2iNPj0QA3bpHwNt45NbwlW8ZxKk17KjxZgi93hsG3o9P/4VURgTE92DDxwfMGvVOFHwX9ZDG5bzQ6evZZoFAY7b3kAAACCQZqHSeEOiZTAhv/+jLAAADqcJzwnKZO3zoCjtUYuytZfDjQhofGmiSANv2kEpN75CeQp8LBDL8BY3pcFsg9SS1SvCK2oeTsBzDoegvMNUtsKz+FlfcpUVFKzWb9W6GqX++Vup99lC4y0MFx9KPYQVJpKoXSmQD+PWn6KfY6Mz4FUIQAAAFZBnqVFETwr/wAAEtW+Yn/tG73jvZCgBbaoYYI+jLrtpDDjK2jT20D9rkBiu0zrhlpNsFbv40tLLGUsHIkuN2KiZiKAuvg0X6ce5cFqVH8eZmVGGlLD4AAAADMBnsR0Qn8AAB2m6Hr7WtcE8hLCl+Vo3H40LLnm5mOqPJQ7Ogs9ICHGv7Uv64/G2f+0nZkAAAA8AZ7GakJ/AAAdrKe3qrFd55zwYIQuF5Q4vxSk3ZeBHGERv70hZOjpLuITNxYMtDxUUhApC/bNj1iXvIW+AAAAwkGay0moQWiZTAhv//6MsAAAOOsU9RJMFrANOLOU0tiIHsivFbvLL/M6NzRsHzziESZxMXLiUM4uKTOFBMPZBrdWbhIlIMhA8yytt7aP3bL9hieQyPhYpfW2ApUSFOd1sTFjBUXc5Q3jNS07bNJ3d8/pavyF1iHvjSKMJD/bEi49AdEgXG0lwUVhFowG6C3cuLWJrbZfHPmLesi39KCemX0hs7vR8R0CAjWFeOONHifggHbPG3ZJzjoXQK2ekRa9bSpJAAAAQ0Ge6UURLCv/AAASVb46kzDIt37Wtq/1kzD5IGYA6zP6X4015/TBf1GWcG98zAdaSuwGrivmCxSWcskFF8rPG6GGTB0AAAA9AZ8IdEJ/AAAdCC0M4HdtkPrHPPMJovriANZtVcABJ/2mmqrd+bJAMeGMsSwWwuAgbWnjgLrckbtkNkwLfAAAAD8BnwpqQn8AAB0OQg30qkUbOcnFnVekdlkL58/bYDWaa6xb1JCI+h++g/CmCWtTz7lz9Zrdr7qsQk+THXMsheAAAACHQZsOSahBbJlMCG///oywAAA43IdP3HaOww1nUpfkQA48utCYjIGjcXuWAAxUSDRKWjhIlNhmHWAo/XH6BImURDAZmjmERxnxveRvIdOtvI57TZZIy7W7uzq/F5yG24DW8rJa+lpi2GILekATH2eGHGp7fGwC7lQzJV5WyW/S9+EFMXVX2UDxAAAATkGfLEUVLCv/AAASYGVQyIDVe0G11iyrEGp2+sMa7IAAC6kTvssgNUHsjNatwe+jjk4Qm2pbFwK38t9y6Xy+XfxBTJ+SN/OWv3zcCzSKJgAAAEgBn01qQn8AAB0GdNlFeB/ts7BmKwfQY4Tc+NjDtEJDPk5R1q6TnIc930AAE3ZG5l6MIkBxtZOv01aabQs7fMTOmLKv82OMHCsAAACAQZtRSahBbJlMCG///oywAAA5PCdE8hKUYOhBssdSQ1PpeCb3/LOFODcbr3pACXupx0hgcQ3umbZHdXNVEJIT/GWiKI5MGWbVQOatOYpDMsW3DV7H9Z5ZcWJlFco/AUUXU7dOSK6ZkkV1Wu5OpjupZ6AsBiT9uSGNCzjQos/YwxIAAAA8QZ9vRRUsK/8AABJV2B3m4LX0E1DtPcCGLx2pURBs+SI3UnDnhx2ZrThRhBk2t5SUQE+wWHr5PO4MPKFRAAAAQwGfkGpCfwAAHPyLsCRhFrOwr/bn2b9DEigZFuaBT9jovu5fjJ6rAPaE2wCvktQCAEHZ9JA8kuaDHHSZIHJHHclQ0ikAAAC9QZuUSahBbJlMCG///oywAAA3l2DoYMAK9bmc+K8twhuMMvekdYH599jpW7waqpATofB+m9RXJIEK2xFkkoesLkJxGqrFE70DORPoH3GjOnE8W3vGudxn47t8IF2T8ZAK6p8T6WfjzhzfE1iakYtHO5Zj7ZLH1viIWTzbu0uQG7kx1WTNarRa2ROGFXCNQJ1QNltpfis+Qbh4YxpGKsnKBQUOZ6VHjswm7tlkYYDjCX06TAPJow2bus8XzI2FAAAAVUGfskUVLCv/AAAR3V9PLtVkr9/U+Py8UowN63KJFmMJJ8A2UE5v2M+TerwQB79fqsKPcLVfr7ovkJt1hgAlOTTTMnLn4yI22r0Ll2EctjKN2L8vIcUAAABKAZ/TakJ/AAAcNThohuISdQleW66U/D8NdHSu8fWv9DCr2AoKv6UXphGuE4TkAD9rgAaBnOCX9qtvr40NLOJPRlppZbhBxxD8DugAAACeQZvWSahBbJlMFEw3//6MsAAAN4r+iTVBYWz9Q3AUDv7aAA4rJezp/TFKbO2PIaTT0JhiLkChqqjOPUA5mieUILQCPtWXL+9FC64O4C3+GnoY4nOSuBgf34HDgLp9YVFqTrDSdz0cOeiB+4+5iMMlMBYAqdguuuSz0Qr35c7X5eHFtf+YzgceViGwWHugR54Mb9YEBtd0aPqyoEfQjXgAAABRAZ/1akJ/AAAcXkIP1Tyr/TG4SU5ZZkS0Jrw1MNnorGq1LVsoLzpqEjoyGv7mnBuvxUgxVwgtstiqtRlqAD40KmyA9SwnSWfOpfEkpF8+d6NhAAAAu0Gb+knhClJlMCG//oywAAA33Cc91Or16bQrB51RRoMAH8APnBUkAGam57/YOUwdwTcJqiFvoP3eCgDHNm2FUuvLQmHEfEwMpPVqWhgdySVA7yKpf1Ongx8ak8r7CIVCH03KQLgag3WUW2h1yiCLVLShAt6iMBhUVprBpfBfVc3sALlMxfYldfatLKwrdDJIcun4MdYu4+Z4/vjczd0DYnwzrvgLpJobZOshl1BslQFhqB0BctmSUSnyOGAAAABOQZ4YRTRMK/8AABHX/n7Kj1UGzZog16DB3cT4kgF/Gwg3JzZoVO5xiKwMqjW6h7qpzHUkKbls6BJOfw+BctCqyykHJdntf8TRIU4E6kWAAAAANQGeN3RCfwAAHEZy/KTJV2+Suoc3FMipKd886R63f0j315smz0PnW7NhxitDdmtcm0d2ciRZAAAAPwGeOWpCfwAAG5xgRh4yWgOFHNtQ/fItOFa+7aAEl06pzBIJBwPVObxtm/+1Q35J0dU/fHB29knkDOf+NT63fQAAAJZBmj1JqEFomUwIb//+jLAAADZUgMOM4ArDycbzWOe22AUk5oxOALPJ8xYPxhQGoelu70woU80D4LrHKP87IViiAPCQOWvbbDbAIJIHZSMWV5TpjzroC7s0BZdifcQYF30Tv7JReuYYV35X8Bc6N6ruNzfkMbaIVKXgkn5f2h2NSuBs6WhKsxbRXeMydV+3mI3bpwq84LMAAAA8QZ5bRREsK/8AABFdX260YIt1LpvJQbYhJRSphY8yvx+NA0bpCdzL50PXVgZ/asuzIZCV9VUg/HeHAYpAAAAAUQGefGpCfwAAG6faerETHv8y7joE1E8e6uDkOQOjz4dk9GXXrt42jUPb/oKIOOLDfakKgkPwIggAEPtLnTPCAcIRjSx3WlZzgTxZQwXk0xk13AAAAJJBmmFJqEFsmUwIb//+jLAAADacJ0LpXJmrzHwzAwhiAdXiryQ3F8L+hVwy5BuPhAS24QFr5DBV9AyWrePfhnuvAEBvDOAQuVEKp3M+8eJzlit/7R2LJSgZGA/mPfK4ZudfvqKXX+RiLt3KqEBFi7u4LlGm/VmZHfmQ/yC73XkOMwyFkql3JbDocMP4hD0fiGiLFwAAAF5Bnp9FFSwr/wAAEVivyyQsGvo2H/4RzdOEyi0EAAbqTLEgy9yzuoTvf4ba9aThxkADqbAJvp2XJc3XoHlgpXwG0ZNQeFM+3k+7QTt0JCJXYBOGCINwM+wcCrODUHpAAAAAPQGevnRCfwAAG5o2asKndhYwhN8y7pTOn9VTeGAzgZt6APhdNLCWaajuaGRv+m5Cihw8sMmj0lUsp6Jd4uAAAAA5AZ6gakJ/AAAbn2EbjaPI6xJcTlZJtbwd85LuMtCW1Ax/YNdy4wAEBDMeEXhVHzUscgi/NmwkrQXBAAAAnUGao0moQWyZTBRMN//+jLAAADUUf2abgBbg8L8LoSTO/CQDhmwINsNLI75jTduwQjaroKfRneuQslQFsA3Hqmf/F6t2/2Hgq3XGAL8H7qepfqXuEnoh2VBaJ+3AaEyJVZiYd8ICwNx6J94RH8Y92Q3s+f6Gt4PZELBZDok9o9Ihqw0bg12MR6L7UwsDaUcFPzbKfG5034iSc40lt6AAAABEAZ7CakJ/AAAbDpgTqCTdlglOBETlergPEtpykfW+RQLccp72ROp7hhHMbBCm7N0uQATNXwBHBkd1/A0D5nPH7i/rIMEAAABbQZrGSeEKUmUwIb/+jLAAADVettnIkyCDyA4U7KscwkFWoDri4QxyfGg/cFgIS/+gVVU5Tb0dm+/3DZxBw7lxK3kPjzgAuCnpEwoj68Uizi16jdZ/Gl8qWIHjgQAAAEVBnuRFNEwn/wAAGvvj62hbjoZGmLDlOXm++V2odE0ziNz9dC1D3aAddhkk/0Cw72WEHvK8PWgKI0K7ee/kTXV9XCf+gJIAAABMAZ8FakJ/AAAa+4OtoWdyZqA5b9LrBF0VQfsD5RdFvwSE1g+LGZAzp+xpm1KQTTNXJeaOo4XFfN8QuKOqjKMYqtKAFAGr3qNMWGbHwQAAAhRliIIABD/+906/AptFl2oDklcK9sqkJlm5UmsB8qYAAAMAAAMAAAMC2vR4kzvk1PE2AAADAQcAKGFTESEgFLG8KgSxDPePgtGgg8RX2KZOHfKoewgkGrZhxkP2RdQUUKNz+Pd1WB4SFiAAAQjEpyKzfcmIcyvjBRaM+sCVkDSM0sfRmO/PqorVYH60q+1uXtaw5AL/R+32QvNw8u3RMWeABqSAAAohBsewGsGmL4xuJVRIjP2I/3LNna/9VRjUS3CLderrDmisAAj0U+WrCOXUxQI8vvzjbF/Ez/OKg9Kjqw5zF6L15OqAMyBvu58O5gS/aJMWutZEsbLA1HDGy4k94PDIXXS6Ot+f23Y9qjJBN7c4+L/SX6wDCu9d1NaVBfaNugFqC+C4rIB3fXXC0fi0fT3JfxSbGLfGjc8KB/hVSn1HnMQ7kPclAJTAUGgj4mtokN9fN5NQdpe5xLmiUkH7jSa/+mwzTds+6eeRwTfHJad3kk4Whiuxo3XAoaDGaxWtkyEAv9dTJeu0TD0QPiFiyqrd7G0eLXdOMzQh1ib0kIgyk1mY3/NjNM3XWE8IVOTF6tIwwXZIu1Ai9xLuOJzr+4+Lq9uVLZop7eAACL4A/63kSMQVx+FY6DwDXVRwTtfCOjlBth7aGP8GcRP+4+kQNEAmZ0k1Kl91rPynVrnmdeOVBGTm3wtVVB+1QHgAAAMAAA4oAAAAgkGaJGxDf/6MsAAAGq1nzQmW2gAtXSIUf1D0yvVbbcmwl+9hgWYzuKFTkk+6AXu13te8/wACg//fpvAMr09nRr2kPbIdI/hdFun21DFAcR9jpBVx4iwdQ8wxuEM0DEFv7LsykURJ9PRmiHJreXIR43RfnR0fOh52LhuKKi5oyPgJvLEAAAAdQZ5CeIV/AAAIcCXYS3GehUxugbO7LqlmReWnJMEAAAAqAZ5hdEJ/AAAFHPWOVthN+e6cAC6gD3kh17wMwoHtEqtaAS8eWQMPorbgAAAAIgGeY2pCfwAADYSVLPcUCdP/U7AAAmo80APaN4vEpN3lawcAAABoQZpoSahBaJlMCG///oywAABGAxdwJKhgiATSfx+ohYaEa2qQSF0Va9RFAeXDOKqLp0iPPlfNDPXU8LvtucOD2GnDrbJhz11cJUUcbrt0LIpy6WSnvGrIxI7BWtOJQYGYE0jNPRa/RWcAAAAvQZ6GRREsK/8AABa7lD5aC169UepTnE8cW9hIWxxxD756AD9oC4Vdw7ToydZxomUAAAAWAZ6ldEJ/AAAjwxdhqFPCrw3fryMwYQAAAB4BnqdqQn8AACO/Cz11j4YBq0tEAJg/3Q5shCW8tmAAAAB7QZqsSahBbJlMCG///oywAAAar+WNATtd4OPCkyDO0CxhThSGKb9ZNXFJIs7WUg6NVjjjMOiV8uwxOvsrbX4EhZ1pGcGn2FUmYd0BTL5cGAe0uXj+9WtsG8LCYsiRlHzN7DNEICb8oa/TIFNEenvuED/vyQDxgvuzoLttAAAAHkGeykUVLCv/AAADATWvhNBEofj8Bj65NcF2o/MduQAAABQBnul0Qn8AAAMB5q+PQN3jC+8CmwAAABkBnutqQn8AAAMB5n6XB++jtXGdJeoqsDtxAAAAckGa8EmoQWyZTAhv//6MsAAARf/1zAG3lTi2XO47K8YJs9blIqGrGtdWxzwJuRD/HJEaF87X7oXc8PSRkuy7v5Ge321ZnPzFXuEeEMLnAc4gE/Dhigv0fong1k4bOWBMn5SZmPBVeP3e93y8PQwlqUf1QAAAAC9Bnw5FFSwr/wAAFrxPHtkZdpthhL38g75iWAAtRDaIYU8+0fiUQDNKAL+TP1vllAAAACgBny10Qn8AAAMB5q+P/86JDGwhrqP1AAmIT97AJkNpXsdQcQTN4ctxAAAAHgGfL2pCfwAAI78cVV3P7HOvElt6UzZin5MCA44XEAAAAFxBmzRJqEFsmUwIb//+jLAAAEYQ/bmPeMAmlE4+fjgv8lFKuc7pjr0nPybJXfjGLT8HKotrovq7A8ZojQsb6oNsQUMn1t8QFsiY3w2a9xrO8CvWNACvho0zXpmygAAAACpBn1JFFSwr/wAAFrUrN2taXlumYoF3rD0EduPjJ9uO1yMN0STRoifvK/0AAAAfAZ9xdEJ/AAANhd00XIPdRYZZJ8LrcOkxK2Jb8/28gQAAACwBn3NqQn8AAA2CVqq6iChBvJ7NExjlT3wd0u4AIOqGub16bO+KnUsRdcdFRwAAAE9Bm3hJqEFsmUwIb//+jLAAAEREOoziATRq/jMduqpAHI5Kb4MOEdHtDhx1YgIg37vwI7r8ttGBe4e1OSGzL7HfXopn2Wk1LO4gYZvPZgauAAAAQ0GflkUVLCv/AAAWJV8/SmrsIa7EfjH2y5AAtSKW8uI8INKgM+nHYlReKnbt6tJ02gZsJIgUSM2dKlMcHd2DzUDTPBgAAAAgAZ+1dEJ/AAAiw0cgNRMV5MqZQUDDOuSIDhTzqIbFRQ0AAAArAZ+3akJ/AAANf7aNe297KwVwvG6P3sTlmYR58QAIg0vce5w6fa8vOApSoAAAAEZBm7xJqEFsmUwIb//+jLAAAEQI1nAG1Wox6Proo4+bZ+8vWrR31fJybf1fpYSJCw+lQ0L6qiXPqFBAfyWQtqT/wuCHNrRMAAAAQEGf2kUVLCv/AAAWLE+Ok8MYdr87uABdRciPxtm7vWIA1j36Y2pv/1dT168x0cupw599Tgwv4bB5EmJmLnQB+DEAAAAcAZ/5dEJ/AAAFHPd3Ayr4BG0ke5CF89FMjTlB3QAAADABn/tqQn8AACK/HFkKGnFaJFweOrD+LiegK3UD1gAPJSGrlLU9isXKKr+Y7riS2YEAAABRQZvgSahBbJlMCG///oywAABGAveINuAomco0OtMGWjCHWwgEfabCKmuwpHwUHAa24g9SCXe5fgK8q3zn6p71CeBqLbW0Me6cR2rUFQS81qI3AAAAOEGeHkUVLCv/AAAWvEPNtxXOWhRRDpwTkr7+bv8PZXBcoAG1GzLJxF/aJlqzrpQ4IoKUMFJvCE2AAAAAJgGePXRCfwAAAwBFkDADEAFw/AmWkGy1PAfWwKwvxioKO+3/W07dAAAAJAGeP2pCfwAAI7HMCW/d2SABcMIcYDCr3rayuYEziQUSEwO90AAAAF5BmiRJqEFsmUwIb//+jLAAAEQxL/LwATv1a0y1cNaI+r1t0Vd4Qe5GfHeQfH/n5qCtvXhFwrvOvxLjWnznVsDhXbgUrCUiPMzw/nSVIKPrVzfx8DtO4WfY0wPK//rFAAAAHEGeQkUVLCv/AAAWJVsClklb7E2r2QkjxlpqIckAAAAeAZ5hdEJ/AAAirDoqH+pP3Jr13FOlGr1sam4Q2U5IAAAADgGeY2pCfwAAAwAAAwGpAAAAckGaaEmoQWyZTAhv//6MsAAARgMXmEEuT1gGMg/+Ftz0PYH3jSTGk4QZsJs8W7bYkbJup7wu84OmJXtTXiTeKF+ADt8kDxx4SoSGLmJh3v+DjI+EWgSV16A+FPcw1bZCfqPr2Z1PALB7V/+zZN+u53Y0gQAAACRBnoZFFSwr/wAAFruUVLHjoEbcivbMKm5ROxcS5U3b2abZfLgAAAAuAZ6ldEJ/AAAjq9g7LDCls1JCABwM/N4XsVOscHbKwYMFy2KfIibIF18CBZR9swAAABUBnqdqQn8AACO/BCvAcovZWWKl8ZQAAABdQZqsSahBbJlMCG///oywAABGfiXv7/vEqQb/Lu0YCRz83V1RR+xu8CSBqr7OLD1PEAcJcW46tTclAjUDjo5JGJ+xFSk7wRwXoHwkHLtZaQ9BM0o6P/QaBgQvw8+RAAAAMUGeykUVLCv/AAAWvEPNHLILtguABaHkcY0qHEnx5otoLWmj2AQB2zKxB7+850BdsfEAAAA1AZ7pdEJ/AAAjyGGmOfQAOJTe7NNlik8N2soTFEvDoKHoy9qEFnwg+MPnn7CvdVxjYALQGUEAAAAWAZ7rakJ/AAAjscwJb6l4BJcyvcCM+QAAAH5BmvBJqEFsmUwIb//+jLAAAEQI1nADpHrhMtITTPwYKxBA3BidcnzI+QB/I8vUQqWE1UJmILocJHF6CK7oXZDqz/wHHScBNZj6EdX9Zhk6POk3TsR0q3+1bhlq2zxuYtSZ7IjGj63uVy8srqKM34SKNg4jRD0tJHofRVBLZYMAAAAqQZ8ORRUsK/8AABYlWQxhENz6bABOsIEUJUr+KVuce/yedDf5TIP6Yn58AAAAHgGfLXRCfwAAIsNAEK9ju9wyxNM+QnY3lIGoRBU58QAAAB4Bny9qQn8AAA00m47PU56zmAEr0If3HnRWmsoDAQ8AAACCQZs0SahBbJlMCG///oywAABEAvf6PApdoYYMOkAFQueEQWaauEYET8n4kNwH4VBrTW/Cpvbt1jpSaAhQ9nfp8jmNuCTXp6HZo41SMhQYeA6sfpSzY4SwHTcS6Qlnj+cboTkgmG2K2+7DtvK7FK8K5KFCIOtZS7x8rIeTpa9wsJkO4AAAADFBn1JFFSwr/wAAFi54JCGe0Drbc0KSfABMzOvowzvH2td5oNwsozMd90NbdeQOHU+BAAAAHgGfcXRCfwAAIqw5BlrdM90jFlWRwSno7y/kd7YmwQAAACQBn3NqQn8AACK/HFWY9TLX8kkUkEAFtZNTEkZiHBZW5MFFJwcAAACIQZt4SahBbJlMCG///oywAABEEP4AQ+JsUpxPQArZArRAkzIhyudmCA0GsRP78oZwGIZ2cQeHENu3OW96qI7OOA5zkChLGtxwfw+mJd/Rbbq2YVwGlWDWCeYrClk5m9+YZlVb/kN2u4yZhat0k695ATMV0LLz3haDUDV5l5Ucm5lWYgPkEiOcEAAAACFBn5ZFFSwr/wAAFiVYVYrLv/3fDcnEF30ormzDrvuQwWAAAAAvAZ+1dEJ/AAAiwz4N9gfAAtGfNmd5C54/yKp0vjwd2MKOYr3Q1oTREF4XCAIRoIEAAAAYAZ+3akJ/AAADAAo+ep0CbOlWhoD0wsorAAAAYkGbvEmoQWyZTAhv//6MsAAARCXxgTaPWk0LggFWC0aC8PbN7UhEI/ERWNXACIOiqGpGay10DNuqeSQzv18lD9muGo8qnYoSZ99eotx86gXb+A0z+g93HDqvAWeBpcm5IP+VAAAAP0Gf2kUVLCv/AAAWJqIgAjFidahRd8+BCQWO3ho/FEQvdSA1NL5mufg50LsQxmjIqRhqCnYearUgJzD83w4b0QAAACsBn/l0Qn8AACLDPg51uIJr0ThsAF0AKf0bX4ul3DTB/gHITMcaaYvf6044AAAAJQGf+2pCfwAAIr8fQQvcBX0na58mn41iv1RKRS1TfW5Bc5t4OC0AAAByQZvgSahBbJlMCG///oywAABEFHVbcARIaUJagAH+CN4TKxp/dhSwaSGYqQ4vAa/37wk/+EH0viHymQQGXxmbTqyTwrP1CakjCJu7kN9YQnmv/pDNk4DTHa5Fey31/p/6uDz1SiAq35B2BCLAwkIALcMhAAAAKkGeHkUVLCv/AAAWLngneMO+CF6pMD6WZCQouMumrXjXSee7KynPrc2PgAAAABgBnj10Qn8AACLDRn4bFVNSjAYMfSZmHv8AAAAjAZ4/akJ/AAAiP6e/jzZVxRd4AAZ5xoA4K/jrGzy5FVw2x8AAAAA0QZokSahBbJlMCG///oywAABEXrfhJG0kATSgI/qyEmsOT3J8NEyrc9XxRAjCfadF64swMQAAADJBnkJFFSwr/wAAFiVYd+IjLXDfW8tTD0gFHV2nRauHa7u5e74+4ha6stwtNHxWpycoeQAAACwBnmF0Qn8AACKSo6A/HUHABaiYJgVFy0YfwDufaB54PCNvOjd0cUlYwu/itgAAACYBnmNqQn8AAAMAumapcyPK9ZZooAJ1OHGgenQFIfyEcflXvUp/egAAAF1BmmhJqEFsmUwIb//+jLAAAEQUXZU4AiFo9+cbacpM4fu0Bf//Bde+tmjNF8vNBKUAOzPEeDStXQP308JaKzWFsc4o1BCt58o7MHJ9Amc06IUKFEgRe6dLY3bPIJkAAAAjQZ6GRRUsK/8AABYjLJKLHbHiElGR2JZsXbAt7vyQMTMzmJ8AAAASAZ6ldEJ/AAAiw0AS4b9+tg3HAAAAIQGep2pCfwAAIscyvDiJIAnb9vFuY6AN7YDPy5e+d4+regAAADxBmqxJqEFsmUwIb//+jLAAAEQUXUUtXTvzOdFfIxqqF9ux8AEIxsqeq7m55dqGp7c90cqNsvieKJKEwMEAAAAXQZ7KRRUsK/8AABYjK6OXmpbrbhpu248AAAASAZ7pdEJ/AAAiw0AS4b9+tg3HAAAAEgGe62pCfwAAIr8EK9b6adA/wQAAAHhBmvBJqEFsmUwIb//+jLAAAEQUdNrhrJVTgAgacVzT6TkMkDbDQIkGUvlOMlpLgV3QLQKlK9qx34Si/IIR0AD0px4y4dEyC9L0CAdNjSnRe/eegsEuNptuUOsnXzLRHMBzat6cJ8KAQlAKzdexYKOuRtX4nRgJKSgAAAAmQZ8ORRUsK/8AABYsThhLqImIjOOZiqLmAmqtrU9YBVtovytz8oAAAAAtAZ8tdEJ/AAANLgDTYQbbxAAuOn/3sf294YOFQx7/gbxc8b3ukkiY1xW93u9BAAAAFAGfL2pCfwAAIr8cCZCvyTz1y4tWAAAASkGbNEmoQWyZTAhv//6MsAAARBD9kFBAiMANf/3WHEJ6xi+pfgTe+jcefiWEhoobGYUkEYzdy02EqiW5uh89Gl3Z30xdbBFmmR8PAAAANUGfUkUVLCv/AAAWLEPNtxXMrwFKUpAF+GG4Hb+ElPmUPYG0n+pYhZ8ix9VXMN/omc8zQq3pAAAAMwGfcXRCfwAAIp9IkkwA3WHhpxyUvAyGTDUaZaHwaAWJnqDX5QKhSf0aHJ9Dy4aGWijFgQAAAB8Bn3NqQn8AACK9lgKK34AW6hyzrD3qvQ6emiHbA2MrAAAAaEGbeEmoQWyZTAhv//6MsAAARAKqO/vC8q7oz4DQYlikfpIb9+LV20w4r3aL8lUjcUW/ehOh25k1/b+M0wmy5z8IfUCdSe5Qd7XMu2ppKAmIP5PpjsRe13ytUDZSq/9NEy+HCX75/X1wAAAAJEGflkUVLCv/AAAWHVRjzufUemez59kqqxBe3LlEel16di4a7gAAACkBn7V0Qn8AAAMAuguJF1WNmQvjAAJxep+lgWIhF2oqezzK2nbFAu1TywAAABkBn7dqQn8AACK/BCcSyWmauXqKI69MSNeAAAAAkkGbvEmoQWyZTAhv//6MsAAARBEF6T+ADpG0oTeb2gFb+u0GrYXNfkxVrul6D3er0k9bnDBKHiwAF7gu2GSmveqTwmUj/B7HbySBTa4SVFJMOpzvtwb14cg7FOKtiDtPXr7CULonoitL9iDsOsx9Z3YT0bFXWmyW2g1VaHFGFOfO6Z/5oEVeeDn7DgAbHtQ2LZvMAAAAJUGf2kUVLCv/AAAWJStDoKe4kzOUf+0zpLgz8Wblwg7OypuMn3sAAAAwAZ/5dEJ/AAAin1CZuHypp3pfG8zuuemea0yggAhrPvTleLUPJidNZBz02PZrASDgAAAAIgGf+2pCfwAAIse9jB++bdYID75cGvWiHEAJSIaPEk8VFB0AAABMQZvgSahBbJlMCG///oywAABEFHVEAAnSOQTZTkHGUm/cjQfn7dALhn4iOmTMbU6ZGpzjyF3MYAcz6UgEN/vG0Gr30qrjsjR8OKm9MQAAADJBnh5FFSwr/wAAFh42Vp26VuwN5BAguAEtUANS+XN8ttIeajrQGCBsN1UEVZpe4uvegAAAACQBnj10Qn8AACLDF2ippVPVFinEjWoWYRkyLfYW2tMVXzWgRcEAAAApAZ4/akJ/AAADALplylzPshQAF0AKQRccK8gipCw3xpFX7zRrklpLxYAAAABjQZokSahBbJlMCG///oywAABEFF2VOATX1KEusZiOBvdMX1Ck+3kLAukC7UkN/p9U7Wyb7hYWTNFTMUDziIo2Bljcz1xKrgd34Wz87n1Di0FhzGxzw53PITkzmdMxuesBsWndAAAAJUGeQkUVLCv/AAAWLEPNtxXMrJmQnfiQIG/noS7KeQX5wvGBxLkAAAAQAZ5hdEJ/AAADALoLfsCrgAAAACwBnmNqQn8AACK9zfbea3+YaXgBbdXxmsyYFpUAjGQBVgrQrQ5QFJOTievegAAAAFtBmmhJqEFsmUwIb//+jLAAAEQHuQAhHqTY+QJmxbvEivW8DAkjFvwvfIxJchrP6X13Gm3NGEHA32g5QLCf2wBA3/N+fyrdti0pxLi4x7XDSc4HYewvUktJG8ahAAAAKEGehkUVLCv/AAAVlVweGbjfKYd010BpzPZRiw4wyayYQEhBJC6Qz4AAAAAXAZ6ldEJ/AAAiyGGt+zD/etQjzz+P0IEAAAAnAZ6nakJ/AAAiyOC6czuhq5TDv4Wa6HLOsX9jA11kOm617Y9P8tGLAAAAOUGarEmoQWyZTAhv//6MsAAARBR4LedM1SiFPTtWH0M5QBrhTmOv4g9F+q5yKOZzExQ2KLzgEecm4QAAAB1BnspFFSwr/wAAFi54GUSCbJd2Ejs5nfAAa6hizwAAABYBnul0Qn8AACKr7/jLAdL1doglxFMvAAAAFgGe62pCfwAAIr8EK9b6al7J9NjvpQUAAABWQZrwSahBbJlMCG///oywAABEAvbyehNCDklcgDhFzyvYMODdNzRCq/Qhx7wEH7I3TTw/YbGLWIvykM+Bnm0jCAMxcmCwaf5C4H4HWi9oKTnyd158EOIAAAAuQZ8ORRUsK/8AABYlKzdrWl647nGqAcTHScZaHgAc4C4A8+FF7Vde6n2lZt8N6AAAACgBny10Qn8AACKsOP70kT0vqgAtRLw8+sFtm2n7X71Zmyu3ZXbCZBdxAAAAGgGfL2pCfwAAAwC6ZqR5BOEbUx46/c8huBhYAAAAdkGbNEmoQWyZTAhv//6MsAAARBRe+YvD4/QALBK1PjT/mqqO5tVTJz6YyRcfjQ41wRPhTF9T3REPgWpcbOMFrFLwSVcaebr/P1SFc9wJdASUqrckZlaffRM2h+n8TLk/Ai/YNvturoT26QnQ/cN9WuRWPMfDcMAAAAAyQZ9SRRUsK/8AABYt4FZ8aCyqjBBywACZYo9935bEDQCvGpYZvbJiaDC/uOxWjzkLWgkAAAAdAZ9xdEJ/AAAiwxd1/OiQGvrY1RzGRemvJjtKg4EAAAAcAZ9zakJ/AAAiucGlKLxJChLq1EjBK5TlsB6P8QAAAFNBm3hJqEFsmUwIb//+jLAAAEQUXUxqWIOoA/QdcLmdIKUG7t5qajCNpDLKNcD7EbROXA18M2m4ZTATRc2++t9I63p3L9xypINSFy1v9YPiYjBjlQAAADhBn5ZFFSwr/wAAFixDzbcVzKyZST4IIwKD3oAS04AkmkHEObNx9jfh2Xl+9HfZzrrDdLUJvY7NgAAAACwBn7V0Qn8AACG3+F8wA3MwNczktr9PS2PVRCGoFZRfU2Ib0UX5wopGHzcKgQAAACYBn7dqQn8AACK/BCcSyT+/hzJMZLsApSq5uz6stWwE8ZfRjfTTUgAAAGdBm7xJqEFsmUwIb//+jLAAAEQQxW33G6XvOi9iryZ/z4ARB40hmjs2k9oBoHT+bbDwoIrA1CtEfV6zgpyUOEgR9KoKbwXRt7Bg+3p8r1rgTj7iilH2Dng+eDAqlNtKG1AO6RInJU3wAAAAIkGf2kUVLCv/AAAWLEPNtxV0Q5OkH5WySjeBMZga5R8j3SUAAAAmAZ/5dEJ/AAADAENX8L9KqAC1ByAHMhG73Z6XdmvDsXwcbOMVQz4AAAAXAZ/7akJ/AAAisYWfvf7oaAlyEPuQCPkAAABJQZvgSahBbJlMCG///oywAAAZQF1bmsBL40R5njahqnfyRnfRsAj3zkgVXgQYi7QEFtmGKjVZ/yCU/W+k6vcbKBTwyoNbihqylQAAAB1Bnh5FFSwr/wAAAwEtf1zjeaXrjtzMHN+U3TH2LAAAACUBnj10Qn8AAAMB2ofabCDbeIAIrKN5eV0eLSlKdjV9L0icga4JAAAADgGeP2pCfwAAAwAAAwGpAAAAjkGaJEmoQWyZTAhv//6MsAAARHpuidUH5jh+0gXEpiDmUW+H7Iy5tGxs7fPiBLoSh2iP5VfCp04LMX0mUMIxZjFeCE1HNrq44B/QSp0m7AndwRMW+ghrkH3pM2KcWSCHo7gGNPRc0RkYZ7SeV3ejm3cQ4nk5RXYRyaSt9KdmQMK1N1S7imJgebxQ9lX2iLkAAAA/QZ5CRRUsK/8AABYrleZELeK5ZZkuisU5UoXSDURV1IFGXnx8vBAJL6c+va8bjnl/f+dHKEYe2yg6f2sBeO9BAAAANwGeYXRCfwAAIqwVDgvguDNGQU/cNV5E+7CIIs8aCV5FnWQRavFs/PEAAAMBhAhmu+RD6Tq8dMAAAAAWAZ5jakJ/AAAhxzK/tVMQRyINkku12gAAAI1BmmhJqEFsmUwIb//+jLAAAER6bkengAyrpqgDjvoEF6by0c9jBhRnhLQ8awKV9g/V8QRrb7dGSjWIkjOZx2eVVas6ce497sOspM4FsSc8ek88FURdwdRya01g0wH97gsLuGJyJvAKABMrIBkqGPWl7Gv8C95eoIaC4U+19RMKCbAz56HWXyjBAHKg4MEAAAAjQZ6GRRUsK/8AABYlDqDtucas6PHYEepsDIzwOCjuOYm9HHAAAAA7AZ6ldEJ/AAAiq+Fuft6SADdOAaiN1/j5G+YqiEwr+6NO7vE966ei/emME96k6hALkkZjRCkSr0ZmnUkAAAAeAZ6nakJ/AAAhmft0DnIhUSfHEZP+YADYqn3pPS3TAAAAjEGarEmoQWyZTAhv//6MsAAAQiXxgTdVYAdF6tO7hCqnzMWSvSUqnEC2xwTtoF/jurB78n1kCPn9K/KBp/dA7YNQmWoB7kGTy5nGBpaz9/F1Tmt6eJQ0Bv/x8rth2e14F6PyIMoUs10tg6plh5vWRV6e6jKGZWSvrj/WkAm7L/gpTXbuNXPPWNdd1AuRAAAAMEGeykUVLCv/AAAVoJ9G1bACWHoj8/WlwfNEEGq89UAAqmEGnLMM83L7zsI1epCBxwAAACABnul0Qn8AAAzl3S920T2HBD68gA8GKKbLL5VoXDd02wAAABoBnutqQn8AACG9ln/iqW1F2AWcpThATvpSQQAAAExBmvBJqEFsmUwIb//+jLAAAEIC9/pktVF998hRRiMFjUU7m5d2KgBnMNI/bYq8ih3Kf8eTlAuPBoBPt6N4Eu5GeI3mfCQaqOJ0hcGAAAAANkGfDkUVLCv/AAAVjTs1Iv2VXHeAATI9D5x6lbFt7YCHb+JKb4yKU4rV7lOX9oADwK/vNGm/UgAAABkBny10Qn8AACGsNt+0Px738/OSP+eDTPmBAAAAKQGfL2pCfwAAAwHPyVNm8tc5cDABI4dTMzI8tOGyqx6zEg6oBrNUKnVAAAAASkGbNEmoQWyZTAhv//6MsAAAQhRdWHdbJ7mT1EsP2RMSHnRwJy1ce9YAZx6SWcPaX2A6FTT3T9avkF2T1XsINkaH4pX+MZeIcHugAAAALEGfUkUVLCv/AAAVlVklpAACXa8r0H+AJf3hQpe+mUeaCtJ9/gvMUFg5dx+PAAAAFgGfcXRCfwAAIcNHHAIXLDOXTqTD7FEAAAAdAZ9zakJ/AAANL7aWMNXpixreyQPQLgAfjFTmIjEAAACFQZt4SahBbJlMCG///oywAABCJfGqCbcAco0OmtD2CvXsJewid9ejH/+q4PvwG7wvwidDOowXXephVh5gcd+r8bvsrbB5Sf/DXX/QT+uEyjpuc49F8+O8+lvCvqNYvHYCl90uZ4Hr6V04gB9pGJtZi1a/ShAWutRWgebbE4/2hP1R7JsXbgAAACFBn5ZFFSwr/wAAFZxDzbcVzKyZST4HQorLh5/5FO+ftuAAAAAOAZ+1dEJ/AAADAAADAakAAAAsAZ+3akJ/AAAheTl2K5ZrxKUchINUAJU978KTL/j8Vp7r4tbGA4CQuFAiz4AAAAB4QZu8SahBbJlMCG///oywAABCODffGubAJpRcdfNU22STwTDLyTNJEVk1pLIkQIRNYogHx+qiLefLxw4bkX4jxTfLzOp2LFv9WAzXGP+G8R+e5BVx+lWpIopOw5lh1krcRuyJI1eLhBA+0/1ULB214wEBfVrJ2La4AAAAJEGf2kUVLCv/AAAVnEPNtxXMrJlJPiTx50+CBTL2MIjqCWNxwQAAACEBn/l0Qn8AACGf+U8mAG5mBnqeq7HlDeULYEtnfvP4FRcAAAAzAZ/7akJ/AAAhO5ayjEAHE3yMdtCxRiOIUbmHJbAKSfe1OhxOulDHFhhQ9sbYKgpbTWuBAAAAR0Gb4EmoQWyZTAhv//6MsAAAQiXfOQ+HolbuF913T+cVZMnOsu+gE19HBO7UDp9Le0KTV+fiu8SvXJtA4jyD3cnvYfKE+mpJAAAAJ0GeHkUVLCv/AAAVnEPNseEOSBBxyU5MxzeV3/Rw9EEXgBhKkYvJRgAAACwBnj10Qn8AACGf+Q4jgAWuO/KUgGgqrm0+QJh7sQY1H9T8X1txvQXfmsWicQAAAEABnj9qQn8AACGaaRMxABxQUpjo17rUgWbArAtDV3OSSNLkD+UrYiTOOrCXjEpgRRFygQY/6ckCbIUIUTXvlfuOAAAAP0GaJEmoQWyZTAhv//6MsAAAQiVvAn1D6s2WV9RYx22xO2vu1dRnB+I4qoQAjrytvQ5E3/MgHfFUw3jJuJcfgQAAACdBnkJFFSwr/wAAFZxDzbbZeIlIMcVhA5njhLls7I0rK9+aZRs/l5MAAAAnAZ5hdEJ/AAAhoAkTMQAcUFKY6Nm61ZUUunmzjISVdMSFHD2j0zi4AAAALwGeY2pCfwAAITf7VRABxsQtt4wx2BTp7INbOXp3UxgAvNdJ6aRDHidXdvhwkrkgAAAATEGaaEmoQWyZTAhv//6MsAAAQhDBdYzb4MCrAsrjhVOJOQXgAeAIqPkdOGVhOfRUmTljbx1tMydk+EoO9TtudH25O7UwXSPCiCS9jNkAAAAjQZ6GRRUsK/8AABUMULb01GRLsBkCN7xoq9fqSwzMJXLeFDwAAAAsAZ6ldEJ/AAAh1SEAHG7FalfJvQLGRTMqVw79YI0hUDWTp4ZNNJeiGGsbW48AAAAlAZ6nakJ/AAAhx7+L5pfABLJDCd+M6ePOMFW6pPeIbujwxKWWSAAAAGFBmqxJqEFsmUwIb//+jLAAAEIQxXyBgCgD1KwTwixt3qe2EyG9DoeDT9gW4tWsodR45zesV4isQbD6L48XLcsog09Pb8V7CO2Nv6Tm5xLtF6NaiKjM8Ze2zOg7sbt5dr1PAAAAJUGeykUVLCv/AAAVk+XeAFt3EsgFPOVWp3gmVQtoRLJAMdb1WXcAAAASAZ7pdEJ/AAAhwxd1UVDRJMKnAAAAFwGe62pCfwAAIbHMCW+pcorQ+UkvgFfBAAAAS0Ga8EmoQWyZTAhv//6MsAAAQfLuKh81q6q30YD8knfkJkxnbchqx7MUD55qmqWAoUXE5G1haISGpUeHizJoyZzr/0bNBnP5X1sEgAAAACpBnw5FFSwr/wAAFZMsA6MwvPQi3+JfuT3056B0AqB4Q2c7cWumV8KPRGAAAAAqAZ8tdEJ/AAAhrDxs9MbqjBgAC5z2KT35rtLOQIE3EI3VRaZsRWQfVDipAAAAIQGfL2pCfwAAIccylWj0GXG/xABdRMqYdQJoHBp8acxHwAAAAEBBmzRJqEFsmUwIb//+jLAAAEIUXUKiggEzEAPPCxGg4OYYY3MAjRJXC9pahC/Ucz1pRMcDiveWLpaR5m6FvQzbAAAAK0GfUkUVLCv/AAAVkywDozC89BXAsF9zol9gBVntcjHrfz+C4EJwY7kf2YEAAAAoAZ9xdEJ/AAADAc+KHmST2fLY0ALYs1ntqv6gxJHC4DvIDvzs1IkioQAAACYBn3NqQn8AACGyKu6o3NeTxYIXgAFyJ7vGcNRpwv74HcUV1SRQQQAAAF1Bm3hJqEFsmUwIb//+jLAAAEIC9u5FA84EA5pt+aueJsOio7Pyc/cZZ1N9Y2sEcW+jaL5ZGGc47SK9nqnULUdY4m7SKfGU9tP/oHVvtBVtkhuWxOxkrNDuVIaPsoAAAAAsQZ+WRRUsK/8AABWVPtZYhg83AAfzqc4fuSyyihJ0lQqO1ghuPbv+UV7g/JgAAAAkAZ+1dEJ/AAAhwxdlsKno9mrHXbaOttKyYp4tkzcW99uRO3HBAAAAGgGft2pCfwAADN+2jDco/A30su767EPcEhbQAAAAbEGbvEmoQWyZTAhv//6MsAAAQgL2m8++yA6K4FUppY+r1mQ54qgKp8omkKOfjKFFX6CmPd8B7curZFl051y36MAe5I1Sp3BIbfLyIrn5ytjdfXSlqpPFt8T/ULVmszVNwGpvSws5PSZ8N0p/gAAAAChBn9pFFSwr/wAAFZUtzVAFakT7UFWafmthx78kOJQKI/Y7QrCC1TclAAAAHAGf+XRCfwAAIav4X1VyAoEc3dygFK4dYnY75MAAAAAlAZ/7akJ/AAAgvxxYr4WLNQAca3OsATZWpVJENdzf6kHrJV/5qQAAAHVBm+BJqEFsmUwIb//+jLAAAEJ7Hi083CTBwotbCOOFyA+GqTN67kB8pcGSbbbJuPbbGIv5BzzBJXn37zKQrcvmVK0PdKfGUJhM4p4QgOaM71SlVU9R2wu+TWo+Ydda/2cW3rHUQrOt0A/b7g7txQ0AsPFAncEAAAAvQZ4eRRUsK/8AABWTK/vzX6ZpXifplocw+PvzHxqCnGd5gswWQBBXPnmLFEXAbkgAAAAnAZ49dEJ/AAAhq9g7LDBsWDKzRiXj2TZGUG+HACTVnNECm0qOIF3JAAAAJwGeP2pCfwAAIb8EJxLQYVGMeWZwAcFUSCGLOHRohiSBPxkKR9YqYAAAAF9BmiNJqEFsmUwIb//+jLAAAEJ6bz329YPZaIAAK3hvf9f11EyUjC+kC33m6Kygefz2F2qGvGkNoL/sFD5H025LRSzc+//WjMqynYZDxN/wJ+KSXyjTXzY5m7cnCx+agQAAADVBnkFFFSwr/wAAFZxDz1/ZjxLoSyiADpBdElFfQ+W492Xmp9ddRjiI7yE0LGfsctQh+SuHwQAAAC0BnmJqQn8AACC/H4TVFh424mDT/fHAu2AJoJjVIJwU9BXpGnOxZPW5acs0tvwAAACCQZpnSahBbJlMCG///oywAABAEMF/LGsL4nLU9bveVWZqjsNjvATW3V44H0158A/BWB/NoT7GBHUxiP8Ae6vfkMrCdWwhgN+7EF/nlc0xqkHe9HkHHS+XG4tuxr0DA1bIGNnnpW/3w6pDA5HcLJKgcNCex6nBKGmNkk0NbtdbLccjQAAAAEFBnoVFFSwr/wAAFQVWd0yAAEvIqiv7PHcudFU5jv3qxHNMqdlMpjBK1YaH4DWPr062UTrpoGap6Bi7fT8yqtNxwQAAACMBnqR0Qn8AACDDPggQWnmdrrK0z4cBWzMkYw+iRW71V9/pwAAAAB0BnqZqQn8AAAyPtohBLj1CiBLPbCbCPc5oenBlwQAAARVBmqpJqEFsmUwIb//+jLAAAEZibd6dnAANMP1FutplH6lNqtKip49Yg9YkGZfiK9sPSwKAg9OWXASHMaIJkdAuyoArl+l6l39LjOaRpp4TCZfG1DyDvCPhSEl3kOtHOK/OS2ARsj6LSccrWGP8OVPTvkY+8H+xeKhHWVMu7aWvt1T1LPqWomj0Lmwa5P10cyJCTCL1duPVqg/WdbKAwwh1Nw0b/dnFLdIHx315TgW0jkABgwLfRWJiE7sf0Bkjb3ZN5oYQ7nafuru9dH7D+ShhzWGhrxI36jdoGW6HEIh2tUkuD7VK/ygtec7kiblpxSnUegCb/TQMPkUSRzoFjzchtws2m15FeFtFjrGqFaRV/QyTO4QgAAAAO0GeyEUVLCv/AAAWvEPjgd8B9XLAGgBNJrn4jG3MooD6vEWXPeJTucjuBA4iCMNc7uAU/RwatjOvix4RAAAAMwGe6WpCfwAAI7HNR2+SVqKyS0WtuL4jbe6WRmEh0Oh937bCMyJaCDCgVLh8282CByLurQAAAHFBmu5JqEFsmUwIb//+jLAAABqJNZaZ6lUKGmm8ZwTRSzYcptPuUTJAQ7gSP7qFYbT8YQg5VgzWodlDX5HXed0nxgpWBfXVSh74haD11bD+OTmIlRT+XMQabgoZYpfL10q/ZVKMVAs3inVEjhlvSAex4QAAADxBnwxFFSwr/wAACGXIcZl2vmWaUSlEX8LTgxSDKk/Mzb/UCgZHSy6yIoZrOv67RDmZbajBEdSiNW/t4MEAAAAkAZ8rdEJ/AAANh7TyLliLMnkW8IuERpSQf6pBDm6od9HAkKjAAAAAIgGfLWpCfwAADYWCeqNZHYRdtqSMyCn5XX1EPhq4xaaKCDgAAAB7QZsySahBbJlMCG///oywAABF/5XMATavpo97LpGquthifI8ANvNB6J7lBSfReX5qrPn3lCvwfZcCdl0w4yqLipDwjTTAbzHvJgBsv5L82wBIgXzWdwclDW7ah+R9jVrZwEknUJJn3mtPoB0qyi7TtTU4mtHrECREkZbhAAAATUGfUEUVLCv/AAAIbYBcCoG2Do+rgnd5VpC55jrNvAlvbQBs9hxF133CbRcmkAYESgP2cHjdv26TaeZqyX9TuEQEDKbA6Pnlms5v6y8GAAAALQGfb3RCfwAAI7jBprAmPqzB+gOujFfquTuF8LIiTozzad/7DZSsr5Y+wN28gAAAACMBn3FqQn8AAA2HjcNFz4qCmelZm1whf77kcFoNG+C2QlgtwQAAAG9Bm3ZJqEFsmUwIb//+jLAAAEYSx84BK5WpW3s/Q3QW+rDcHUQ1ogjuSntg2v6T+TsB+tsasRLkcBCcRMUxCJQ49ta2wn634VWzh2OCopnEzjiM6Ugb0zQnbKHmTP7I7lmbcdA5jy9KKvnWOa4h3dcAAAA+QZ+URRUsK/8AABa8TX8TchqICsH6dTNOEhrkwxpWYwXgW5zkMumGHG1erV7NqrtLoejAhbHK5DFmuLHm2YEAAAAgAZ+zdEJ/AAANf0gbTXpAJU6y0T/epIRnn0W4wQzYC2gAAAAkAZ+1akJ/AAAjvx0s6TTWiJNcMAPAUpi9MUHsmbzNojtfjtNwAAAAZUGbukmoQWyZTAhv//6MsAAARgL3M1jVm8saA21n9S1jk9NbTXwyIt7TRzX21tq2+32xNr7wnkjGCHwczOLf+KVzdUcUyX9LXTELvPd/GFCZDgA7//9NudrCxpGuiyZP9l5NbqutAAAAOEGf2EUVLCv/AAAWtSsyzekT8pGsE+nGRXdlFrS+IT+hJ6L8UiteUoIowmcNO0/91+C1d72UkooIAAAAJAGf93RCfwAAI9UhACMOYsmr+a5NRxCnSLkBzv/zUZGx4EUwYAAAACsBn/lqQn8AAA2CRbhbBUeKxWL2HMP7qDU7641uky44ACYncfRT4Sg6E0UFAAAAZUGb/kmoQWyZTAhv//6MsAAARgI0cgAjyKb0don0PFtf4VmRjjuCxHfjnB9PyE3i/Y1/8RSqGT3sNB4qfyC34Ci37BkjSx+6gQWHY7OoX6edyD+wJkUJvoF8gXyzRPHLgngQsJJoAAAAREGeHEUVLCv/AAAWu5NqxP7+RA+UYlDcEohhzUlbegmvJjh7mQZdRUJwmEb95o3IbQCskier301/1OH35AW+A/Mv18GBAAAAKQGeO3RCfwAAI75SUd5DyJ0BnyReA48qGoIBBkOtAbO93YHCn8peGxARAAAAHwGePWpCfwAAI78EJdpw/YGvlzuTCnB/lu4L0onvq2AAAAB4QZoiSahBbJlMCG///oywAABGFF1LnkVS8iGzAK/KhPQbdhAL8DoLZ0lP4WfXARkNzVez++mKEtDFg04BAtP4+rxmgQ9BGQ4r35wwbROJ70UrzxwxLR2f3F50Q6OHwGJfF8fx8kJPsrUQhFAs3uU1pw5rqFCM/D4RAAAAQ0GeQEUVLCv/AAAWtUNVqhaIFKmiPCAsL8kmC488SHvYGfvl7+azvyMR0J/Jks09dp8F2MYTqO1oRC0y2gZJqXnQzwYAAAA6AZ5/dEJ/AAAjq/hcKZmJ9mor4U+/eZPyFiMOQjRZabzDM3bXXRvPLGACV9C+7obp6L6dVnG4cNOpeQAAAD4BnmFqQn8AACKyPK9UVsJIr5woKqvEQoALHMXohduEpgjka+JN/u7oykAOtUtR7VYSOub+Mef1uE78ucfgwQAAAGZBmmZJqEFsmUwIb//+jLAAAEYBs2tt8SAEcGWbmTbLx9kltInlZDdD862V6LDApkA+GwgR+WF3m/UMk/Pl9x8qHEabg1PnFzVBfdCoA+p/K2CP2LsPIK3SgiCui23em3PM7xQCa2AAAAA0QZ6ERRUsK/8AABa1N6pe2lYHtrwr/GXOP5kCoui9Bn509S04LC8J5Op9E3aqvAwllEh+DAAAADgBnqN0Qn8AACOsNsNaQAKuPam8si3o3DIY1gs87vMBDwqrXLf9GuMvlM3J/gORF+V7iI09NWnbgQAAACoBnqVqQn8AACK/HTUZDgDTyiAAcFYH4HVS+zCVlYdJJwivMw3b+poNKywAAACpQZqqSahBbJlMCG///oywAABEO3j7W7s+gCt+oYtn4hfnlN53RSzKPAw+xk5511BHoxEh2pgbjq87kcbKp7rUINiuK0QJMwe4QshzyzLvcqL3qSyhCmiuysjWad6nD1lLSy/Osrya+cu32eFgsnE1yJVhW8r7qp78hpcY8Nhqq9Ep6br10ymXL4UPgijLRiKlphOtPDuNQ9B50aEFsvjRy+oSWiARExABMQAAAERBnshFFSwr/wAAFhtiF4uz39WcBZ+UinnX+SCd9MyJDt9LM2OEAVTfFuNXtDBej/cxSeBmsIlLSZw3OI/9a0iQqUx3oAAAACcBnud0Qn8AACKsOQWuOZdXga3zT+QX8CgQAl1gfsCMu42IJyTa4WEAAAAgAZ7pakJ/AAAikj3bnmhXy/AA7eslXGSAie202x7IobEAAACSQZruSahBbJlMCG///oywAABEMP8553+u88wAmJsXLRuG0KYzEKkLi0z4qI10d9gNGer5DErOcCrLPtXw3HrefWDNTNRtF61B+DxMka+OmSLqV8+7miL3h9hUFEqv5WniZtgV+o0v9d+Dk6fk0O85baRn5L3pLpcmr3i8TInuIGWwAyzsZyQ8uI+tjW7BsJcUMeEAAAA4QZ8MRRUsK/8AABYUwLmSwJzOuTfp/AqEch8KAB+2jTrF9qWkX0yIEjTAOKA/URq6TDAcHouA9sEAAAAeAZ8rdEJ/AAAiwztjPrBOW1BC9bz6GbYlC0l4UDpgAAAAJwGfLWpCfwAAIr8aznveCbORDRfvdOaKfCTpjnEPwVz8z69cNWB5QAAAAGBBmzJJqEFsmUwIb//+jLAAAEQQwdvAE9Sbu/jjacBFxT6Ip5U0OS0vDKn0rPzD5nKWTqn7mE23UsGqEHZqCkSJnzeLqepQv/AvvE9Ny62mMilSZBy7Y1dyq+cEqiJlB+EAAAAkQZ9QRRUsK/8AABYlWFUR4+EAmhjpSFIBJmj2dM4wfsFWSfzAAAAAFAGfb3RCfwAAI7i4P5wzGZuVQ6CAAAAAKAGfcWpCfwAAI7I0uenAL4LKCQAXUSs+FMVQgRIMLYJzQzlEhAe37H0AAABUQZt2SahBbJlMCG///oywAABEAggYgDiVJcprA092vb2ep4LIPlbxP4kvExFIwQFbYYRKfzKhYL0JdHiRVXWfPGS2F86Jb9gm3z6H9aX7LkR4CxxtAAAAOUGflEUVLCv/AAAWIyuxxVsLmbmKL9iyPKEzTBOUcDEEIGZ27Zma9/QLmHdIGLQ1WjQIOWhZWNa3oQAAACYBn7N0Qn8AACKtLmAG5LqtAIEdaz8eK9q1esxF0kcSNM+XuEH+CwAAACwBn7VqQn8AACGyPK9USeBBRjjQACU11dXLr1Ml60bD8FylQhWtTJ1Ks2TpgAAAADpBm7lJqEFsmUwIT//8hAAAD3v0+I57CJrMAEsU/AnaNIg8hDMzaFo/PoJ9ewvBqjB2mI1tbfBaUtmvAAAAJEGf10UVLCf/AAAiPdAxiIbcCktpd02eV2Ay/MhFQVsq4M2DpgAAACEBn/hqQn8AACKZsJWO0fkUmsUSXWSvXFCSz/CoHEESVjYAAAG7ZYiEABD//vdOvwKbRZdqA5JXCvbKpCZZuVJrAfKmAAADAAADAAADAtr0eJM75NTxNgAAAwEHAChhUxEhIBSxvCoEqk7LH+C8aCEVDpH3DEOFTFGOjdT+F+ZK4Q4XCHNGcIGR1z8DD+q3py7VEmC0FLQmvRPndGG+redhf8oeS2Bwb3155g4TKD3HhIlTIZ9grULvzz/d+jmNssjz9tspmU4ixJXUhyy1XArwhMdCn8YtDLGF2RNI9/CgItXVXV3vRCMx4KZWHgsoMVUw/joVUzuAmV4ZrnnesNHXzg+0nxgz8vQ0wroK2Z1CN86B3axa1a8lWUv7dF3jc2Pv0CCMBHTsdE+tck+nzxG1D6PO7fVbO/gk7HjOCB71rDHuSfefUacyc/9SREhmnlHSDXhQkG/3kF8VMd1U39h1ikXr3JZJqbcIAlVV4M5ktqrQWkmZoThUDZwWmN7DbXL5yU0fdf+Qw5RzgliyxJIk3t/drXdIG1NleENpfgGf8XUSmIoV6beSQS1besbEQw+tymiT/XEJJnStrKn6McUykxFEpb24SWUaKiN4O5Y72UMNxOIAIBAAAAMAAAMAGrEAAAB3QZokbEN//oywAABECSjkAF9zljFbL5gBO0LyahwhNj+AVBraGo5K7ycUjB47I/uSPwGqvyDmK3BgPh0pqkHpFHq9anJEI0iJcvnlwUu9D7GqNbuNR0vouMVdyO55Icznmn3+9GDaeDavY0BW5QE7TvBTz2PxVSAAAAAyQZ5CeIV/AAAWLQCpJQAsO/RFahpMZ0/zrmVzlPjK5GwEd4G5/4as5OmnSUiBZrK2+ZMAAAAwAZ5hdEJ/AAAit/W0NNCUAC0Z8xtXx53L+79CZ9LjAEDqZB59BGRQmU7H1c2+64VBAAAAGgGeY2pCfwAAIr8EJxLJaZq4VlMkrk+wgB0wAAAAeEGaaEmoQWiZTAhv//6MsAAARBRKfMiOmEg4wByjGLqCOwPoa0Ksy8O8wOa/lZjwvj+S1K9zbjreCMHKJnXHILw3rQUkz4/Ji4LuWIAXwGGaen0PXKNpeL7OzomGmdTkuTD/yvRRUHhjt93yuZ538SKEt9i2+TtEtQAAADxBnoZFESwr/wAAFi5cVNoeokwtME+rCGSDQEneKYx3gAC+YRkDxO3pTxdOkGm/iJf8I/y6cXW/YQIQUYAAAAAnAZ6ldEJ/AAAiqc9nfibEMfsb5TtAT9kxy6+80viy5hZ2YQxOVBRhAAAAIgGep2pCfwAAIr8EJxLJaZq4VlMfKj0vlpmA+xG2b0AYeCcAAACTQZqsSahBbJlMCG///oywAABEEH206eJN+o66a0Zvfa4ABreFgprXlvo5bE7m6ZxaZZ3hNa+uLo9EZqZ84t9H/K93PWHmC75ZX1cNDBnz1bphBgIfdtad+3PP3nFNTcAWjlbBy7SXlxw8wnk367b0SZ1foi1ywt1JuHk0nJa7l0WO3zBAXxbw8GsdBITj6Yro8bD4AAAAKEGeykUVLCv/AAAWIywWsjkh0ZFNLJ37Y4CDMGSJfH43vHokatwwiW4AAAAYAZ7pdEJ/AAAiwxdoqaVT1RAkJIhRvUvBAAAAHwGe62pCfwAAIr71GRqkD4tbK74705UMiVC/h74dS3oAAABXQZrvSahBbJlMCG///oywAABEeN/gaf3t8AYm9/zUrWJ8G1HGZCLJGjK9iEA4Ey5WjTgFrznukTJibGcsG1ltss/sOKPdGR85j3iidTgh1jRh41i5B/3RAAAAN0GfDUUVLCv/AAAWLEPNtxXMqvkzgLpPE5eV4kfOzQHcoYGPaldo2YccVmRQ7xfduUF6anTswQsAAAAaAZ8uakJ/AAAisYWf8XrFx+nmOASwPKjJB3UAAACcQZszSahBbJlMCG///oywAABEem8932XB7DC2M+UvK7ANgupfB+sa4KVmC8rYoMysIAFhJgwRfjqPzxFWeQmCDiGiAfOK3rMT3on7GXrfytO+p2z1BYoMCl5qN9byaYX6WUhkV4QKhifi2st5Y1ZfeViNML9ZNPtjgy1iKGU5wt4VBtelBhiBUs3cNsj2S89/0U6Qx6m8otmEiKxBAAAANkGfUUUVLCv/AAAWJSbjmSbIDXBmNykw7quxTVHrFutZJdabxsAIQ5lFfr0Dz5b2iz/9HH1ijQAAADUBn3B0Qn8AACKr+Ft27FqenXPQAshPjhv9hT/jFJwsL5vFSrLIYBTxU5iqIHmA9uaAdAcKgQAAACIBn3JqQn8AACG/Gs573gm2YrFp5ukZ5MRhhuULh5ZXN+OAAAAAZEGbd0moQWyZTAhv//6MsAAAQgIF/h0tox830WkmH5Rc3qFGxcyfisxMAhcARIaTY8HOEKE/tAWswCFbKNOn2YEG7k2n591i3iJH9kL6fTHp9JU4sZLKzYJ2m+rbbmMgKm2cSJ8AAAA5QZ+VRRUsK/8AABWTLJJRgly8gPb6r9bQAoQSRAIGVM9QjYaNJIjZXQMD862hNJMrZGwJAPkJbTxxAAAAKAGftHRCfwAAIaw5BUXXVABZBTbia1znu0GjFJ8asrz8/J2A3ntoAm4AAAAsAZ+2akJ/AAAhsisFLTT0ABcie7w4dpmqa4L4A26+ltz2ir9CqF6guNz/ccAAAACfQZu7SahBbJlMCG///oywAABCJA/5LxKbADj2cLxS/8c83wML9co+h3VnEPg+eWixZtwzxi9bJG7/4IIXsT8acDwQG9Oni75rOT/+OVB8dj7tzrE5lGoI3EZpUBuvm9dF+cOXdG1hSV6mOfdocdxjlSALCekIuqWFn/6j92RWfIfcY3+TPteZf4FFpenB/agjN2l2J1cvbBruFt1cEuNRAAAALEGf2UUVLCv/AAAVm5Q2ivUkbnvTttUKR0rRbEqX7Hn9x0fIB0OgDAtj4H2zAAAAJwGf+HRCfwAAIav4V+JCngD79vVV2qlVWUb/GPsv7I5dheoLeBvRgQAAADYBn/pqQn8AACGZK92LiYAbmYGzHfGHxXHb6Y/P1Oq8Ic+fZhK0SR4yb97q+zXEq7Nod9FqeTAAAAA6QZv/SahBbJlMCG///oywAABCFErXiwplsDjmcXs6HsTrpsoNduAOYLc1svxq8npZ7LvV/5SUf95YtAAAACVBnh1FFSwr/wAAFZMrtQW5HC/l0Nexle2j+8JsKkrzz+JLDyyhAAAAJgGePHRCfwAAIaUsMN8LzeXnLAAXE5jSJgyF5EN4knSMXjdhTCXgAAAALQGePmpCfwAAIbHMCW+pagCDvHABLUb0SWSr0Zz9kIrCKUoh5pNF2otMmrHkgAAAAHNBmiNJqEFsmUwIb//+jLAAAEICFdG7gDmG0jH7cNc/+8qO6zKaM15/91GyY0Wjv/K8iIXwjxgH37DKeAjPNxpDjV7ogrmHFjvpUQHAxYb3dFmGgDzq7uO/mx3OKqbOBRvJop3kLsqNMrukto3cEAZV5iw9AAAAKEGeQUUVLCv/AAAVm5RUsXSfJzywmWZCow498k2oYxPxRthduDJmUccAAAAcAZ5gdEJ/AAAhq/hbeBKdaCOIEZ65GgPdC/MrjwAAABwBnmJqQn8AACGxzAlvqW+yFUj7/AYoyG7jfumBAAAAQ0GaZ0moQWyZTAhv//6MsAAAQhRJmkG2cVxaNg64HUP0ywKjzp6FdgByy4nQtdosoHGd6YsdwGs5bV8V/wN5OIv0HxIAAAArQZ6FRRUsK/8AABWONQMs6PhPIRoUNSCMhQcBlrgz+7SWAD8DvAj4mfUMqQAAAC0BnqR0Qn8AACG39aESvfhd8F1S/oAFt/1xF19Gr2aTQEAkqMEY0jswfF3cGzAAAAAjAZ6makJ/AAAgsjyvVEngQSquF7tndgqvjdqzy6iRj+HS20EAAAB1QZqrSahBbJlMCG///oywAABCAhXL6+Vd2QpEA1Kv0S0obUyF+V8JIB2WG3SDiJxLIKgYTvOaP6eqvA3b60+Zhkn+JMnFLWnmmgp3NaHpJZLAN57Zx1ZCFUTMDbTPjeWco5jp/SimDVsW2K/9q+WiEvdxiFCBAAAAK0GeyUUVLCv/AAAVm5Rnj13N19A0jbFzeRr1fevCCnBft6D+I/yIPoKRVmAAAAAeAZ7odEJ/AAAhq/hbeBKdaCOIEZ65GgRSnGNocaSQAAAALwGe6mpCfwAAIbHeXUWADib24Tp2G13p2hN0gTb0Q5jKVd9c8hIb6WHKLjUHNY7ZAAAAkUGa7UmoQWyZTBRMN//+jLAAAEIUScbrkI3xp8alQNtMJwBuuHIEjj7VuMBfvH/biwy1FvkAw5IBD9fFyO1KR40a+s9oGY1tU1+2lxQbq5B104Nf8vwNfXLYzJzPqTYgImVZQKQqDF6hzbXIuvDDNzahXkAPPLc25OPruKG48r2XGY/pFZfWXJoZMpcHgyUEw0gAAAApAZ8MakJ/AAAhrjI2qnYTJoh4Sy8WpD9Ra4oo+dDmwZXsv8t10D1FAK0AAAB+QZsRSeEKUmUwIb/+jLAAAEJ6b0Lr6P4QC/Cvl0LagZz7yAlCrjRsF99OhPCpEs/5XxpiGgULqUJfOagMEXQCNm6Jp7mtsJKDfeoatJiZ1ap/1lqXPPJ8QKI3B56G06nhPNfkf5vMWOovZEZEeLhzidVN5mzLUql4POtjpaCAAAAALEGfL0U0TCv/AAAVlT62dq0pqogc7DyLEwCwFF8CxYEn4WUmtpzHbmv6QQ2BAAAAIwGfTnRCfwAAIcLstIPoD6BTi8jxY1jxn+jvgP0h4iKuDIdxAAAAIQGfUGpCfwAAIL8aznveIDEsCjHMKCJYaFu6QLz0VVtOzQAAAH5Bm1VJqEFomUwIb//+jLAAAEACCJGAFgkLsXnj/7DGRpnnxSrDE497HPmP3CUt4YnJCJ3qv3jf9tvCPFvhoNFArUWIh43n5hDOzElYpcainBgpZnQ4rBXpsrl/VDtfuTY4R2VCwVmHl5SwerxuxZOZCy7j/jS4gUno1xPVpS0AAAAkQZ9zRREsK/8AABUDLIvEqoKJQh+BMvREXCiiebcyWZdsNaGwAAAAJQGfknRCfwAAIKnP+NeA0wHzpTMQhGrXr6LY48S3P3Z5xMzsOmAAAAAeAZ+UakJ/AAAgsisFKAZAAunM8tvACB96NQkxyHpBAAAAl0Gbl0moQWyZTBRMN//+jLAAAEAC9+Eu+d4T/qmO6QpQATSj9hoQcMiwxc88Cee+jleUvMqn0wpCvQHIyrVkku3lSpiAiQYonB/uC11ytsF41lm4OUCbzLHpN/7VdWTrIAqLUxtxLlrot3dq6cIglBzfkcKDOzb3LpQtjNE/2r1RIG/hezTWOn31Xjw9xLX97HGhKYadteAAAAAsAZ+2akJ/AAAgscwJb6lys8sACVC1GcLzCTgZgjXRcKhKBUvRudNKinVGumAAAAB1QZu7SeEKUmUwIb/+jLAAAEAQkhgwBP9gU1n+3pS5AJGisd0NOQe5JhnraSGWJaHbfc1jJ/lEfbLYUVhtokne0yMJ7VXnonf1d9gqGtM++MqaTZFzakzFX01cx4B2R9Wm7hCk7kUfv226VBNAisHUqLaJj1YNAAAAOEGf2UU0TCv/AAAUvkRvsKkppdIDXC6ADaZUqmbHK4sV8PoQ94nnmowncLefTtWlJhh+IMvymCzNAAAALAGf+HRCfwAAIKnOxZE7eJLxhefHXNaMQCNbDdahMAd/ltEPrOvVt91h2f3BAAAAMQGf+mpCfwAAIJ7/PkP/dhFfOewoDotwOsQCfBjpAAH9VX4CLYmcUjbT4vICLXeu/uAAAABWQZv/SahBaJlMCG///oywAABAEH2sTTAIq0gRE7cpbn8hYQRhcC2ZWKP328CBcIu9jhixLwousAKM+hEbD12ksWn2NpB01vGsK3ff9TjQutcnQd+RwXAAAAA2QZ4dRREsK/8AABUDK7UFuqp6HGR8IccAJphO+ln6xz79Q+8+kcb+o6oiqikcGXxbGeP6D0VhAAAAIAGePHRCfwAAIMMXaKmrf0QBqby+MCIt0fOymyCeLvAcAAAAKgGePmpCfwAAH8gBL44Gm4Q4ql2idzHzh/YxpZJw0UIa89oNljPT7e/vQAAAAGRBmiNJqEFsmUwIb//+jLAAAEAUSaOnfrIwFBMt2NDNlMBQ5rtfOQChcGoXBYKw2uU29GGxjH9cjlK6N96BgE4mCnfB5JL2nD7hDsPBclbnXXsYyJQIiH8vhL0leSXmoqYt+frNAAAAKUGeQUUVLCv/AAAVAyu1BbE7JSSvTqOb93YQ6w6zOy2BqgcSmm/EG+9AAAAAJwGeYHRCfwAAIKnPZ33MopfZhTZEeiyIiX+9pyR4Vh51yV+hThpb0QAAACsBnmJqQn8AACC5ziSnsi+2SZ43mpF/v8EfBig/QzLqQAPfaCmEEY48kQunAAAASkGaZUmoQWyZTBRMN//+jLAAAEAC9vL6oCBNKOCO/YJEtJdVVRyQU46c/7AOkOSRQK/GHcb3guV9pd48i7VXjsog/cRlXaZnQKaQAAAAPAGehGpCfwAAILnOSakAG5mBWRC/ieqTvB5o8xoIXAakX3jYIeUfZDQwSCBEByd89uIR8iJRlwj0k+10wQAAAJxBmolJ4QpSZTAhv/6MsAAAQBCSFfXUQhuhAHNEzgHPuswS3Ul/IQH8RqYNJu4Z/D4IyPGEZ5uf4hm+O535c+8rzL6Ab5lAgBKeGGS+9ghYOI/RC2mpO1/qCqu7S1o2eJflb2G9UrAR3n55fx1gKbyAowUyRNbJ2kTweiAM7uSs/ARyTo/6lOOio5UTQvlQJi4XrmbxNT1QuR2L0DAAAAA8QZ6nRTRMK/8AABUDje891CAA4nkBgNybvS5Tfu3xvM3LSydiCvFa4m+2R7IbyyapesZwbbzfbBqkQ66ZAAAANwGexnRCfwAAIMDRrd8BpSADckcplE5KHHf/wmYEuKDSJ5JFgnfJaybxl/vYU1zXFs1kCmjLzYEAAAApAZ7IakJ/AAAgrpLNxsPHTK9+SO5UxPk+P+6bNyv49ADQ4rE2Ew/ipVgAAAB9QZrNSahBaJlMCG///oywAABAem89w2Vg9lVrwgIAMq6aovcAUwjTETSnwabKIKApZmNYLQ21UPliPMp5djl5ToJDSsWFPvF23HsoeDZezYofy2kKpQgRGjpmyGX6elHz+TeQfko+81B7e2zkfgdLpOpPkyEuOBbi0fNS1YAAAAA6QZ7rRREsK/8AABUFPrZ020sMF34yW7XYynzUpIfA9riEQhpBft6JShi50iqxyks2tPNLiUv/MpDugQAAACEBnwp0Qn8AACCsFQ4LyFRCFTZPTFkBK+/dvAII+rswrMAAAAAnAZ8MakJ/AAAfxsDmLVTOvaGtstkRRvkZnujJOzbQ6pUMwuiimbQZAAAAikGbEUmoQWyZTAhv//6MsAAAPmsPM+VsEmdVOd+CiNHFcO3z+qpNlQRfCrB5OTXCCfeQr/RmWhZtFhITykoxm2wbQfBH15z+Qbyp8FfTGXF1+TRM624JWI7Ky/+cHlVnxJqm0F5t62rtbJXaQuxNFA62ERnXgaHQCgkjEUkmKq4SwiO/zqrne8urgAAAADtBny9FFSwr/wAAFHMsA78NUBQng/gy0XCJgAnbYX2i5nvc70tSK3UUKJkvCpEVoBZyjzmksdlQ7gbugQAAADgBn050Qn8AAB/LIlMxBz9dK8rg4kNFT9CslQOTFMAASx/PocqJ1nwZjIYIzQnWZjMRNOqSmgx1IQAAACQBn1BqQn8AAB/H6XJDi0MqdLKkQ9pscLr2PeCFPlm4ESlQ6GEAAAB/QZtVSahBbJlMCG///oywAAA+XCv24A4wXR4NRjBbdKS34+48wM7EGrvw4q3sEV2Ecjm8kjSwW40vc71ze//6FYj1z4USJsc1vSslunx7UUQgJB/ig270usHPTJF7yBCcM9eZhSV/71Nulku4jQawbT7RY+fQwIP+Z0h8zU/U+QAAAEJBn3NFFSwr/wAAFGS/h+mk2f4UmsoZWLyGomp8I0GRHC0dJABO0mT8b9oKrKxwv01kXGTMRkoLQOsfIJrbNlBaRmAAAAAyAZ+SdEJ/AAAfwYvwdEw5lfLlkswLctVZdpBGfzwkUjzMpHu4RSZjYSA4Ll/dbb7AAeAAAAAlAZ+UakJ/AAAfxsBhCKG8eu7RtEHyKw5EXd4YNLpC25R06TrrMwAAAF9Bm5lJqEFsmUwIb//+jLAAAD5nx3KACq2SIaLgEjdkx2Gfdgh/D56c/BffOMbvkrLrLrKFNOrHQW+sQmgQ5NGgiC2Qc8uLP7TZB8iZCi3HLNF7CXwCtSh/qPck3Me4QAAAAEtBn7dFFSwr/wAAFHMrtQjnpLyqAOADdUcXKlNTVabhp9npjxiMY0N7pv/5evCUwbyxaPqGSPiRFJPxpYxYAtHOhMZKjAYoYeU3z2gAAAAnAZ/WdEJ/AAAftukHuApoZK5J+Um9G4GWwBKfgXMUHCbYtncCnf0xAAAAJwGf2GpCfwAAH85bclvRadOT2FQQeL86wKhwn0Et61qMVLurHvSJSQAAAFlBm91JqEFsmUwIb//+jLAAAD5cK/bgDlQD0PBzw7CEK426GXUMyJVpEreTQAj9ehMRKhdiryw5cheh8RxUZrBe1SbfpgixFNDRHATj7OquGBlDgInrAW8onQAAADJBn/tFFSwr/wAAFHMrtQjnn4+4by252D5Nq3iqR9OJtQB/S/cKig4UE8ViuS6URFfugAAAACoBnhp0Qn8AAB+26PaiJkbkZ+4FBL5b16P7dyElG9FGglaTpN1MxtZY3dAAAAAmAZ4cakJ/AAAfx+9mJYaJp8C5ckK7z/g0L92QvDPWV1nlUfEee2EAAACEQZoBSahBbJlMCG///oywAAA+v9XIkeoZPNsGpLQWBz8ZmuPV6VUD4usFpuyK1gvyFmDKBXQexYI4sTl5/1V20mez1woOPgvx4nKfS+Xnpn+lYIxM9qlexyWW+2vPt4VAZ5Y4oNcsAVIMnEPLuf6/1UTpakpaeuV6VsoERuv5WR0UmT9sAAAANEGeP0UVLCv/AAAUcp8Tb/thogtErUuNhTxQmUK2OuxRq3CqVPXHBX+FrdGcOQWzhYya9sAAAAA6AZ5edEJ/AAAfuI4sgdqCSgA41ub60ur9L3B5uW4eddwiQAgAwyX/KMkoKxErcwLs1Hy/WKNWyrGUswAAADcBnkBqQn8AAB+5pwXiKMbgTsO2KsjKjGnCZ/gBGRfCMJH36hxx6Wbr7ALuxL73KcY/6nncHe7YAAAAokGaRUmoQWyZTAhv//6MsAAAPQsQVYp/PxAGRx7XV6Sa8880eE8LHUJHRPiN3MhYFZZSRJGH/rFvyFHErJNeuOwkkqrgsqHLgEAZQKP9XgT9Xi3Q7YWzf8xxjyKkiJ0m2Y+iwIlMh018pztbC0i6AWUDLyvcRTLD+mgACIrZR5jjZaulWc8dT/YzIDGYmJajjMhuu3pmVjU7jtq6aXzUK7jVwQAAAFRBnmNFFSwr/wAAE+KfYCayyLSUj9NzCVfwHo58TT07JmcnH4/7vZjqrDQlO91VrLeQJ2IEl6RElumdz+kagm4wiZgJJMfI55MAOxvZEe/HDClw9IEAAAA9AZ6CdEJ/AAAfCKfVB2x8AC1EqACxPXB2QX1G0u5vh2DqaDogQyfLrRApjKRdEwfT0mzhykmwJetGESCWYAAAAEEBnoRqQn8AAB8JqD//FKf7BLFQA2AC5/fH+Ke5uCcxwL78XAgOnUAeeFB860NH/uEvTxRmvypz2O8jjtK6v1MZgQAAAGZBmolJqEFsmUwIZ//+OEAAAOzhV3OXNKbNdhycNw8HCb0TsRi7FuNmJAKjaWbHVNWX1RJcjK9ePeQ93zXHSQDoNu6Qx1wWIZTL45+mDFg7bf5WAfkhOmMisEeaBUTy0Y2T2kX+O4AAAABTQZ6nRRUsK/8AABPXwPzjEAC6Px5iu+Rnsf07ZF4bRTP8TUz5LRdbWs92l1l/0+e3ndIMEz/fPKkk3mH8blaXe3VUtjVUeikFWiVLWzIKEZjEF2EAAAAuAZ7GdEJ/AAAfGMseozQYcAC4YOeTu6HuhBirfamtDzgyZ/FnRa8HnmQXDri/pQAAADwBnshqQn8AAB8eW4eCQ1NMUmFQ/y0PvFhMAEqFeR0UP+i7IHDeqoKih4LFaiaYKJX29OgrUX07ryE3vekAAACNQZrKSahBbJlMCG///oywAAA9FkmXDVw4nlewARB6lLZd2PR8165Fwc2vKGyyJlXHExefOZEdkFiGJ7VBlFoNTR/FKo05M1i0hKa23B88bDu96w3oXBlAZho1nUJyHmrP+Fft4jnjMlIikbQNEiyUGsf94UCoT++mow2whLi9aZ/sDcH7SpjWH53o4PRgAAAAhkGa7knhClJlMCG//oywAAA9B8czuYDJKagF5qlC1gBkPguf4Od++HHG4fWQzqrwLh6CA3jR/TzaAjIJyDDZGvAgWTrk1Esc1DQOmRK2gqF1crwOw64M2Dh/Q372q0nYX3qO7P9pbWuFvpB38Afxy7WePTR/59ZeLGNUBhbf3zVVwSthgvGJAAAAX0GfDEU0TCv/AAAT619itu509Ahrd4tDPLQjlPqAAH7mJ3OwfNjQF0KNk5M5Dc/uRlotAftSu0LFBOzcUYnFWUONW/RXr+fJ1HBY6wum+sjZQixSRwZhC0MCiCLTf3e7AAAASgGfK3RCfwAAHxjKWRZ9dqBG7o/fWT7JLYALqJaUXbrD5BL7fL+1UCim6a+mqfnTen98dexxPPOa9SlVg3LV7+F/xMTH5dZNxNHBAAAALwGfLWpCfwAAHxbuqKDqVAAE3EvFwa01Gh1fPiogk4boVgzWHEEP+gTnVTTo+VmgAAAAdkGbMUmoQWiZTAhv//6MsAAAPQfHNFkXJEXigFRY6TIheYYoMflKz1IOVzDNAjw9044BmftgTo9iH/uHiQCIOidiXAi8rYSwxgENc9E3fKE6IHwKAmJi02VW2QPJVuv09+wvTEPXqTJwKa9D0BA0PS73BfJmg9kAAABKQZ9PRREsK/8AABPwRooFRKAk3sOQyduj88lJ1/+gJTNN+od59TTTk+8Q5IjMM5ntzJGq9eE+iMogJH+Kk2q5bLsBsYGbvFtA+YEAAAA0AZ9wakJ/AAAfCacF4kOzQSMWIlqDtJBaSrMH5y47GmMlke5cYjQdsiyKkXjjeUB/JxR9wQAAAJ1Bm3NJqEFsmUwUTDf//oywAAA9XCXKBItjSsjYA/DkANTnAD5W1GOoljijpXQ5vrWkBp/W/V7avnJrk7VNew6nRYkO9zldzOJNwDQVjqg0tFo9EXrlU8DLjeO8i3WmHtpPKjf8/Ja0TrCmJrkolI6gckGpYqCFodRYHTu4HLzolnzlsSMCZe/N4qA1O1E1GqzsAKv8K9L6QR81UNKhAAAAQQGfkmpCfwAAHxa/w89ylriYcROh1dwxA1ykQBqpEsEYOhTObjEPuXWRABqM+N5nL58hPwHB5ZNRoC3GU1VyA3pAAAAAf0Gbl0nhClJlMCG//oywAAA9XCWdV+a6opixkBNoSjxILHlB94A511goPaYzobsSUvrFAFBvUCi6At2pb84tBnheq4/kPSst3lrEiDaY6rcbBsJWEjYVnB/cJXe1aJaHMVtI6BxDfkQdOlfyu5Pc6sJUTdawX+ItY3k/i9SPcdwAAABEQZ+1RTRMK/8AABPlNz9sSbt1OEaen9kGKM8KncKAoYjtoYTqFZHTX5WnABmgA2oLog8ndsqudce6aFvSep02aFTmSqEAAABJAZ/UdEJ/AAAfCI4shIgrEmJa+OhC3Uw3+507B3N4JlvMjyMpAAlqnhVbFkJ/HhgActJk8DF3mHdumUct8IXRYTcgnN516Mn8ZgAAAEUBn9ZqQn8AAB5mwOjtaKjl557iFA4JaTPVm3Un9YocuJlj3JCVmH/Uy+AC3PSkiT4kVf9rcRu4EBhxw+zICjSxoiBYqlQAAACJQZvbSahBaJlMCG///oywAAA7nGzvcfd6h7K4y/UvngTfVgFLi4don08i+DVOkqcuIuwfteDdIGnP4YK9flQRev+zwTgkK4BXQ5df5xqmF6cBDGc01EblV0rTg3OGkMpj5tEljXvuZiEKX3X2KwqZDLrbsOZogdJqIPqCiJi4PFhOoMh2q28KcMEAAABPQZ/5RREsK/8AABNWLseL8fYSR5bQ3ncS9dzIiNADaet4EuBdAG0feb4NY3Gc8QIJxSdGGACZHo8CprSYAq0r4PPQWyVKVcgKtBH/OGcqYQAAADQBnhh0Qn8AAB5oyjY6VuOEmyIR5LCb6EABC7DQzuOMMZedFrIfVt2NoJvJE1s2hou9rhoDAAAAOAGeGmpCfwAAHlmmf1mPpcSMLpbm2lTxfR0z/v8Bd1A2Gzo+RZWMse49dXAYqSj13ns3FsZEPTjgAAAAq0GaH0moQWyZTAhv//6MsAAAO5yHobgDlwu4/KTW+c3Q9zFKTZ6JXiSfHaIn9zN2W2cTO3ZJEx3tBUe0X/d4iC7mn45OXg7WYN+BVt5r9t6xHrwfGh+SOFQpYqwTts3Kr+j1drNWxegnXDk7qXG7sD2QqxU3F/u8YQ81nZBBCWhwS350o5LUpqvoem9PvF52licOkd1aRh4+HJ/dIn8jt4GSNls5uu/h+5DpyQAAAF5Bnj1FFSwr/wAAE10YUTPcwuVG4M4aAIFRKOc56fGnXhN5vAapAEcWYm6tnMHXbDch+jupEQsijpENiVStd3sFHldH7iGzZ87Z20okp/FRed1bp6DgxXBnTXfbUNqRAAAASQGeXHRCfwAAHmjKWRalcLRPOEk5/TDFUmeyP2RcgLeZN1IJm/cAhUbMdu/YniGPq1lArLzBOgf7oLwyhE8Va8Jnoi9kwvkiVMAAAAA6AZ5eakJ/AAAeWaZ/WY+mvW5T+xFnSphK+BUVyFz+8Fu/EqvRz91G3rs0XS9zTAZkDqrLiVQF0Nh8wAAAAIxBmkNJqEFsmUwIb//+jLAAADv8J0GGcc3OlzC7ZqtTIwOoppT3uagCC88mwBVe8OEAn3v90MAx6xL3/X9RgmuZjV6qNaSAN51DaaG/oYMXcr0fRIWjAu21WFdVR/ua9ShfbIeBcgPuH7WWmlB3J/ymgxpJWvpHPrB4+rW1aTTnyyaFZrvOPjbUxCNzRQAAAEdBnmFFFSwr/wAAE2I5t3ip8/4ZLPDFlswsIqGEHuuCYIHwAfWGYrEYzhpLeO31cfL7qu6nqCnynjGFna7BetujM5fipjSPmAAAAEgBnoB0Qn8AAB5W6PaiYHERfUgSM+kYoteJNuhVkhuTcQ0RA/TrO4iEPGvgqkWWg97Wzf5yAAnVyToETx33ZMo/WSc8Ob4j4YEAAAA7AZ6CakJ/AAAeXI2Jqo4kVXlPRG1o0HcCWXPBinUjaEvDggsSRZB02KUOenQAf5xUJEfMdzD0jztseYEAAACbQZqHSahBbJlMCG///oywAAA6VnkGbocSSJ5YIj65AAF1J3+WD9G5OmzxxL4S4VFK3Mvpx7QZUiVca+7BiseQ1kxZul+e5p62SdwtcecCFapiTWsOyv3O1UIYPrHAfA2PRPXQoAK3wi+YCjUFWtzINKElweYkhXLeWDMni3AK3/49+Q6IerlFHs93MedqeRHzyqw+9lze2XKqG0AAAABDQZ6lRRUsK/8AABLVtbr1b1wddChr/ndUFUHLhBBLV9ti/xoGf6ZfalYLAEFJm4UVHljqlftHOXH2oeaF5Vr1KbPIWQAAADQBnsR0Qn8AAB24yyOi8yvqvBfnfkbFJMpRxZB41Gk3QWeaGIJDmmiEMkQ3Sk72ho6r21tAAAAAOwGexmpCfwAAHb4/sX0tGGoDjuTbYjTXa6YQts1Au/Zx6LRWfxZFCPi0A6stgpCm3Kyagghes34M+rdBAAAAoEGayUmoQWyZTBRMN//+jLAAADpLE4zfZk8nM60yWWjc7THI/EYGRt/Agu8QSfpf4JTKjVsWEFgkfaEubOoUHbiz1WEnHQ3w1wArLD2tl/B3AjBPS7P2TroLmOA7DYKprF/6oe7lgKNPVR0o1pJWsHMjQ65hN6wVESOqbKisjV1686SOawQ51K3AkFeKHdZQjsOTk29+MtxnwgNp9YKNkSEAAABBAZ7oakJ/AAAdvkB59LBPzxo5LQ8Q8ry2DckD2tpbtqTUkzi8cKfqaDrb4wnwATtUTs6kU5ho2IkFLMXZ+YRyAfAAAAB9QZrrSeEKUmUwUsN//oywAAA6PCqcTq8ISAHsiW1O7SGgBn6iqYEkpm/GMcVAImwAKixv4S4HISzp1LYdF1iDFWgqfwBKPPI2P42sL1a76kjp5bsmevPjZqQXDrqvCibKsIgwcx1w2asUy/VUATKm+4auF8sWzQlJdZ2qvlgAAAA+AZ8KakJ/AAAdqO02vPRh25N6ABumsDrfN0oNZ8tHLTmi4ToF9wjdvNUb2ESs+D+sEy5mhz0dDV4spOMZdo8AAACcQZsPSeEOiZTAhv/+jLAAADqcJ0GIhBjOg9vX7cUIUAineyxX+dFBRz6RhzSTxU2awcqsNrzONp4MzSNv+/6Nzs4eWNsVt/QIUXRA5+lG6xjiKbH2f+nWnehEyhvjs/ucIpsI7hn4a9NeWNcYEEvpJ5wFf+WtP/3KBsJokQ0Su0oZoLKy9v3B/HK1elkCS814xRLZSOdjtykutRyAAAAAPEGfLUUVPCv/AAAS2LMElZIzKIpqAwRrkoX0bLwBh1Cvv1Jj1bj3OdZoD7tETVAIaLa7XHM8p7jdBTVM4QAAAEcBn0x0Qn8AAB24ya4fm4uNIUSDqquisGJGeoog+ZUNW5DIIcwi8P1IKfJcXP2Sjze17WroAHvtAcYpWNScMaZO+8kAiPLG6AAAADwBn05qQn8AAB2si7AkYRY7scNVaB/8nh1wBK4UIhUs0NYqc5FZYurVsLcXU9+QS87jT7ACDM0vmWWXTOEAAAClQZtTSahBaJlMCGf//jhAAADcy2o5ywAjFYHDyxQs40IN2GrjY4hJBJNnCPltlJ8M6TpuygqzSumAAhBIe0SiJZy2RyR+kK68DJiFCEjXO0FWfBDfjX8b2SlN5JvNM5rPFrDn7kt+tKG2k7tMmZpAq2RS1OsH1xNLDnbtIRyhXIhy/+9X8aonz/TatfzE8BiizsQktmjOBzdkUf2tmGlm1falFizDAAAAR0GfcUURLCv/AAASXSVDQoYMnoQEIQMzhPhY8u7PXw5+RgM4K96dkh8Yw00OdUNYbSyAEtU2kLVcwK75A+qgATq5g9J6vuFRAAAAUgGfkHRCfwAAHO4pmp7QyDxsc2vCBt73I8SpKXa51iuIL65nzO7pp5vZXjX7LwKspvSV8ADzWq9L3CZYA6uQ0q3TH5kPPG/Xmdw3GCeiBdp9jOEAAAA3AZ+SakJ/AAAdBdiS6Z5dCVJL6ihYNzLA3wdIqgKiMgWMDgYf0DVJBIxZBWrU3IPRwFUn+GbNqQAAAFRBm5ZJqEFsmUwIV//94QAAAwNeJlnd0urLzPvxlOAAN/xVb6RMDJTImFGNQOP4lZq//6bK8d51tS+wkwsF7kmLqbYv4OTwI0BQOH7oHKSEk/QBaCoAAAA7QZ+0RRUsK/8AABJiOhoSZxT+GCTh6Nsnb7xw2RzLV2TqiUTUH3MMLpoFpyEqXua85zEHJ54b0gl70DkAAAA5AZ/VakJ/AAAdBmM3sIUi1kJsNge9zcGUeM61jnrbNYBM4PviFmpFkgAF8t5vlTu+c/Bbvjpw5EucAAAAVUGb10moQWyZTAhP//yEAAANP6IsYTq6doFEQcg1B0prh1A84/vTXMTIPrxKc0YIuNYVD/YFmMRrgA2bu6fntD7Z4wFvi8bQiUWW9k/gtzQK39Gvi54AADG9bW9vdgAAAGxtdmhkAAAAAAAAAAAAAAAAAAAD6AAAgtwAAQAAAQAAAAAAAAAAAAAAAAEAAAAAAAAAAAAAAAAAAAABAAAAAAAAAAAAAAAAAABAAAAAAAAAAAAAAAAAAAAAAAAAAAAAAAAAAAAAAAAAAgAAMOd0cmFrAAAAXHRraGQAAAADAAAAAAAAAAAAAAABAAAAAAAAgtwAAAAAAAAAAAAAAAAAAAAAAAEAAAAAAAAAAAAAAAAAAAABAAAAAAAAAAAAAAAAAABAAAAAAmAAAAGQAAAAAAAkZWR0cwAAABxlbHN0AAAAAAAAAAEAAILcAAAEAAABAAAAADBfbWRpYQAAACBtZGhkAAAAAAAAAAAAAAAAAAA8AAAH2gBVxAAAAAAALWhkbHIAAAAAAAAAAHZpZGUAAAAAAAAAAAAAAABWaWRlb0hhbmRsZXIAAAAwCm1pbmYAAAAUdm1oZAAAAAEAAAAAAAAAAAAAACRkaW5mAAAAHGRyZWYAAAAAAAAAAQAAAAx1cmwgAAAAAQAAL8pzdGJsAAAAlnN0c2QAAAAAAAAAAQAAAIZhdmMxAAAAAAAAAAEAAAAAAAAAAAAAAAAAAAAAAmABkABIAAAASAAAAAAAAAABAAAAAAAAAAAAAAAAAAAAAAAAAAAAAAAAAAAAAAAAAAAAGP//AAAAMGF2Y0MBZAAe/+EAGGdkAB6s2UCYM6EAAAMAAQAAAwA8DxYtlgEABWjr5yyLAAAAGHN0dHMAAAAAAAAAAQAAA+0AAAIAAAAAJHN0c3MAAAAAAAAABQAAAAEAAAD7AAAB9QAAAlwAAANWAAAe+GN0dHMAAAAAAAAD3QAAAAEAAAQAAAAAAQAACgAAAAABAAAEAAAAAAEAAAAAAAAAAQAAAgAAAAABAAAKAAAAAAEAAAQAAAAAAQAAAAAAAAABAAACAAAAAAEAAAoAAAAAAQAABAAAAAABAAAAAAAAAAEAAAIAAAAAAQAACgAAAAABAAAEAAAAAAEAAAAAAAAAAQAAAgAAAAABAAAKAAAAAAEAAAQAAAAAAQAAAAAAAAABAAACAAAAAAEAAAoAAAAAAQAABAAAAAABAAAAAAAAAAEAAAIAAAAAAQAACgAAAAABAAAEAAAAAAEAAAAAAAAAAQAAAgAAAAABAAAKAAAAAAEAAAQAAAAAAQAAAAAAAAABAAACAAAAAAEAAAoAAAAAAQAABAAAAAABAAAAAAAAAAEAAAIAAAAAAQAACgAAAAABAAAEAAAAAAEAAAAAAAAAAQAAAgAAAAABAAAKAAAAAAEAAAQAAAAAAQAAAAAAAAABAAACAAAAAAEAAAoAAAAAAQAABAAAAAABAAAAAAAAAAEAAAIAAAAAAQAACgAAAAABAAAEAAAAAAEAAAAAAAAAAQAAAgAAAAABAAAKAAAAAAEAAAQAAAAAAQAAAAAAAAABAAACAAAAAAEAAAoAAAAAAQAABAAAAAABAAAAAAAAAAEAAAIAAAAAAQAACgAAAAABAAAEAAAAAAEAAAAAAAAAAQAAAgAAAAABAAAKAAAAAAEAAAQAAAAAAQAAAAAAAAABAAACAAAAAAEAAAoAAAAAAQAABAAAAAABAAAAAAAAAAEAAAIAAAAAAQAACgAAAAABAAAEAAAAAAEAAAAAAAAAAQAAAgAAAAABAAAKAAAAAAEAAAQAAAAAAQAAAAAAAAABAAACAAAAAAEAAAoAAAAAAQAABAAAAAABAAAAAAAAAAEAAAIAAAAAAQAACgAAAAABAAAEAAAAAAEAAAAAAAAAAQAAAgAAAAABAAAKAAAAAAEAAAQAAAAAAQAAAAAAAAABAAACAAAAAAEAAAoAAAAAAQAABAAAAAABAAAAAAAAAAEAAAIAAAAAAQAACgAAAAABAAAEAAAAAAEAAAAAAAAAAQAAAgAAAAABAAAKAAAAAAEAAAQAAAAAAQAAAAAAAAABAAACAAAAAAEAAAoAAAAAAQAABAAAAAABAAAAAAAAAAEAAAIAAAAAAQAACgAAAAABAAAEAAAAAAEAAAAAAAAAAQAAAgAAAAABAAAKAAAAAAEAAAQAAAAAAQAAAAAAAAABAAACAAAAAAEAAAoAAAAAAQAABAAAAAABAAAAAAAAAAEAAAIAAAAAAQAACgAAAAABAAAEAAAAAAEAAAAAAAAAAQAAAgAAAAABAAAKAAAAAAEAAAQAAAAAAQAAAAAAAAABAAACAAAAAAEAAAoAAAAAAQAABAAAAAABAAAAAAAAAAEAAAIAAAAAAQAACgAAAAABAAAEAAAAAAEAAAAAAAAAAQAAAgAAAAABAAAKAAAAAAEAAAQAAAAAAQAAAAAAAAABAAACAAAAAAEAAAoAAAAAAQAABAAAAAABAAAAAAAAAAEAAAIAAAAAAQAACgAAAAABAAAEAAAAAAEAAAAAAAAAAQAAAgAAAAABAAAKAAAAAAEAAAQAAAAAAQAAAAAAAAABAAACAAAAAAEAAAoAAAAAAQAABAAAAAABAAAAAAAAAAEAAAIAAAAAAQAACgAAAAABAAAEAAAAAAEAAAAAAAAAAQAAAgAAAAABAAAKAAAAAAEAAAQAAAAAAQAAAAAAAAABAAACAAAAAAEAAAoAAAAAAQAABAAAAAABAAAAAAAAAAEAAAIAAAAAAQAACgAAAAABAAAEAAAAAAEAAAAAAAAAAQAAAgAAAAABAAAKAAAAAAEAAAQAAAAAAQAAAAAAAAABAAACAAAAAAEAAAoAAAAAAQAABAAAAAABAAAAAAAAAAEAAAIAAAAAAQAACgAAAAABAAAEAAAAAAEAAAAAAAAAAQAAAgAAAAABAAAKAAAAAAEAAAQAAAAAAQAAAAAAAAABAAACAAAAAAEAAAoAAAAAAQAABAAAAAABAAAAAAAAAAEAAAIAAAAAAQAACgAAAAABAAAEAAAAAAEAAAAAAAAAAQAAAgAAAAABAAAKAAAAAAEAAAQAAAAAAQAAAAAAAAABAAACAAAAAAEAAAoAAAAAAQAABAAAAAABAAAAAAAAAAEAAAIAAAAAAQAACgAAAAABAAAEAAAAAAEAAAAAAAAAAQAAAgAAAAABAAAKAAAAAAEAAAQAAAAAAQAAAAAAAAABAAACAAAAAAEAAAoAAAAAAQAABAAAAAABAAAAAAAAAAEAAAIAAAAAAQAACgAAAAABAAAEAAAAAAEAAAAAAAAAAQAAAgAAAAABAAAKAAAAAAEAAAQAAAAAAQAAAAAAAAABAAACAAAAAAEAAAoAAAAAAQAABAAAAAABAAAAAAAAAAEAAAIAAAAAAQAACgAAAAABAAAEAAAAAAEAAAAAAAAAAQAAAgAAAAABAAAKAAAAAAEAAAQAAAAAAQAAAAAAAAABAAACAAAAAAEAAAoAAAAAAQAABAAAAAABAAAAAAAAAAEAAAIAAAAAAQAACgAAAAABAAAEAAAAAAEAAAAAAAAAAQAAAgAAAAABAAAKAAAAAAEAAAQAAAAAAQAAAAAAAAABAAACAAAAAAIAAAQAAAAAAQAACgAAAAABAAAEAAAAAAEAAAAAAAAAAQAAAgAAAAABAAAKAAAAAAEAAAQAAAAAAQAAAAAAAAABAAACAAAAAAEAAAoAAAAAAQAABAAAAAABAAAAAAAAAAEAAAIAAAAAAQAACgAAAAABAAAEAAAAAAEAAAAAAAAAAQAAAgAAAAABAAAGAAAAAAEAAAIAAAAAAQAACgAAAAABAAAEAAAAAAEAAAAAAAAAAQAAAgAAAAABAAAKAAAAAAEAAAQAAAAAAQAAAAAAAAABAAACAAAAAAEAAAoAAAAAAQAABAAAAAABAAAAAAAAAAEAAAIAAAAAAQAACgAAAAABAAAEAAAAAAEAAAAAAAAAAQAAAgAAAAABAAAKAAAAAAEAAAQAAAAAAQAAAAAAAAABAAACAAAAAAEAAAoAAAAAAQAABAAAAAABAAAAAAAAAAEAAAIAAAAAAQAACgAAAAABAAAEAAAAAAEAAAAAAAAAAQAAAgAAAAABAAAKAAAAAAEAAAQAAAAAAQAAAAAAAAABAAACAAAAAAEAAAoAAAAAAQAABAAAAAABAAAAAAAAAAEAAAIAAAAAAQAACgAAAAABAAAEAAAAAAEAAAAAAAAAAQAAAgAAAAABAAAKAAAAAAEAAAQAAAAAAQAAAAAAAAABAAACAAAAAAEAAAYAAAAAAQAAAgAAAAABAAAKAAAAAAEAAAQAAAAAAQAAAAAAAAABAAACAAAAAAEAAAoAAAAAAQAABAAAAAABAAAAAAAAAAEAAAIAAAAAAQAACgAAAAABAAAEAAAAAAEAAAAAAAAAAQAAAgAAAAABAAAKAAAAAAEAAAQAAAAAAQAAAAAAAAABAAACAAAAAAEAAAoAAAAAAQAABAAAAAABAAAAAAAAAAEAAAIAAAAAAQAACgAAAAABAAAEAAAAAAEAAAAAAAAAAQAAAgAAAAABAAAKAAAAAAEAAAQAAAAAAQAAAAAAAAABAAACAAAAAAEAAAoAAAAAAQAABAAAAAABAAAAAAAAAAEAAAIAAAAAAQAACgAAAAABAAAEAAAAAAEAAAAAAAAAAQAAAgAAAAABAAAKAAAAAAEAAAQAAAAAAQAAAAAAAAABAAACAAAAAAEAAAoAAAAAAQAABAAAAAABAAAAAAAAAAEAAAIAAAAAAQAACgAAAAABAAAEAAAAAAEAAAAAAAAAAQAAAgAAAAABAAAKAAAAAAEAAAQAAAAAAQAAAAAAAAABAAACAAAAAAEAAAoAAAAAAQAABAAAAAABAAAAAAAAAAEAAAIAAAAAAQAACgAAAAABAAAEAAAAAAEAAAAAAAAAAQAAAgAAAAABAAAKAAAAAAEAAAQAAAAAAQAAAAAAAAABAAACAAAAAAEAAAoAAAAAAQAABAAAAAABAAAAAAAAAAEAAAIAAAAAAQAACgAAAAABAAAEAAAAAAEAAAAAAAAAAQAAAgAAAAABAAAKAAAAAAEAAAQAAAAAAQAAAAAAAAABAAACAAAAAAEAAAoAAAAAAQAABAAAAAABAAAAAAAAAAEAAAIAAAAAAQAACgAAAAABAAAEAAAAAAEAAAAAAAAAAQAAAgAAAAABAAAKAAAAAAEAAAQAAAAAAQAAAAAAAAABAAACAAAAAAEAAAoAAAAAAQAABAAAAAABAAAAAAAAAAEAAAIAAAAAAQAABgAAAAABAAACAAAAAAEAAAgAAAAAAgAAAgAAAAABAAAIAAAAAAIAAAIAAAAAAQAABAAAAAABAAAKAAAAAAEAAAQAAAAAAQAAAAAAAAABAAACAAAAAAEAAAYAAAAAAQAAAgAAAAABAAAKAAAAAAEAAAQAAAAAAQAAAAAAAAABAAACAAAAAAEAAAoAAAAAAQAABAAAAAABAAAAAAAAAAEAAAIAAAAAAQAACgAAAAABAAAEAAAAAAEAAAAAAAAAAQAAAgAAAAABAAAKAAAAAAEAAAQAAAAAAQAAAAAAAAABAAACAAAAAAEAAAoAAAAAAQAABAAAAAABAAAAAAAAAAEAAAIAAAAAAQAACgAAAAABAAAEAAAAAAEAAAAAAAAAAQAAAgAAAAABAAAIAAAAAAIAAAIAAAAAAQAABAAAAAABAAAKAAAAAAEAAAQAAAAAAQAAAAAAAAABAAACAAAAAAEAAAoAAAAAAQAABAAAAAABAAAAAAAAAAEAAAIAAAAAAQAACgAAAAABAAAEAAAAAAEAAAAAAAAAAQAAAgAAAAABAAAKAAAAAAEAAAQAAAAAAQAAAAAAAAABAAACAAAAAAEAAAoAAAAAAQAABAAAAAABAAAAAAAAAAEAAAIAAAAAAQAACgAAAAABAAAEAAAAAAEAAAAAAAAAAQAAAgAAAAABAAAKAAAAAAEAAAQAAAAAAQAAAAAAAAABAAACAAAAAAEAAAoAAAAAAQAABAAAAAABAAAAAAAAAAEAAAIAAAAAAQAACgAAAAABAAAEAAAAAAEAAAAAAAAAAQAAAgAAAAABAAAKAAAAAAEAAAQAAAAAAQAAAAAAAAABAAACAAAAAAEAAAoAAAAAAQAABAAAAAABAAAAAAAAAAEAAAIAAAAAAQAACgAAAAABAAAEAAAAAAEAAAAAAAAAAQAAAgAAAAABAAAGAAAAAAEAAAIAAAAAAQAABAAAAAABAAAKAAAAAAEAAAQAAAAAAQAAAAAAAAABAAACAAAAAAEAAAoAAAAAAQAABAAAAAABAAAAAAAAAAEAAAIAAAAAAQAACgAAAAABAAAEAAAAAAEAAAAAAAAAAQAAAgAAAAABAAAKAAAAAAEAAAQAAAAAAQAAAAAAAAABAAACAAAAAAEAAAoAAAAAAQAABAAAAAABAAAAAAAAAAEAAAIAAAAAAQAACgAAAAABAAAEAAAAAAEAAAAAAAAAAQAAAgAAAAABAAAKAAAAAAEAAAQAAAAAAQAAAAAAAAABAAACAAAAAAEAAAoAAAAAAQAABAAAAAABAAAAAAAAAAEAAAIAAAAAAQAACgAAAAABAAAEAAAAAAEAAAAAAAAAAQAAAgAAAAABAAAKAAAAAAEAAAQAAAAAAQAAAAAAAAABAAACAAAAAAEAAAoAAAAAAQAABAAAAAABAAAAAAAAAAEAAAIAAAAAAQAACgAAAAABAAAEAAAAAAEAAAAAAAAAAQAAAgAAAAABAAAKAAAAAAEAAAQAAAAAAQAAAAAAAAABAAACAAAAAAEAAAQAAAAAAQAACgAAAAABAAAEAAAAAAEAAAAAAAAAAQAAAgAAAAABAAAKAAAAAAEAAAQAAAAAAQAAAAAAAAABAAACAAAAAAEAAAoAAAAAAQAABAAAAAABAAAAAAAAAAEAAAIAAAAAAgAABAAAAAABAAAKAAAAAAEAAAQAAAAAAQAAAAAAAAABAAACAAAAAAEAAAoAAAAAAQAABAAAAAABAAAAAAAAAAEAAAIAAAAAAQAACAAAAAACAAACAAAAAAEAAAgAAAAAAgAAAgAAAAABAAAIAAAAAAIAAAIAAAAAAQAABgAAAAABAAACAAAAAAEAAAoAAAAAAQAABAAAAAABAAAAAAAAAAEAAAIAAAAAAQAACAAAAAACAAACAAAAAAEAAAoAAAAAAQAABAAAAAABAAAAAAAAAAEAAAIAAAAAAQAABgAAAAABAAACAAAAAAEAAAgAAAAAAgAAAgAAAAABAAAEAAAAAAEAAAoAAAAAAQAABAAAAAABAAAAAAAAAAEAAAIAAAAAAQAACgAAAAABAAAEAAAAAAEAAAAAAAAAAQAAAgAAAAABAAAKAAAAAAEAAAQAAAAAAQAAAAAAAAABAAACAAAAAAEAAAoAAAAAAQAABAAAAAABAAAAAAAAAAEAAAIAAAAAAQAACgAAAAABAAAEAAAAAAEAAAAAAAAAAQAAAgAAAAABAAAKAAAAAAEAAAQAAAAAAQAAAAAAAAABAAACAAAAAAEAAAoAAAAAAQAABAAAAAABAAAAAAAAAAEAAAIAAAAAAQAACgAAAAABAAAEAAAAAAEAAAAAAAAAAQAAAgAAAAABAAAKAAAAAAEAAAQAAAAAAQAAAAAAAAABAAACAAAAAAEAAAoAAAAAAQAABAAAAAABAAAAAAAAAAEAAAIAAAAAAQAACgAAAAABAAAEAAAAAAEAAAAAAAAAAQAAAgAAAAABAAAKAAAAAAEAAAQAAAAAAQAAAAAAAAABAAACAAAAAAEAAAoAAAAAAQAABAAAAAABAAAAAAAAAAEAAAIAAAAAAQAACgAAAAABAAAEAAAAAAEAAAAAAAAAAQAAAgAAAAABAAAKAAAAAAEAAAQAAAAAAQAAAAAAAAABAAACAAAAAAEAAAoAAAAAAQAABAAAAAABAAAAAAAAAAEAAAIAAAAAAQAACgAAAAABAAAEAAAAAAEAAAAAAAAAAQAAAgAAAAABAAAKAAAAAAEAAAQAAAAAAQAAAAAAAAABAAACAAAAAAEAAAoAAAAAAQAABAAAAAABAAAAAAAAAAEAAAIAAAAAAQAACgAAAAABAAAEAAAAAAEAAAAAAAAAAQAAAgAAAAABAAAKAAAAAAEAAAQAAAAAAQAAAAAAAAABAAACAAAAAAEAAAoAAAAAAQAABAAAAAABAAAAAAAAAAEAAAIAAAAAAQAACgAAAAABAAAEAAAAAAEAAAAAAAAAAQAAAgAAAAABAAAKAAAAAAEAAAQAAAAAAQAAAAAAAAABAAACAAAAAAEAAAoAAAAAAQAABAAAAAABAAAAAAAAAAEAAAIAAAAAAQAACgAAAAABAAAEAAAAAAEAAAAAAAAAAQAAAgAAAAABAAAKAAAAAAEAAAQAAAAAAQAAAAAAAAABAAACAAAAAAEAAAoAAAAAAQAABAAAAAABAAAAAAAAAAEAAAIAAAAAAQAACgAAAAABAAAEAAAAAAEAAAAAAAAAAQAAAgAAAAABAAAKAAAAAAEAAAQAAAAAAQAAAAAAAAABAAACAAAAAAEAAAoAAAAAAQAABAAAAAABAAAAAAAAAAEAAAIAAAAAAQAACgAAAAABAAAEAAAAAAEAAAAAAAAAAQAAAgAAAAABAAAKAAAAAAEAAAQAAAAAAQAAAAAAAAABAAACAAAAAAEAAAoAAAAAAQAABAAAAAABAAAAAAAAAAEAAAIAAAAAAQAACgAAAAABAAAEAAAAAAEAAAAAAAAAAQAAAgAAAAABAAAKAAAAAAEAAAQAAAAAAQAAAAAAAAABAAACAAAAAAEAAAoAAAAAAQAABAAAAAABAAAAAAAAAAEAAAIAAAAAAQAACgAAAAABAAAEAAAAAAEAAAAAAAAAAQAAAgAAAAABAAAKAAAAAAEAAAQAAAAAAQAAAAAAAAABAAACAAAAAAEAAAoAAAAAAQAABAAAAAABAAAAAAAAAAEAAAIAAAAAAQAACgAAAAABAAAEAAAAAAEAAAAAAAAAAQAAAgAAAAABAAAKAAAAAAEAAAQAAAAAAQAAAAAAAAABAAACAAAAAAEAAAoAAAAAAQAABAAAAAABAAAAAAAAAAEAAAIAAAAAAQAACgAAAAABAAAEAAAAAAEAAAAAAAAAAQAAAgAAAAABAAAKAAAAAAEAAAQAAAAAAQAAAAAAAAABAAACAAAAAAEAAAoAAAAAAQAABAAAAAABAAAAAAAAAAEAAAIAAAAAAQAACgAAAAABAAAEAAAAAAEAAAAAAAAAAQAAAgAAAAABAAAKAAAAAAEAAAQAAAAAAQAAAAAAAAABAAACAAAAAAEAAAgAAAAAAgAAAgAAAAABAAAKAAAAAAEAAAQAAAAAAQAAAAAAAAABAAACAAAAAAEAAAgAAAAAAgAAAgAAAAABAAAKAAAAAAEAAAQAAAAAAQAAAAAAAAABAAACAAAAAAEAAAoAAAAAAQAABAAAAAABAAAAAAAAAAEAAAIAAAAAAQAACgAAAAABAAAEAAAAAAEAAAAAAAAAAQAAAgAAAAABAAAKAAAAAAEAAAQAAAAAAQAAAAAAAAABAAACAAAAAAEAAAoAAAAAAQAABAAAAAABAAAAAAAAAAEAAAIAAAAAAQAACgAAAAABAAAEAAAAAAEAAAAAAAAAAQAAAgAAAAABAAAKAAAAAAEAAAQAAAAAAQAAAAAAAAABAAACAAAAAAEAAAoAAAAAAQAABAAAAAABAAAAAAAAAAEAAAIAAAAAAQAACgAAAAABAAAEAAAAAAEAAAAAAAAAAQAAAgAAAAABAAAKAAAAAAEAAAQAAAAAAQAAAAAAAAABAAACAAAAAAEAAAoAAAAAAQAABAAAAAABAAAAAAAAAAEAAAIAAAAAAQAACAAAAAACAAACAAAAAAEAAAQAAAAAAQAACgAAAAABAAAEAAAAAAEAAAAAAAAAAQAAAgAAAAABAAAKAAAAAAEAAAQAAAAAAQAAAAAAAAABAAACAAAAAAEAAAoAAAAAAQAABAAAAAABAAAAAAAAAAEAAAIAAAAAAQAACAAAAAACAAACAAAAAAEAAAoAAAAAAQAABAAAAAABAAAAAAAAAAEAAAIAAAAAAQAACgAAAAABAAAEAAAAAAEAAAAAAAAAAQAAAgAAAAABAAAKAAAAAAEAAAQAAAAAAQAAAAAAAAABAAACAAAAAAEAAAoAAAAAAQAABAAAAAABAAAAAAAAAAEAAAIAAAAAAQAACgAAAAABAAAEAAAAAAEAAAAAAAAAAQAAAgAAAAABAAAKAAAAAAEAAAQAAAAAAQAAAAAAAAABAAACAAAAAAEAAAoAAAAAAQAABAAAAAABAAAAAAAAAAEAAAIAAAAAAQAABgAAAAABAAACAAAAAAEAAAoAAAAAAQAABAAAAAABAAAAAAAAAAEAAAIAAAAAAQAACgAAAAABAAAEAAAAAAEAAAAAAAAAAQAAAgAAAAABAAAGAAAAAAEAAAIAAAAAAQAACgAAAAABAAAEAAAAAAEAAAAAAAAAAQAAAgAAAAABAAAKAAAAAAEAAAQAAAAAAQAAAAAAAAABAAACAAAAAAEAAAoAAAAAAQAABAAAAAABAAAAAAAAAAEAAAIAAAAAAQAABgAAAAABAAACAAAAAAEAAAoAAAAAAQAABAAAAAABAAAAAAAAAAEAAAIAAAAAAQAACgAAAAABAAAEAAAAAAEAAAAAAAAAAQAAAgAAAAABAAAKAAAAAAEAAAQAAAAAAQAAAAAAAAABAAACAAAAAAEAAAoAAAAAAQAABAAAAAABAAAAAAAAAAEAAAIAAAAAAQAACgAAAAABAAAEAAAAAAEAAAAAAAAAAQAAAgAAAAABAAAKAAAAAAEAAAQAAAAAAQAAAAAAAAABAAACAAAAAAEAAAoAAAAAAQAABAAAAAABAAAAAAAAAAEAAAIAAAAAAQAACgAAAAABAAAEAAAAAAEAAAAAAAAAAQAAAgAAAAABAAAKAAAAAAEAAAQAAAAAAQAAAAAAAAABAAACAAAAAAEAAAQAAAAAAQAACgAAAAABAAAEAAAAAAEAAAAAAAAAAQAAAgAAAAABAAAIAAAAAAIAAAIAAAAAAQAABgAAAAABAAACAAAAAAEAAAoAAAAAAQAABAAAAAABAAAAAAAAAAEAAAIAAAAAAQAACgAAAAABAAAEAAAAAAEAAAAAAAAAAQAAAgAAAAABAAAKAAAAAAEAAAQAAAAAAQAAAAAAAAABAAACAAAAAAEAAAoAAAAAAQAABAAAAAABAAAAAAAAAAEAAAIAAAAAAQAACgAAAAABAAAEAAAAAAEAAAAAAAAAAQAAAgAAAAABAAAGAAAAAAEAAAIAAAAAAQAABgAAAAABAAACAAAAAAEAAAoAAAAAAQAABAAAAAABAAAAAAAAAAEAAAIAAAAAAQAACgAAAAABAAAEAAAAAAEAAAAAAAAAAQAAAgAAAAABAAAIAAAAAAIAAAIAAAAAAQAABAAAAAAcc3RzYwAAAAAAAAABAAAAAQAAA+0AAAABAAAPyHN0c3oAAAAAAAAAAAAAA+0AAATkAAAA7AAAAFgAAABAAAAAMAAAAHcAAABAAAAAJgAAACcAAACMAAAALAAAAB4AAAAhAAAAXAAAACMAAAAZAAAAHwAAAI4AAAAxAAAAGQAAACYAAAA0AAAAOQAAACAAAAAcAAAAcwAAADEAAAAjAAAAGwAAAFIAAAAwAAAAGQAAACkAAABjAAAAJwAAABYAAAAnAAAAPQAAACsAAAAgAAAAGgAAAEAAAAAeAAAAGAAAABUAAABoAAAAJAAAABkAAAAiAAAAPwAAADsAAAAyAAAANQAAAC8AAAAaAAAAGwAAABYAAAAfAAAAGgAAABcAAAAeAAAAJwAAABoAAAAVAAAAFgAAAEQAAAArAAAANgAAACAAAABHAAAALAAAACsAAAAWAAAAQAAAAB0AAAAXAAAAFwAAAEMAAAA7AAAAJQAAACUAAABaAAAAJAAAACEAAAAWAAAANQAAADgAAAAdAAAAHwAAADUAAAA4AAAAHgAAADYAAABKAAAAJAAAACEAAAAZAAAAYQAAACQAAAAqAAAAIAAAAD0AAABLAAAAJQAAADEAAAA1AAAAMwAAAB4AAAAgAAAATgAAACQAAAAYAAAAMAAAAFQAAAAsAAAAMAAAAC8AAAAvAAAAKQAAAB4AAAAbAAAAVQAAACMAAAAVAAAAHgAAAHkAAAAyAAAAIwAAABsAAAA/AAAAHQAAAB0AAAAYAAAANgAAABsAAAAWAAAAHgAAAFsAAAAhAAAAJAAAABYAAAArAAAAGAAAABYAAAASAAAAYwAAACUAAAAhAAAAGAAAADUAAAAYAAAAFgAAABIAAABeAAAANQAAABYAAAAmAAAARAAAAEYAAAAeAAAAHgAAACcAAAAdAAAAHwAAABkAAABmAAAAPwAAACYAAAAwAAAAXwAAACEAAAApAAAAHAAAAFAAAAA2AAAALgAAADAAAABfAAAAIgAAABYAAAAcAAAAWQAAACkAAAAoAAAAJQAAAFUAAAAiAAAALQAAACsAAAAvAAAAHAAAABgAAAAhAAAAmgAAACEAAAAtAAAAIwAAADAAAAAYAAAAFAAAABUAAABsAAAALwAAACQAAAAbAAAAaQAAACcAAAAXAAAAJgAAAGEAAAA3AAAAJgAAADIAAABQAAAAMAAAACkAAAAeAAAAJQAAAEMAAAAtAAAAHwAAAGwAAAAmAAAAIAAAACsAAABHAAAAQgAAADAAAAAnAAAAbwAAACkAAAAUAAAANQAAADIAAAAuAAAANAAAABsAAAB3AAAAMwAAAC0AAAAUAAAAZgAAACwAAAAYAAAAKgAAADgAAAAeAAAAGAAAABcAAAAqAAAB3QAAAJoAAAAnAAAAHQAAADIAAAA3AAAAGwAAABQAAAAWAAAAgAAAADAAAAAqAAAAJQAAAEYAAAA3AAAAGgAAABsAAABiAAAAHQAAAFsAAAAuAAAAOwAAABkAAABTAAAAMQAAAB0AAAAoAAAAbgAAACoAAAAaAAAANgAAAGUAAAAmAAAAFgAAADAAAAA5AAAAHwAAACoAAAAaAAAATQAAACQAAAAhAAAAGAAAAGoAAAA0AAAAJAAAABgAAABNAAAANgAAACcAAAAeAAAAeQAAADUAAAAjAAAAHgAAAEoAAAAlAAAAGwAAACcAAABsAAAAPQAAAB4AAAArAAAATQAAABkAAABtAAAAJwAAADMAAAAqAAAAlQAAADEAAAAhAAAAFgAAAGUAAAA+AAAAJAAAAB8AAABjAAAAJQAAACkAAAAcAAAAaAAAACQAAAA0AAAAKAAAAI4AAAAsAAAANAAAACgAAABxAAAARQAAACMAAAAdAAAATAAAADIAAAAcAAAAIAAAAFEAAAAzAAAAHAAAAB8AAABKAAAASAAAACEAAAAcAAAAeAAAACYAAAAdAAAAHwAAAHYAAAAzAAAAHgAAAB0AAABLAAAAOQAAAB8AAAAhAAAAbAAAADUAAAAhAAAAIgAAAHcAAAA9AAAAOQAAAB8AAACOAAAAOAAAAC0AAAAuAAAAkAAAAEEAAAAqAAAAIQAAAJ0AAABNAAAANgAAADoAAAB7AAAAVwAAADMAAAApAAAArQAAAFUAAAAsAAAALQAAAJ4AAABUAAAAOgAAADEAAAESAAAAawAAADsAAAA/AAAAeQAAAEgAAAAuAAAAKgAAAHsAAAA3AAAAawAAAC8AAAAsAAAAXwAAADkAAAAwAAAAYwAAAJYAAABRAAAAMQAAADEAAAB8AAAATAAAAGgAAABjAAAAOgAAADAAAADYAAAANwAAAC4AAAAjAAAAdAAAACUAAAAvAAAAGwAAAEoAAAAsAAAAKAAAABsAAABVAAAALQAAADcAAAAvAAAAigAAADUAAAAlAAAAMAAAAGMAAAA0AAAAKgAAAD8AAACMAAAANAAAACYAAAAnAAAAXQAAACwAAAApAAAAHwAAALQAAAA2AAAAMgAAADYAAABIAAAALgAAACAAAAAoAAAAXgAAAC4AAAAoAAAAIAAAAFAAAAApAAAAMgAAAC0AAABvAAAARAAAACwAAAA/AAAAngAAAEgAAAAuAAAALgAAAIEAAABBAAAAJwAAACcAAABkAAAALwAAADQAAAAwAAAAWAAAACoAAAAlAAAAHwAAAJcAAAA7AAAAKgAAAC4AAAA7AAAAKgAAAgkAAACHAAAAMAAAACsAAAAmAAAAdQAAACwAAAAqAAAAMQAAAHQAAAApAAAASgAAACgAAABlAAAAOwAAADoAAAA9AAAAYwAAAFIAAAA1AAAAKwAAAJEAAABZAAAAKwAAAC8AAACAAAAANAAAADkAAAA0AAAAggAAADgAAAA5AAAAOgAAAF0AAABTAAAANAAAAEgAAACEAAAAQwAAADgAAAAuAAAAuwAAAFEAAAAsAAAANQAAAM0AAABPAAAARAAAADkAAAC1AAAARwAAAD0AAAA1AAAAgwAAAIgAAABCAAAANAAAADIAAACbAAAAWwAAADQAAAA1AAAAvwAAAEQAAAA3AAAAOAAAAHMAAABvAAAAhgAAAFoAAAA3AAAAQAAAAMYAAABHAAAAQQAAAEMAAACLAAAAUgAAAEwAAACEAAAAQAAAAEcAAADBAAAAWQAAAE4AAACiAAAAVQAAAL8AAABSAAAAOQAAAEMAAACaAAAAQAAAAFUAAACWAAAAYgAAAEEAAAA9AAAAoQAAAEgAAABfAAAASQAAAFAAAAIYAAAAhgAAACEAAAAuAAAAJgAAAGwAAAAzAAAAGgAAACIAAAB/AAAAIgAAABgAAAAdAAAAdgAAADMAAAAsAAAAIgAAAGAAAAAuAAAAIwAAADAAAABTAAAARwAAACQAAAAvAAAASgAAAEQAAAAgAAAANAAAAFUAAAA8AAAAKgAAACgAAABiAAAAIAAAACIAAAASAAAAdgAAACgAAAAyAAAAGQAAAGEAAAA1AAAAOQAAABoAAACCAAAALgAAACIAAAAiAAAAhgAAADUAAAAiAAAAKAAAAIwAAAAlAAAAMwAAABwAAABmAAAAQwAAAC8AAAApAAAAdgAAAC4AAAAcAAAAJwAAADgAAAA2AAAAMAAAACoAAABhAAAAJwAAABYAAAAlAAAAQAAAABsAAAAWAAAAFgAAAHwAAAAqAAAAMQAAABgAAABOAAAAOQAAADcAAAAjAAAAbAAAACgAAAAtAAAAHQAAAJYAAAApAAAANAAAACYAAABQAAAANgAAACgAAAAtAAAAZwAAACkAAAAUAAAAMAAAAF8AAAAsAAAAGwAAACsAAAA9AAAAIQAAABoAAAAaAAAAWgAAADIAAAAsAAAAHgAAAHoAAAA2AAAAIQAAACAAAABXAAAAPAAAADAAAAAqAAAAawAAACYAAAAqAAAAGwAAAE0AAAAhAAAAKQAAABIAAACSAAAAQwAAADsAAAAaAAAAkQAAACcAAAA/AAAAIgAAAJAAAAA0AAAAJAAAAB4AAABQAAAAOgAAAB0AAAAtAAAATgAAADAAAAAaAAAAIQAAAIkAAAAlAAAAEgAAADAAAAB8AAAAKAAAACUAAAA3AAAASwAAACsAAAAwAAAARAAAAEMAAAArAAAAKwAAADMAAABQAAAAJwAAADAAAAApAAAAZQAAACkAAAAWAAAAGwAAAE8AAAAuAAAALgAAACUAAABEAAAALwAAACwAAAAqAAAAYQAAADAAAAAoAAAAHgAAAHAAAAAsAAAAIAAAACkAAAB5AAAAMwAAACsAAAArAAAAYwAAADkAAAAxAAAAhgAAAEUAAAAnAAAAIQAAARkAAAA/AAAANwAAAHUAAABAAAAAKAAAACYAAAB/AAAAUQAAADEAAAAnAAAAcwAAAEIAAAAkAAAAKAAAAGkAAAA8AAAAKAAAAC8AAABpAAAASAAAAC0AAAAjAAAAfAAAAEcAAAA+AAAAQgAAAGoAAAA4AAAAPAAAAC4AAACtAAAASAAAACsAAAAkAAAAlgAAADwAAAAiAAAAKwAAAGQAAAAoAAAAGAAAACwAAABYAAAAPQAAACoAAAAwAAAAPgAAACgAAAAlAAABvwAAAHsAAAA2AAAANAAAAB4AAAB8AAAAQAAAACsAAAAmAAAAlwAAACwAAAAcAAAAIwAAAFsAAAA7AAAAHgAAAKAAAAA6AAAAOQAAACYAAABoAAAAPQAAACwAAAAwAAAAowAAADAAAAArAAAAOgAAAD4AAAApAAAAKgAAADEAAAB3AAAALAAAACAAAAAgAAAARwAAAC8AAAAxAAAAJwAAAHkAAAAvAAAAIgAAADMAAACVAAAALQAAAIIAAAAwAAAAJwAAACUAAACCAAAAKAAAACkAAAAiAAAAmwAAADAAAAB5AAAAPAAAADAAAAA1AAAAWgAAADoAAAAkAAAALgAAAGgAAAAtAAAAKwAAAC8AAABOAAAAQAAAAKAAAABAAAAAOwAAAC0AAACBAAAAPgAAACUAAAArAAAAjgAAAD8AAAA8AAAAKAAAAIMAAABGAAAANgAAACkAAABjAAAATwAAACsAAAArAAAAXQAAADYAAAAuAAAAKgAAAIgAAAA4AAAAPgAAADsAAACmAAAAWAAAAEEAAABFAAAAagAAAFcAAAAyAAAAQAAAAJEAAACKAAAAYwAAAE4AAAAzAAAAegAAAE4AAAA4AAAAoQAAAEUAAACDAAAASAAAAE0AAABJAAAAjQAAAFMAAAA4AAAAPAAAAK8AAABiAAAATQAAAD4AAACQAAAASwAAAEwAAAA/AAAAnwAAAEcAAAA4AAAAPwAAAKQAAABFAAAAgQAAAEIAAACgAAAAQAAAAEsAAABAAAAAqQAAAEsAAABWAAAAOwAAAFgAAAA/AAAAPQAAAFkAAAAUc3RjbwAAAAAAAAABAAAAMAAAAGJ1ZHRhAAAAWm1ldGEAAAAAAAAAIWhkbHIAAAAAAAAAAG1kaXJhcHBsAAAAAAAAAAAAAAAALWlsc3QAAAAlqXRvbwAAAB1kYXRhAAAAAQAAAABMYXZmNTcuODMuMTAw\" type=\"video/mp4\">\n",
              "  Your browser does not support the video tag.\n",
              "  </video>"
            ],
            "text/plain": [
              "<IPython.core.display.HTML object>"
            ]
          },
          "metadata": {},
          "execution_count": 52
        }
      ]
    },
    {
      "cell_type": "markdown",
      "metadata": {
        "id": "povaAOcZygLw"
      },
      "source": [
        "For fun, compare the trained agent (above) to an agent moving randomly. (It does not do as well.)"
      ]
    },
    {
      "cell_type": "code",
      "metadata": {
        "id": "pJZIdC37yNH4",
        "colab": {
          "base_uri": "https://localhost:8080/",
          "height": 537
        },
        "outputId": "66326d63-d68a-4ee6-ecfc-f851c8f1654a"
      },
      "source": [
        "create_policy_eval_video(random_policy, \"random-agent\")"
      ],
      "execution_count": 53,
      "outputs": [
        {
          "output_type": "stream",
          "name": "stderr",
          "text": [
            "WARNING:root:IMAGEIO FFMPEG_WRITER WARNING: input image is not divisible by macro_block_size=16, resizing from (400, 600) to (400, 608) to ensure video compatibility with most codecs and players. To prevent resizing, make your input image divisible by the macro_block_size or set the macro_block_size to None (risking incompatibility). You may also see a FFMPEG warning concerning speedloss due to data not being aligned.\n"
          ]
        },
        {
          "output_type": "execute_result",
          "data": {
            "text/html": [
              "\n",
              "  <video width=\"640\" height=\"480\" controls>\n",
              "    <source src=\"data:video/mp4;base64,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\" type=\"video/mp4\">\n",
              "  Your browser does not support the video tag.\n",
              "  </video>"
            ],
            "text/plain": [
              "<IPython.core.display.HTML object>"
            ]
          },
          "metadata": {},
          "execution_count": 53
        }
      ]
    },
    {
      "cell_type": "code",
      "metadata": {
        "id": "Svu8GQ-KS1Lf"
      },
      "source": [
        ""
      ],
      "execution_count": 53,
      "outputs": []
    }
  ]
}